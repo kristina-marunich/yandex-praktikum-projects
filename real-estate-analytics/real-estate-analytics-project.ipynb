{
 "cells": [
  {
   "cell_type": "markdown",
   "metadata": {},
   "source": [
    "# Исследование объявлений о продаже квартир\n",
    "\n",
    "Мы работаем с архивом о продаже квартир. Необходимо определить рыночную стоимость и установить типичные параметры продаваемых квартир."
   ]
  },
  {
   "cell_type": "markdown",
   "metadata": {},
   "source": [
    "### Шаг 1. Изучение общей информации о данных"
   ]
  },
  {
   "cell_type": "code",
   "execution_count": 1,
   "metadata": {},
   "outputs": [],
   "source": [
    "import pandas as pd \n",
    "import matplotlib.pyplot as plt \n",
    "import numpy as np\n",
    "from pymystem3 import Mystem \n",
    "m = Mystem()\n",
    "from collections import Counter\n",
    "import warnings\n",
    "warnings.filterwarnings(\"ignore\")\n",
    "from matplotlib.ticker import MaxNLocator"
   ]
  },
  {
   "cell_type": "code",
   "execution_count": 2,
   "metadata": {},
   "outputs": [],
   "source": [
    "data = pd.read_csv('/datasets/real_estate_data.csv', sep='\\t')\n",
    "pd.set_option('display.max_columns', 100)"
   ]
  },
  {
   "cell_type": "code",
   "execution_count": 3,
   "metadata": {},
   "outputs": [
    {
     "data": {
      "text/html": [
       "<div>\n",
       "<style scoped>\n",
       "    .dataframe tbody tr th:only-of-type {\n",
       "        vertical-align: middle;\n",
       "    }\n",
       "\n",
       "    .dataframe tbody tr th {\n",
       "        vertical-align: top;\n",
       "    }\n",
       "\n",
       "    .dataframe thead th {\n",
       "        text-align: right;\n",
       "    }\n",
       "</style>\n",
       "<table border=\"1\" class=\"dataframe\">\n",
       "  <thead>\n",
       "    <tr style=\"text-align: right;\">\n",
       "      <th></th>\n",
       "      <th>total_images</th>\n",
       "      <th>last_price</th>\n",
       "      <th>total_area</th>\n",
       "      <th>first_day_exposition</th>\n",
       "      <th>rooms</th>\n",
       "      <th>ceiling_height</th>\n",
       "      <th>floors_total</th>\n",
       "      <th>living_area</th>\n",
       "      <th>floor</th>\n",
       "      <th>is_apartment</th>\n",
       "      <th>studio</th>\n",
       "      <th>open_plan</th>\n",
       "      <th>kitchen_area</th>\n",
       "      <th>balcony</th>\n",
       "      <th>locality_name</th>\n",
       "      <th>airports_nearest</th>\n",
       "      <th>cityCenters_nearest</th>\n",
       "      <th>parks_around3000</th>\n",
       "      <th>parks_nearest</th>\n",
       "      <th>ponds_around3000</th>\n",
       "      <th>ponds_nearest</th>\n",
       "      <th>days_exposition</th>\n",
       "    </tr>\n",
       "  </thead>\n",
       "  <tbody>\n",
       "    <tr>\n",
       "      <td>0</td>\n",
       "      <td>20</td>\n",
       "      <td>13000000.0</td>\n",
       "      <td>108.0</td>\n",
       "      <td>2019-03-07T00:00:00</td>\n",
       "      <td>3</td>\n",
       "      <td>2.70</td>\n",
       "      <td>16.0</td>\n",
       "      <td>51.0</td>\n",
       "      <td>8</td>\n",
       "      <td>NaN</td>\n",
       "      <td>False</td>\n",
       "      <td>False</td>\n",
       "      <td>25.0</td>\n",
       "      <td>NaN</td>\n",
       "      <td>Санкт-Петербург</td>\n",
       "      <td>18863.0</td>\n",
       "      <td>16028.0</td>\n",
       "      <td>1.0</td>\n",
       "      <td>482.0</td>\n",
       "      <td>2.0</td>\n",
       "      <td>755.0</td>\n",
       "      <td>NaN</td>\n",
       "    </tr>\n",
       "    <tr>\n",
       "      <td>1</td>\n",
       "      <td>7</td>\n",
       "      <td>3350000.0</td>\n",
       "      <td>40.4</td>\n",
       "      <td>2018-12-04T00:00:00</td>\n",
       "      <td>1</td>\n",
       "      <td>NaN</td>\n",
       "      <td>11.0</td>\n",
       "      <td>18.6</td>\n",
       "      <td>1</td>\n",
       "      <td>NaN</td>\n",
       "      <td>False</td>\n",
       "      <td>False</td>\n",
       "      <td>11.0</td>\n",
       "      <td>2.0</td>\n",
       "      <td>посёлок Шушары</td>\n",
       "      <td>12817.0</td>\n",
       "      <td>18603.0</td>\n",
       "      <td>0.0</td>\n",
       "      <td>NaN</td>\n",
       "      <td>0.0</td>\n",
       "      <td>NaN</td>\n",
       "      <td>81.0</td>\n",
       "    </tr>\n",
       "    <tr>\n",
       "      <td>2</td>\n",
       "      <td>10</td>\n",
       "      <td>5196000.0</td>\n",
       "      <td>56.0</td>\n",
       "      <td>2015-08-20T00:00:00</td>\n",
       "      <td>2</td>\n",
       "      <td>NaN</td>\n",
       "      <td>5.0</td>\n",
       "      <td>34.3</td>\n",
       "      <td>4</td>\n",
       "      <td>NaN</td>\n",
       "      <td>False</td>\n",
       "      <td>False</td>\n",
       "      <td>8.3</td>\n",
       "      <td>0.0</td>\n",
       "      <td>Санкт-Петербург</td>\n",
       "      <td>21741.0</td>\n",
       "      <td>13933.0</td>\n",
       "      <td>1.0</td>\n",
       "      <td>90.0</td>\n",
       "      <td>2.0</td>\n",
       "      <td>574.0</td>\n",
       "      <td>558.0</td>\n",
       "    </tr>\n",
       "    <tr>\n",
       "      <td>3</td>\n",
       "      <td>0</td>\n",
       "      <td>64900000.0</td>\n",
       "      <td>159.0</td>\n",
       "      <td>2015-07-24T00:00:00</td>\n",
       "      <td>3</td>\n",
       "      <td>NaN</td>\n",
       "      <td>14.0</td>\n",
       "      <td>NaN</td>\n",
       "      <td>9</td>\n",
       "      <td>NaN</td>\n",
       "      <td>False</td>\n",
       "      <td>False</td>\n",
       "      <td>NaN</td>\n",
       "      <td>0.0</td>\n",
       "      <td>Санкт-Петербург</td>\n",
       "      <td>28098.0</td>\n",
       "      <td>6800.0</td>\n",
       "      <td>2.0</td>\n",
       "      <td>84.0</td>\n",
       "      <td>3.0</td>\n",
       "      <td>234.0</td>\n",
       "      <td>424.0</td>\n",
       "    </tr>\n",
       "    <tr>\n",
       "      <td>4</td>\n",
       "      <td>2</td>\n",
       "      <td>10000000.0</td>\n",
       "      <td>100.0</td>\n",
       "      <td>2018-06-19T00:00:00</td>\n",
       "      <td>2</td>\n",
       "      <td>3.03</td>\n",
       "      <td>14.0</td>\n",
       "      <td>32.0</td>\n",
       "      <td>13</td>\n",
       "      <td>NaN</td>\n",
       "      <td>False</td>\n",
       "      <td>False</td>\n",
       "      <td>41.0</td>\n",
       "      <td>NaN</td>\n",
       "      <td>Санкт-Петербург</td>\n",
       "      <td>31856.0</td>\n",
       "      <td>8098.0</td>\n",
       "      <td>2.0</td>\n",
       "      <td>112.0</td>\n",
       "      <td>1.0</td>\n",
       "      <td>48.0</td>\n",
       "      <td>121.0</td>\n",
       "    </tr>\n",
       "  </tbody>\n",
       "</table>\n",
       "</div>"
      ],
      "text/plain": [
       "   total_images  last_price  total_area first_day_exposition  rooms  \\\n",
       "0            20  13000000.0       108.0  2019-03-07T00:00:00      3   \n",
       "1             7   3350000.0        40.4  2018-12-04T00:00:00      1   \n",
       "2            10   5196000.0        56.0  2015-08-20T00:00:00      2   \n",
       "3             0  64900000.0       159.0  2015-07-24T00:00:00      3   \n",
       "4             2  10000000.0       100.0  2018-06-19T00:00:00      2   \n",
       "\n",
       "   ceiling_height  floors_total  living_area  floor is_apartment  studio  \\\n",
       "0            2.70          16.0         51.0      8          NaN   False   \n",
       "1             NaN          11.0         18.6      1          NaN   False   \n",
       "2             NaN           5.0         34.3      4          NaN   False   \n",
       "3             NaN          14.0          NaN      9          NaN   False   \n",
       "4            3.03          14.0         32.0     13          NaN   False   \n",
       "\n",
       "   open_plan  kitchen_area  balcony    locality_name  airports_nearest  \\\n",
       "0      False          25.0      NaN  Санкт-Петербург           18863.0   \n",
       "1      False          11.0      2.0   посёлок Шушары           12817.0   \n",
       "2      False           8.3      0.0  Санкт-Петербург           21741.0   \n",
       "3      False           NaN      0.0  Санкт-Петербург           28098.0   \n",
       "4      False          41.0      NaN  Санкт-Петербург           31856.0   \n",
       "\n",
       "   cityCenters_nearest  parks_around3000  parks_nearest  ponds_around3000  \\\n",
       "0              16028.0               1.0          482.0               2.0   \n",
       "1              18603.0               0.0            NaN               0.0   \n",
       "2              13933.0               1.0           90.0               2.0   \n",
       "3               6800.0               2.0           84.0               3.0   \n",
       "4               8098.0               2.0          112.0               1.0   \n",
       "\n",
       "   ponds_nearest  days_exposition  \n",
       "0          755.0              NaN  \n",
       "1            NaN             81.0  \n",
       "2          574.0            558.0  \n",
       "3          234.0            424.0  \n",
       "4           48.0            121.0  "
      ]
     },
     "execution_count": 3,
     "metadata": {},
     "output_type": "execute_result"
    }
   ],
   "source": [
    "data.head()"
   ]
  },
  {
   "cell_type": "code",
   "execution_count": 4,
   "metadata": {},
   "outputs": [
    {
     "name": "stdout",
     "output_type": "stream",
     "text": [
      "<class 'pandas.core.frame.DataFrame'>\n",
      "RangeIndex: 23699 entries, 0 to 23698\n",
      "Data columns (total 22 columns):\n",
      "total_images            23699 non-null int64\n",
      "last_price              23699 non-null float64\n",
      "total_area              23699 non-null float64\n",
      "first_day_exposition    23699 non-null object\n",
      "rooms                   23699 non-null int64\n",
      "ceiling_height          14504 non-null float64\n",
      "floors_total            23613 non-null float64\n",
      "living_area             21796 non-null float64\n",
      "floor                   23699 non-null int64\n",
      "is_apartment            2775 non-null object\n",
      "studio                  23699 non-null bool\n",
      "open_plan               23699 non-null bool\n",
      "kitchen_area            21421 non-null float64\n",
      "balcony                 12180 non-null float64\n",
      "locality_name           23650 non-null object\n",
      "airports_nearest        18157 non-null float64\n",
      "cityCenters_nearest     18180 non-null float64\n",
      "parks_around3000        18181 non-null float64\n",
      "parks_nearest           8079 non-null float64\n",
      "ponds_around3000        18181 non-null float64\n",
      "ponds_nearest           9110 non-null float64\n",
      "days_exposition         20518 non-null float64\n",
      "dtypes: bool(2), float64(14), int64(3), object(3)\n",
      "memory usage: 3.7+ MB\n"
     ]
    }
   ],
   "source": [
    "data.info()"
   ]
  },
  {
   "cell_type": "code",
   "execution_count": 5,
   "metadata": {},
   "outputs": [
    {
     "data": {
      "text/html": [
       "<div>\n",
       "<style scoped>\n",
       "    .dataframe tbody tr th:only-of-type {\n",
       "        vertical-align: middle;\n",
       "    }\n",
       "\n",
       "    .dataframe tbody tr th {\n",
       "        vertical-align: top;\n",
       "    }\n",
       "\n",
       "    .dataframe thead th {\n",
       "        text-align: right;\n",
       "    }\n",
       "</style>\n",
       "<table border=\"1\" class=\"dataframe\">\n",
       "  <thead>\n",
       "    <tr style=\"text-align: right;\">\n",
       "      <th></th>\n",
       "      <th>total_images</th>\n",
       "      <th>last_price</th>\n",
       "      <th>total_area</th>\n",
       "      <th>rooms</th>\n",
       "      <th>ceiling_height</th>\n",
       "      <th>floors_total</th>\n",
       "      <th>living_area</th>\n",
       "      <th>floor</th>\n",
       "      <th>kitchen_area</th>\n",
       "      <th>balcony</th>\n",
       "      <th>airports_nearest</th>\n",
       "      <th>cityCenters_nearest</th>\n",
       "      <th>parks_around3000</th>\n",
       "      <th>parks_nearest</th>\n",
       "      <th>ponds_around3000</th>\n",
       "      <th>ponds_nearest</th>\n",
       "      <th>days_exposition</th>\n",
       "    </tr>\n",
       "  </thead>\n",
       "  <tbody>\n",
       "    <tr>\n",
       "      <td>count</td>\n",
       "      <td>23699.000000</td>\n",
       "      <td>2.369900e+04</td>\n",
       "      <td>23699.000000</td>\n",
       "      <td>23699.000000</td>\n",
       "      <td>14504.000000</td>\n",
       "      <td>23613.000000</td>\n",
       "      <td>21796.000000</td>\n",
       "      <td>23699.000000</td>\n",
       "      <td>21421.000000</td>\n",
       "      <td>12180.000000</td>\n",
       "      <td>18157.000000</td>\n",
       "      <td>18180.000000</td>\n",
       "      <td>18181.000000</td>\n",
       "      <td>8079.000000</td>\n",
       "      <td>18181.000000</td>\n",
       "      <td>9110.000000</td>\n",
       "      <td>20518.000000</td>\n",
       "    </tr>\n",
       "    <tr>\n",
       "      <td>mean</td>\n",
       "      <td>9.858475</td>\n",
       "      <td>6.541549e+06</td>\n",
       "      <td>60.348651</td>\n",
       "      <td>2.070636</td>\n",
       "      <td>2.771499</td>\n",
       "      <td>10.673824</td>\n",
       "      <td>34.457852</td>\n",
       "      <td>5.892358</td>\n",
       "      <td>10.569807</td>\n",
       "      <td>1.150082</td>\n",
       "      <td>28793.672193</td>\n",
       "      <td>14191.277833</td>\n",
       "      <td>0.611408</td>\n",
       "      <td>490.804555</td>\n",
       "      <td>0.770255</td>\n",
       "      <td>517.980900</td>\n",
       "      <td>180.888634</td>\n",
       "    </tr>\n",
       "    <tr>\n",
       "      <td>std</td>\n",
       "      <td>5.682529</td>\n",
       "      <td>1.088701e+07</td>\n",
       "      <td>35.654083</td>\n",
       "      <td>1.078405</td>\n",
       "      <td>1.261056</td>\n",
       "      <td>6.597173</td>\n",
       "      <td>22.030445</td>\n",
       "      <td>4.885249</td>\n",
       "      <td>5.905438</td>\n",
       "      <td>1.071300</td>\n",
       "      <td>12630.880622</td>\n",
       "      <td>8608.386210</td>\n",
       "      <td>0.802074</td>\n",
       "      <td>342.317995</td>\n",
       "      <td>0.938346</td>\n",
       "      <td>277.720643</td>\n",
       "      <td>219.727988</td>\n",
       "    </tr>\n",
       "    <tr>\n",
       "      <td>min</td>\n",
       "      <td>0.000000</td>\n",
       "      <td>1.219000e+04</td>\n",
       "      <td>12.000000</td>\n",
       "      <td>0.000000</td>\n",
       "      <td>1.000000</td>\n",
       "      <td>1.000000</td>\n",
       "      <td>2.000000</td>\n",
       "      <td>1.000000</td>\n",
       "      <td>1.300000</td>\n",
       "      <td>0.000000</td>\n",
       "      <td>0.000000</td>\n",
       "      <td>181.000000</td>\n",
       "      <td>0.000000</td>\n",
       "      <td>1.000000</td>\n",
       "      <td>0.000000</td>\n",
       "      <td>13.000000</td>\n",
       "      <td>1.000000</td>\n",
       "    </tr>\n",
       "    <tr>\n",
       "      <td>25%</td>\n",
       "      <td>6.000000</td>\n",
       "      <td>3.400000e+06</td>\n",
       "      <td>40.000000</td>\n",
       "      <td>1.000000</td>\n",
       "      <td>2.520000</td>\n",
       "      <td>5.000000</td>\n",
       "      <td>18.600000</td>\n",
       "      <td>2.000000</td>\n",
       "      <td>7.000000</td>\n",
       "      <td>0.000000</td>\n",
       "      <td>18585.000000</td>\n",
       "      <td>9238.000000</td>\n",
       "      <td>0.000000</td>\n",
       "      <td>288.000000</td>\n",
       "      <td>0.000000</td>\n",
       "      <td>294.000000</td>\n",
       "      <td>45.000000</td>\n",
       "    </tr>\n",
       "    <tr>\n",
       "      <td>50%</td>\n",
       "      <td>9.000000</td>\n",
       "      <td>4.650000e+06</td>\n",
       "      <td>52.000000</td>\n",
       "      <td>2.000000</td>\n",
       "      <td>2.650000</td>\n",
       "      <td>9.000000</td>\n",
       "      <td>30.000000</td>\n",
       "      <td>4.000000</td>\n",
       "      <td>9.100000</td>\n",
       "      <td>1.000000</td>\n",
       "      <td>26726.000000</td>\n",
       "      <td>13098.500000</td>\n",
       "      <td>0.000000</td>\n",
       "      <td>455.000000</td>\n",
       "      <td>1.000000</td>\n",
       "      <td>502.000000</td>\n",
       "      <td>95.000000</td>\n",
       "    </tr>\n",
       "    <tr>\n",
       "      <td>75%</td>\n",
       "      <td>14.000000</td>\n",
       "      <td>6.800000e+06</td>\n",
       "      <td>69.900000</td>\n",
       "      <td>3.000000</td>\n",
       "      <td>2.800000</td>\n",
       "      <td>16.000000</td>\n",
       "      <td>42.300000</td>\n",
       "      <td>8.000000</td>\n",
       "      <td>12.000000</td>\n",
       "      <td>2.000000</td>\n",
       "      <td>37273.000000</td>\n",
       "      <td>16293.000000</td>\n",
       "      <td>1.000000</td>\n",
       "      <td>612.000000</td>\n",
       "      <td>1.000000</td>\n",
       "      <td>729.000000</td>\n",
       "      <td>232.000000</td>\n",
       "    </tr>\n",
       "    <tr>\n",
       "      <td>max</td>\n",
       "      <td>50.000000</td>\n",
       "      <td>7.630000e+08</td>\n",
       "      <td>900.000000</td>\n",
       "      <td>19.000000</td>\n",
       "      <td>100.000000</td>\n",
       "      <td>60.000000</td>\n",
       "      <td>409.700000</td>\n",
       "      <td>33.000000</td>\n",
       "      <td>112.000000</td>\n",
       "      <td>5.000000</td>\n",
       "      <td>84869.000000</td>\n",
       "      <td>65968.000000</td>\n",
       "      <td>3.000000</td>\n",
       "      <td>3190.000000</td>\n",
       "      <td>3.000000</td>\n",
       "      <td>1344.000000</td>\n",
       "      <td>1580.000000</td>\n",
       "    </tr>\n",
       "  </tbody>\n",
       "</table>\n",
       "</div>"
      ],
      "text/plain": [
       "       total_images    last_price    total_area         rooms  ceiling_height  \\\n",
       "count  23699.000000  2.369900e+04  23699.000000  23699.000000    14504.000000   \n",
       "mean       9.858475  6.541549e+06     60.348651      2.070636        2.771499   \n",
       "std        5.682529  1.088701e+07     35.654083      1.078405        1.261056   \n",
       "min        0.000000  1.219000e+04     12.000000      0.000000        1.000000   \n",
       "25%        6.000000  3.400000e+06     40.000000      1.000000        2.520000   \n",
       "50%        9.000000  4.650000e+06     52.000000      2.000000        2.650000   \n",
       "75%       14.000000  6.800000e+06     69.900000      3.000000        2.800000   \n",
       "max       50.000000  7.630000e+08    900.000000     19.000000      100.000000   \n",
       "\n",
       "       floors_total   living_area         floor  kitchen_area       balcony  \\\n",
       "count  23613.000000  21796.000000  23699.000000  21421.000000  12180.000000   \n",
       "mean      10.673824     34.457852      5.892358     10.569807      1.150082   \n",
       "std        6.597173     22.030445      4.885249      5.905438      1.071300   \n",
       "min        1.000000      2.000000      1.000000      1.300000      0.000000   \n",
       "25%        5.000000     18.600000      2.000000      7.000000      0.000000   \n",
       "50%        9.000000     30.000000      4.000000      9.100000      1.000000   \n",
       "75%       16.000000     42.300000      8.000000     12.000000      2.000000   \n",
       "max       60.000000    409.700000     33.000000    112.000000      5.000000   \n",
       "\n",
       "       airports_nearest  cityCenters_nearest  parks_around3000  parks_nearest  \\\n",
       "count      18157.000000         18180.000000      18181.000000    8079.000000   \n",
       "mean       28793.672193         14191.277833          0.611408     490.804555   \n",
       "std        12630.880622          8608.386210          0.802074     342.317995   \n",
       "min            0.000000           181.000000          0.000000       1.000000   \n",
       "25%        18585.000000          9238.000000          0.000000     288.000000   \n",
       "50%        26726.000000         13098.500000          0.000000     455.000000   \n",
       "75%        37273.000000         16293.000000          1.000000     612.000000   \n",
       "max        84869.000000         65968.000000          3.000000    3190.000000   \n",
       "\n",
       "       ponds_around3000  ponds_nearest  days_exposition  \n",
       "count      18181.000000    9110.000000     20518.000000  \n",
       "mean           0.770255     517.980900       180.888634  \n",
       "std            0.938346     277.720643       219.727988  \n",
       "min            0.000000      13.000000         1.000000  \n",
       "25%            0.000000     294.000000        45.000000  \n",
       "50%            1.000000     502.000000        95.000000  \n",
       "75%            1.000000     729.000000       232.000000  \n",
       "max            3.000000    1344.000000      1580.000000  "
      ]
     },
     "execution_count": 5,
     "metadata": {},
     "output_type": "execute_result"
    }
   ],
   "source": [
    "data.describe()"
   ]
  },
  {
   "cell_type": "code",
   "execution_count": 6,
   "metadata": {},
   "outputs": [
    {
     "data": {
      "text/plain": [
       "False    2725\n",
       "True       50\n",
       "Name: is_apartment, dtype: int64"
      ]
     },
     "execution_count": 6,
     "metadata": {},
     "output_type": "execute_result"
    }
   ],
   "source": [
    "# для категориальных и булевых переменных использую метод value_counts(), чтобы узнать больше инфо\n",
    "data['is_apartment'].value_counts()"
   ]
  },
  {
   "cell_type": "code",
   "execution_count": 7,
   "metadata": {},
   "outputs": [
    {
     "data": {
      "text/plain": [
       "False    23550\n",
       "True       149\n",
       "Name: studio, dtype: int64"
      ]
     },
     "execution_count": 7,
     "metadata": {},
     "output_type": "execute_result"
    }
   ],
   "source": [
    "data['studio'].value_counts()"
   ]
  },
  {
   "cell_type": "code",
   "execution_count": 8,
   "metadata": {},
   "outputs": [
    {
     "data": {
      "text/plain": [
       "False    23632\n",
       "True        67\n",
       "Name: open_plan, dtype: int64"
      ]
     },
     "execution_count": 8,
     "metadata": {},
     "output_type": "execute_result"
    }
   ],
   "source": [
    "data['open_plan'].value_counts()\n"
   ]
  },
  {
   "cell_type": "code",
   "execution_count": 9,
   "metadata": {
    "scrolled": true
   },
   "outputs": [
    {
     "data": {
      "text/plain": [
       "Санкт-Петербург           15721\n",
       "посёлок Мурино              522\n",
       "посёлок Шушары              440\n",
       "Всеволожск                  398\n",
       "Пушкин                      369\n",
       "                          ...  \n",
       "поселок Лисий Нос             1\n",
       "поселок Красносельское        1\n",
       "деревня Куровицы              1\n",
       "деревня Кривко                1\n",
       "деревня Вахнова Кара          1\n",
       "Name: locality_name, Length: 364, dtype: int64"
      ]
     },
     "execution_count": 9,
     "metadata": {},
     "output_type": "execute_result"
    }
   ],
   "source": [
    "data['locality_name'].value_counts() #вижу, что больше половины квартир в СПБ, остальные - в области. \n",
    "# думаю, далее все квартиры из области будет необходимо объединить в одну категорию"
   ]
  },
  {
   "cell_type": "code",
   "execution_count": 10,
   "metadata": {},
   "outputs": [
    {
     "data": {
      "text/plain": [
       "Санкт-Петербург           15721\n",
       "посёлок Мурино              522\n",
       "посёлок Шушары              440\n",
       "Всеволожск                  398\n",
       "Пушкин                      369\n",
       "                          ...  \n",
       "поселок Лисий Нос             1\n",
       "поселок Красносельское        1\n",
       "деревня Куровицы              1\n",
       "деревня Кривко                1\n",
       "деревня Вахнова Кара          1\n",
       "Name: locality_name, Length: 364, dtype: int64"
      ]
     },
     "execution_count": 10,
     "metadata": {},
     "output_type": "execute_result"
    }
   ],
   "source": [
    "data['locality_name'].value_counts()"
   ]
  },
  {
   "cell_type": "code",
   "execution_count": 11,
   "metadata": {},
   "outputs": [
    {
     "data": {
      "text/html": [
       "<div>\n",
       "<style scoped>\n",
       "    .dataframe tbody tr th:only-of-type {\n",
       "        vertical-align: middle;\n",
       "    }\n",
       "\n",
       "    .dataframe tbody tr th {\n",
       "        vertical-align: top;\n",
       "    }\n",
       "\n",
       "    .dataframe thead th {\n",
       "        text-align: right;\n",
       "    }\n",
       "</style>\n",
       "<table border=\"1\" class=\"dataframe\">\n",
       "  <thead>\n",
       "    <tr style=\"text-align: right;\">\n",
       "      <th></th>\n",
       "      <th>total_images</th>\n",
       "      <th>last_price</th>\n",
       "      <th>total_area</th>\n",
       "      <th>first_day_exposition</th>\n",
       "      <th>rooms</th>\n",
       "      <th>ceiling_height</th>\n",
       "      <th>floors_total</th>\n",
       "      <th>living_area</th>\n",
       "      <th>floor</th>\n",
       "      <th>is_apartment</th>\n",
       "      <th>studio</th>\n",
       "      <th>open_plan</th>\n",
       "      <th>kitchen_area</th>\n",
       "      <th>balcony</th>\n",
       "      <th>locality_name</th>\n",
       "      <th>airports_nearest</th>\n",
       "      <th>cityCenters_nearest</th>\n",
       "      <th>parks_around3000</th>\n",
       "      <th>parks_nearest</th>\n",
       "      <th>ponds_around3000</th>\n",
       "      <th>ponds_nearest</th>\n",
       "      <th>days_exposition</th>\n",
       "    </tr>\n",
       "  </thead>\n",
       "  <tbody>\n",
       "    <tr>\n",
       "      <td>0</td>\n",
       "      <td>20</td>\n",
       "      <td>13000000.0</td>\n",
       "      <td>108.0</td>\n",
       "      <td>2019-03-07T00:00:00</td>\n",
       "      <td>3</td>\n",
       "      <td>2.70</td>\n",
       "      <td>16.0</td>\n",
       "      <td>51.0</td>\n",
       "      <td>8</td>\n",
       "      <td>NaN</td>\n",
       "      <td>False</td>\n",
       "      <td>False</td>\n",
       "      <td>25.0</td>\n",
       "      <td>NaN</td>\n",
       "      <td>Санкт-Петербург</td>\n",
       "      <td>18863.0</td>\n",
       "      <td>16028.0</td>\n",
       "      <td>1.0</td>\n",
       "      <td>482.0</td>\n",
       "      <td>2.0</td>\n",
       "      <td>755.0</td>\n",
       "      <td>NaN</td>\n",
       "    </tr>\n",
       "    <tr>\n",
       "      <td>1</td>\n",
       "      <td>7</td>\n",
       "      <td>3350000.0</td>\n",
       "      <td>40.4</td>\n",
       "      <td>2018-12-04T00:00:00</td>\n",
       "      <td>1</td>\n",
       "      <td>NaN</td>\n",
       "      <td>11.0</td>\n",
       "      <td>18.6</td>\n",
       "      <td>1</td>\n",
       "      <td>NaN</td>\n",
       "      <td>False</td>\n",
       "      <td>False</td>\n",
       "      <td>11.0</td>\n",
       "      <td>2.0</td>\n",
       "      <td>посёлок Шушары</td>\n",
       "      <td>12817.0</td>\n",
       "      <td>18603.0</td>\n",
       "      <td>0.0</td>\n",
       "      <td>NaN</td>\n",
       "      <td>0.0</td>\n",
       "      <td>NaN</td>\n",
       "      <td>81.0</td>\n",
       "    </tr>\n",
       "    <tr>\n",
       "      <td>2</td>\n",
       "      <td>10</td>\n",
       "      <td>5196000.0</td>\n",
       "      <td>56.0</td>\n",
       "      <td>2015-08-20T00:00:00</td>\n",
       "      <td>2</td>\n",
       "      <td>NaN</td>\n",
       "      <td>5.0</td>\n",
       "      <td>34.3</td>\n",
       "      <td>4</td>\n",
       "      <td>NaN</td>\n",
       "      <td>False</td>\n",
       "      <td>False</td>\n",
       "      <td>8.3</td>\n",
       "      <td>0.0</td>\n",
       "      <td>Санкт-Петербург</td>\n",
       "      <td>21741.0</td>\n",
       "      <td>13933.0</td>\n",
       "      <td>1.0</td>\n",
       "      <td>90.0</td>\n",
       "      <td>2.0</td>\n",
       "      <td>574.0</td>\n",
       "      <td>558.0</td>\n",
       "    </tr>\n",
       "    <tr>\n",
       "      <td>3</td>\n",
       "      <td>0</td>\n",
       "      <td>64900000.0</td>\n",
       "      <td>159.0</td>\n",
       "      <td>2015-07-24T00:00:00</td>\n",
       "      <td>3</td>\n",
       "      <td>NaN</td>\n",
       "      <td>14.0</td>\n",
       "      <td>NaN</td>\n",
       "      <td>9</td>\n",
       "      <td>NaN</td>\n",
       "      <td>False</td>\n",
       "      <td>False</td>\n",
       "      <td>NaN</td>\n",
       "      <td>0.0</td>\n",
       "      <td>Санкт-Петербург</td>\n",
       "      <td>28098.0</td>\n",
       "      <td>6800.0</td>\n",
       "      <td>2.0</td>\n",
       "      <td>84.0</td>\n",
       "      <td>3.0</td>\n",
       "      <td>234.0</td>\n",
       "      <td>424.0</td>\n",
       "    </tr>\n",
       "    <tr>\n",
       "      <td>4</td>\n",
       "      <td>2</td>\n",
       "      <td>10000000.0</td>\n",
       "      <td>100.0</td>\n",
       "      <td>2018-06-19T00:00:00</td>\n",
       "      <td>2</td>\n",
       "      <td>3.03</td>\n",
       "      <td>14.0</td>\n",
       "      <td>32.0</td>\n",
       "      <td>13</td>\n",
       "      <td>NaN</td>\n",
       "      <td>False</td>\n",
       "      <td>False</td>\n",
       "      <td>41.0</td>\n",
       "      <td>NaN</td>\n",
       "      <td>Санкт-Петербург</td>\n",
       "      <td>31856.0</td>\n",
       "      <td>8098.0</td>\n",
       "      <td>2.0</td>\n",
       "      <td>112.0</td>\n",
       "      <td>1.0</td>\n",
       "      <td>48.0</td>\n",
       "      <td>121.0</td>\n",
       "    </tr>\n",
       "  </tbody>\n",
       "</table>\n",
       "</div>"
      ],
      "text/plain": [
       "   total_images  last_price  total_area first_day_exposition  rooms  \\\n",
       "0            20  13000000.0       108.0  2019-03-07T00:00:00      3   \n",
       "1             7   3350000.0        40.4  2018-12-04T00:00:00      1   \n",
       "2            10   5196000.0        56.0  2015-08-20T00:00:00      2   \n",
       "3             0  64900000.0       159.0  2015-07-24T00:00:00      3   \n",
       "4             2  10000000.0       100.0  2018-06-19T00:00:00      2   \n",
       "\n",
       "   ceiling_height  floors_total  living_area  floor is_apartment  studio  \\\n",
       "0            2.70          16.0         51.0      8          NaN   False   \n",
       "1             NaN          11.0         18.6      1          NaN   False   \n",
       "2             NaN           5.0         34.3      4          NaN   False   \n",
       "3             NaN          14.0          NaN      9          NaN   False   \n",
       "4            3.03          14.0         32.0     13          NaN   False   \n",
       "\n",
       "   open_plan  kitchen_area  balcony    locality_name  airports_nearest  \\\n",
       "0      False          25.0      NaN  Санкт-Петербург           18863.0   \n",
       "1      False          11.0      2.0   посёлок Шушары           12817.0   \n",
       "2      False           8.3      0.0  Санкт-Петербург           21741.0   \n",
       "3      False           NaN      0.0  Санкт-Петербург           28098.0   \n",
       "4      False          41.0      NaN  Санкт-Петербург           31856.0   \n",
       "\n",
       "   cityCenters_nearest  parks_around3000  parks_nearest  ponds_around3000  \\\n",
       "0              16028.0               1.0          482.0               2.0   \n",
       "1              18603.0               0.0            NaN               0.0   \n",
       "2              13933.0               1.0           90.0               2.0   \n",
       "3               6800.0               2.0           84.0               3.0   \n",
       "4               8098.0               2.0          112.0               1.0   \n",
       "\n",
       "   ponds_nearest  days_exposition  \n",
       "0          755.0              NaN  \n",
       "1            NaN             81.0  \n",
       "2          574.0            558.0  \n",
       "3          234.0            424.0  \n",
       "4           48.0            121.0  "
      ]
     },
     "execution_count": 11,
     "metadata": {},
     "output_type": "execute_result"
    }
   ],
   "source": [
    "data.head()"
   ]
  },
  {
   "cell_type": "markdown",
   "metadata": {},
   "source": [
    "Вывод:\n",
    "I. Пропуски в столбцах:\n",
    "1. ceiling_height\n",
    "2. floors_total\n",
    "3. living_area\n",
    "4. is_apartment\n",
    "5. kitchen_area\n",
    "6. balcony\n",
    "7. locality_name\n",
    "8. airports_nearest\n",
    "9. cityCenters_nearest\n",
    "10. parks_around3000\n",
    "11. parks_nearest\n",
    "12. ponds_around3000\n",
    "13. ponds_nearest\n",
    "14. days_exposition\n",
    "\n",
    "II. Странные значения из describe:\n",
    "\n",
    "1. максимальная total_area = 900\n",
    "2. rooms.max = 19, rooms.min = 0\n",
    "3. ceiling_height.min = 1, ceiling_height.mx = 100"
   ]
  },
  {
   "cell_type": "markdown",
   "metadata": {},
   "source": [
    "### Шаг 2. Предобработка данных"
   ]
  },
  {
   "cell_type": "markdown",
   "metadata": {},
   "source": [
    "Обработаю данные:\n",
    "\n",
    "1. Приведу столбец с категориальной переменной к строчному регистру и скорректирую названия локаций;\n",
    "2. Заполню пропуски там, где это необходимо."
   ]
  },
  {
   "cell_type": "markdown",
   "metadata": {},
   "source": [
    "1. Приведу столбец с категориальной переменной к строчному регистру и скорректирую названия локаций"
   ]
  },
  {
   "cell_type": "code",
   "execution_count": 12,
   "metadata": {},
   "outputs": [],
   "source": [
    "data['locality_name'] = data['locality_name'].str.lower()"
   ]
  },
  {
   "cell_type": "markdown",
   "metadata": {},
   "source": [
    "Также в таблице дублируются населенные пункты, но с разным названием. Например, \"мурино\" и \"поселок мурино\", а также где-то в названиях есть буква ё, а где-то ее нет."
   ]
  },
  {
   "cell_type": "markdown",
   "metadata": {},
   "source": [
    "Заменим все буквы ё на букву е:"
   ]
  },
  {
   "cell_type": "code",
   "execution_count": 13,
   "metadata": {},
   "outputs": [],
   "source": [
    "data['locality_name'] = data['locality_name'].str.replace('ё','е')"
   ]
  },
  {
   "cell_type": "markdown",
   "metadata": {},
   "source": [
    "Приведу названия к одному виду:"
   ]
  },
  {
   "cell_type": "code",
   "execution_count": 14,
   "metadata": {},
   "outputs": [],
   "source": [
    "data['locality_name'] = data['locality_name'].str.replace('поселок мурино','мурино')"
   ]
  },
  {
   "cell_type": "code",
   "execution_count": 15,
   "metadata": {},
   "outputs": [],
   "source": [
    "data['locality_name'] = data['locality_name'].str.replace('поселок шушары','шушары')"
   ]
  },
  {
   "cell_type": "code",
   "execution_count": 16,
   "metadata": {},
   "outputs": [],
   "source": [
    "data['locality_name'] = data['locality_name'].str.replace('деревня кудрово','кудрово')"
   ]
  },
  {
   "cell_type": "markdown",
   "metadata": {},
   "source": [
    "2. Заполню пропуски там, где это необходимо."
   ]
  },
  {
   "cell_type": "markdown",
   "metadata": {},
   "source": [
    "Для начала разделю все данные на 2 части: СПБ и Лен.Область. Сделаю это, т.к. пропуски в картографических данных буду заполнять \n",
    "в зависимости от этого параметра"
   ]
  },
  {
   "cell_type": "code",
   "execution_count": 17,
   "metadata": {},
   "outputs": [],
   "source": [
    "spb_data = data.query('locality_name == \"санкт-петербург\"') # выделиладанные по СПБ в отдельны датафрейм"
   ]
  },
  {
   "cell_type": "code",
   "execution_count": 18,
   "metadata": {},
   "outputs": [],
   "source": [
    "region_data = data.query('locality_name != \"санкт-петербург\"') # выделила лен область в отдельный дата фрейм"
   ]
  },
  {
   "cell_type": "markdown",
   "metadata": {},
   "source": [
    "1. Заполню пропуски в ceiling_height"
   ]
  },
  {
   "cell_type": "code",
   "execution_count": 19,
   "metadata": {},
   "outputs": [
    {
     "data": {
      "text/plain": [
       "9195"
      ]
     },
     "execution_count": 19,
     "metadata": {},
     "output_type": "execute_result"
    }
   ],
   "source": [
    "data['ceiling_height'].isnull().sum() # считаю коичество пропусков в ceiling_height"
   ]
  },
  {
   "cell_type": "code",
   "execution_count": 20,
   "metadata": {},
   "outputs": [
    {
     "data": {
      "text/plain": [
       "2.7210016636628307"
      ]
     },
     "execution_count": 20,
     "metadata": {},
     "output_type": "execute_result"
    }
   ],
   "source": [
    "#выделю в отдельный датафрейм строки, где высота потолка нормальная - от 2 до 4 метров, посчитаю среднее среди них\n",
    "# выбрала среднее, т.к. высота полотка ограничена плюс убрала нереальные значения\n",
    "normal_ceiling_height = data.query('2 <= ceiling_height <= 4')\n",
    "normal_ceiling_height['ceiling_height'].mean()"
   ]
  },
  {
   "cell_type": "code",
   "execution_count": 21,
   "metadata": {},
   "outputs": [
    {
     "data": {
      "text/plain": [
       "2.77149889685604"
      ]
     },
     "execution_count": 21,
     "metadata": {},
     "output_type": "execute_result"
    }
   ],
   "source": [
    "data['ceiling_height'].mean() # сравнила со средним среди всего набора данных - оно почти такое же"
   ]
  },
  {
   "cell_type": "code",
   "execution_count": 22,
   "metadata": {},
   "outputs": [
    {
     "data": {
      "text/html": [
       "<div>\n",
       "<style scoped>\n",
       "    .dataframe tbody tr th:only-of-type {\n",
       "        vertical-align: middle;\n",
       "    }\n",
       "\n",
       "    .dataframe tbody tr th {\n",
       "        vertical-align: top;\n",
       "    }\n",
       "\n",
       "    .dataframe thead th {\n",
       "        text-align: right;\n",
       "    }\n",
       "</style>\n",
       "<table border=\"1\" class=\"dataframe\">\n",
       "  <thead>\n",
       "    <tr style=\"text-align: right;\">\n",
       "      <th></th>\n",
       "      <th>total_images</th>\n",
       "      <th>last_price</th>\n",
       "      <th>total_area</th>\n",
       "      <th>first_day_exposition</th>\n",
       "      <th>rooms</th>\n",
       "      <th>ceiling_height</th>\n",
       "      <th>floors_total</th>\n",
       "      <th>living_area</th>\n",
       "      <th>floor</th>\n",
       "      <th>is_apartment</th>\n",
       "      <th>studio</th>\n",
       "      <th>open_plan</th>\n",
       "      <th>kitchen_area</th>\n",
       "      <th>balcony</th>\n",
       "      <th>locality_name</th>\n",
       "      <th>airports_nearest</th>\n",
       "      <th>cityCenters_nearest</th>\n",
       "      <th>parks_around3000</th>\n",
       "      <th>parks_nearest</th>\n",
       "      <th>ponds_around3000</th>\n",
       "      <th>ponds_nearest</th>\n",
       "      <th>days_exposition</th>\n",
       "    </tr>\n",
       "  </thead>\n",
       "  <tbody>\n",
       "    <tr>\n",
       "      <td>5076</td>\n",
       "      <td>0</td>\n",
       "      <td>3850000.0</td>\n",
       "      <td>30.5</td>\n",
       "      <td>2018-10-03T00:00:00</td>\n",
       "      <td>1</td>\n",
       "      <td>24.0</td>\n",
       "      <td>5.0</td>\n",
       "      <td>19.5</td>\n",
       "      <td>1</td>\n",
       "      <td>True</td>\n",
       "      <td>False</td>\n",
       "      <td>False</td>\n",
       "      <td>5.5</td>\n",
       "      <td>NaN</td>\n",
       "      <td>санкт-петербург</td>\n",
       "      <td>29686.0</td>\n",
       "      <td>8389.0</td>\n",
       "      <td>3.0</td>\n",
       "      <td>397.0</td>\n",
       "      <td>1.0</td>\n",
       "      <td>578.0</td>\n",
       "      <td>7.0</td>\n",
       "    </tr>\n",
       "  </tbody>\n",
       "</table>\n",
       "</div>"
      ],
      "text/plain": [
       "      total_images  last_price  total_area first_day_exposition  rooms  \\\n",
       "5076             0   3850000.0        30.5  2018-10-03T00:00:00      1   \n",
       "\n",
       "      ceiling_height  floors_total  living_area  floor is_apartment  studio  \\\n",
       "5076            24.0           5.0         19.5      1         True   False   \n",
       "\n",
       "      open_plan  kitchen_area  balcony    locality_name  airports_nearest  \\\n",
       "5076      False           5.5      NaN  санкт-петербург           29686.0   \n",
       "\n",
       "      cityCenters_nearest  parks_around3000  parks_nearest  ponds_around3000  \\\n",
       "5076               8389.0               3.0          397.0               1.0   \n",
       "\n",
       "      ponds_nearest  days_exposition  \n",
       "5076          578.0              7.0  "
      ]
     },
     "execution_count": 22,
     "metadata": {},
     "output_type": "execute_result"
    }
   ],
   "source": [
    "data.query('ceiling_height > 4').sample()"
   ]
  },
  {
   "cell_type": "code",
   "execution_count": 23,
   "metadata": {},
   "outputs": [],
   "source": [
    "# заменю на среднее из нормального датафрейма, т.к. там нет выбросов\n",
    "data['ceiling_height'] = data['ceiling_height'].fillna(normal_ceiling_height['ceiling_height'].mean())"
   ]
  },
  {
   "cell_type": "markdown",
   "metadata": {},
   "source": [
    "2. Заполню пропуски в floors_total"
   ]
  },
  {
   "cell_type": "code",
   "execution_count": 24,
   "metadata": {},
   "outputs": [
    {
     "data": {
      "text/plain": [
       "86"
      ]
     },
     "execution_count": 24,
     "metadata": {},
     "output_type": "execute_result"
    }
   ],
   "source": [
    "data['floors_total'].isnull().sum() # считаю количество пропусков в floors_total"
   ]
  },
  {
   "cell_type": "markdown",
   "metadata": {},
   "source": [
    "Пропусков всего 86 - это очень мало. Можно заменить их медианой/средним, но что если это среднее окажется меньше, чем число в ячейке floor? Проверю, есть ли такие случаи?"
   ]
  },
  {
   "cell_type": "code",
   "execution_count": 25,
   "metadata": {},
   "outputs": [
    {
     "data": {
      "text/html": [
       "<div>\n",
       "<style scoped>\n",
       "    .dataframe tbody tr th:only-of-type {\n",
       "        vertical-align: middle;\n",
       "    }\n",
       "\n",
       "    .dataframe tbody tr th {\n",
       "        vertical-align: top;\n",
       "    }\n",
       "\n",
       "    .dataframe thead th {\n",
       "        text-align: right;\n",
       "    }\n",
       "</style>\n",
       "<table border=\"1\" class=\"dataframe\">\n",
       "  <thead>\n",
       "    <tr style=\"text-align: right;\">\n",
       "      <th></th>\n",
       "      <th>total_images</th>\n",
       "      <th>last_price</th>\n",
       "      <th>total_area</th>\n",
       "      <th>rooms</th>\n",
       "      <th>ceiling_height</th>\n",
       "      <th>floors_total</th>\n",
       "      <th>living_area</th>\n",
       "      <th>floor</th>\n",
       "      <th>kitchen_area</th>\n",
       "      <th>balcony</th>\n",
       "      <th>airports_nearest</th>\n",
       "      <th>cityCenters_nearest</th>\n",
       "      <th>parks_around3000</th>\n",
       "      <th>parks_nearest</th>\n",
       "      <th>ponds_around3000</th>\n",
       "      <th>ponds_nearest</th>\n",
       "      <th>days_exposition</th>\n",
       "    </tr>\n",
       "  </thead>\n",
       "  <tbody>\n",
       "    <tr>\n",
       "      <td>count</td>\n",
       "      <td>86.000000</td>\n",
       "      <td>8.600000e+01</td>\n",
       "      <td>86.000000</td>\n",
       "      <td>86.000000</td>\n",
       "      <td>86.000000</td>\n",
       "      <td>0.0</td>\n",
       "      <td>53.000000</td>\n",
       "      <td>86.000000</td>\n",
       "      <td>39.000000</td>\n",
       "      <td>47.000000</td>\n",
       "      <td>76.000000</td>\n",
       "      <td>76.000000</td>\n",
       "      <td>76.000000</td>\n",
       "      <td>34.000000</td>\n",
       "      <td>76.000000</td>\n",
       "      <td>49.000000</td>\n",
       "      <td>77.000000</td>\n",
       "    </tr>\n",
       "    <tr>\n",
       "      <td>mean</td>\n",
       "      <td>5.453488</td>\n",
       "      <td>6.814282e+06</td>\n",
       "      <td>62.537674</td>\n",
       "      <td>1.930233</td>\n",
       "      <td>2.726943</td>\n",
       "      <td>NaN</td>\n",
       "      <td>32.435849</td>\n",
       "      <td>10.023256</td>\n",
       "      <td>13.683590</td>\n",
       "      <td>0.085106</td>\n",
       "      <td>30141.184211</td>\n",
       "      <td>15666.710526</td>\n",
       "      <td>0.605263</td>\n",
       "      <td>549.941176</td>\n",
       "      <td>0.802632</td>\n",
       "      <td>475.714286</td>\n",
       "      <td>181.896104</td>\n",
       "    </tr>\n",
       "    <tr>\n",
       "      <td>std</td>\n",
       "      <td>4.010741</td>\n",
       "      <td>5.551092e+06</td>\n",
       "      <td>37.178265</td>\n",
       "      <td>1.082380</td>\n",
       "      <td>0.037026</td>\n",
       "      <td>NaN</td>\n",
       "      <td>19.019650</td>\n",
       "      <td>6.210005</td>\n",
       "      <td>5.768561</td>\n",
       "      <td>0.408059</td>\n",
       "      <td>13720.664002</td>\n",
       "      <td>6999.313903</td>\n",
       "      <td>0.784499</td>\n",
       "      <td>529.757975</td>\n",
       "      <td>0.748683</td>\n",
       "      <td>243.730811</td>\n",
       "      <td>232.229899</td>\n",
       "    </tr>\n",
       "    <tr>\n",
       "      <td>min</td>\n",
       "      <td>0.000000</td>\n",
       "      <td>1.640000e+06</td>\n",
       "      <td>23.170000</td>\n",
       "      <td>0.000000</td>\n",
       "      <td>2.650000</td>\n",
       "      <td>NaN</td>\n",
       "      <td>10.000000</td>\n",
       "      <td>1.000000</td>\n",
       "      <td>3.500000</td>\n",
       "      <td>0.000000</td>\n",
       "      <td>7050.000000</td>\n",
       "      <td>3148.000000</td>\n",
       "      <td>0.000000</td>\n",
       "      <td>24.000000</td>\n",
       "      <td>0.000000</td>\n",
       "      <td>130.000000</td>\n",
       "      <td>3.000000</td>\n",
       "    </tr>\n",
       "    <tr>\n",
       "      <td>25%</td>\n",
       "      <td>3.000000</td>\n",
       "      <td>3.480000e+06</td>\n",
       "      <td>35.842500</td>\n",
       "      <td>1.000000</td>\n",
       "      <td>2.721002</td>\n",
       "      <td>NaN</td>\n",
       "      <td>17.500000</td>\n",
       "      <td>5.000000</td>\n",
       "      <td>10.665000</td>\n",
       "      <td>0.000000</td>\n",
       "      <td>21570.750000</td>\n",
       "      <td>11303.750000</td>\n",
       "      <td>0.000000</td>\n",
       "      <td>251.000000</td>\n",
       "      <td>0.000000</td>\n",
       "      <td>350.000000</td>\n",
       "      <td>49.000000</td>\n",
       "    </tr>\n",
       "    <tr>\n",
       "      <td>50%</td>\n",
       "      <td>5.000000</td>\n",
       "      <td>5.192500e+06</td>\n",
       "      <td>55.950000</td>\n",
       "      <td>2.000000</td>\n",
       "      <td>2.721002</td>\n",
       "      <td>NaN</td>\n",
       "      <td>31.000000</td>\n",
       "      <td>8.000000</td>\n",
       "      <td>12.200000</td>\n",
       "      <td>0.000000</td>\n",
       "      <td>25892.000000</td>\n",
       "      <td>14637.000000</td>\n",
       "      <td>0.000000</td>\n",
       "      <td>400.000000</td>\n",
       "      <td>1.000000</td>\n",
       "      <td>374.000000</td>\n",
       "      <td>111.000000</td>\n",
       "    </tr>\n",
       "    <tr>\n",
       "      <td>75%</td>\n",
       "      <td>8.750000</td>\n",
       "      <td>7.523265e+06</td>\n",
       "      <td>76.725000</td>\n",
       "      <td>3.000000</td>\n",
       "      <td>2.721002</td>\n",
       "      <td>NaN</td>\n",
       "      <td>45.380000</td>\n",
       "      <td>13.750000</td>\n",
       "      <td>15.185000</td>\n",
       "      <td>0.000000</td>\n",
       "      <td>40679.000000</td>\n",
       "      <td>17369.000000</td>\n",
       "      <td>1.000000</td>\n",
       "      <td>655.250000</td>\n",
       "      <td>1.000000</td>\n",
       "      <td>652.000000</td>\n",
       "      <td>183.000000</td>\n",
       "    </tr>\n",
       "    <tr>\n",
       "      <td>max</td>\n",
       "      <td>19.000000</td>\n",
       "      <td>4.034825e+07</td>\n",
       "      <td>284.000000</td>\n",
       "      <td>6.000000</td>\n",
       "      <td>3.000000</td>\n",
       "      <td>NaN</td>\n",
       "      <td>104.760000</td>\n",
       "      <td>24.000000</td>\n",
       "      <td>40.000000</td>\n",
       "      <td>2.000000</td>\n",
       "      <td>61908.000000</td>\n",
       "      <td>34085.000000</td>\n",
       "      <td>3.000000</td>\n",
       "      <td>2276.000000</td>\n",
       "      <td>3.000000</td>\n",
       "      <td>1158.000000</td>\n",
       "      <td>1257.000000</td>\n",
       "    </tr>\n",
       "  </tbody>\n",
       "</table>\n",
       "</div>"
      ],
      "text/plain": [
       "       total_images    last_price  total_area      rooms  ceiling_height  \\\n",
       "count     86.000000  8.600000e+01   86.000000  86.000000       86.000000   \n",
       "mean       5.453488  6.814282e+06   62.537674   1.930233        2.726943   \n",
       "std        4.010741  5.551092e+06   37.178265   1.082380        0.037026   \n",
       "min        0.000000  1.640000e+06   23.170000   0.000000        2.650000   \n",
       "25%        3.000000  3.480000e+06   35.842500   1.000000        2.721002   \n",
       "50%        5.000000  5.192500e+06   55.950000   2.000000        2.721002   \n",
       "75%        8.750000  7.523265e+06   76.725000   3.000000        2.721002   \n",
       "max       19.000000  4.034825e+07  284.000000   6.000000        3.000000   \n",
       "\n",
       "       floors_total  living_area      floor  kitchen_area    balcony  \\\n",
       "count           0.0    53.000000  86.000000     39.000000  47.000000   \n",
       "mean            NaN    32.435849  10.023256     13.683590   0.085106   \n",
       "std             NaN    19.019650   6.210005      5.768561   0.408059   \n",
       "min             NaN    10.000000   1.000000      3.500000   0.000000   \n",
       "25%             NaN    17.500000   5.000000     10.665000   0.000000   \n",
       "50%             NaN    31.000000   8.000000     12.200000   0.000000   \n",
       "75%             NaN    45.380000  13.750000     15.185000   0.000000   \n",
       "max             NaN   104.760000  24.000000     40.000000   2.000000   \n",
       "\n",
       "       airports_nearest  cityCenters_nearest  parks_around3000  parks_nearest  \\\n",
       "count         76.000000            76.000000         76.000000      34.000000   \n",
       "mean       30141.184211         15666.710526          0.605263     549.941176   \n",
       "std        13720.664002          6999.313903          0.784499     529.757975   \n",
       "min         7050.000000          3148.000000          0.000000      24.000000   \n",
       "25%        21570.750000         11303.750000          0.000000     251.000000   \n",
       "50%        25892.000000         14637.000000          0.000000     400.000000   \n",
       "75%        40679.000000         17369.000000          1.000000     655.250000   \n",
       "max        61908.000000         34085.000000          3.000000    2276.000000   \n",
       "\n",
       "       ponds_around3000  ponds_nearest  days_exposition  \n",
       "count         76.000000      49.000000        77.000000  \n",
       "mean           0.802632     475.714286       181.896104  \n",
       "std            0.748683     243.730811       232.229899  \n",
       "min            0.000000     130.000000         3.000000  \n",
       "25%            0.000000     350.000000        49.000000  \n",
       "50%            1.000000     374.000000       111.000000  \n",
       "75%            1.000000     652.000000       183.000000  \n",
       "max            3.000000    1158.000000      1257.000000  "
      ]
     },
     "execution_count": 25,
     "metadata": {},
     "output_type": "execute_result"
    }
   ],
   "source": [
    "data[data['floors_total'].isna()].describe()"
   ]
  },
  {
   "cell_type": "code",
   "execution_count": 26,
   "metadata": {},
   "outputs": [
    {
     "data": {
      "text/plain": [
       "9.0"
      ]
     },
     "execution_count": 26,
     "metadata": {},
     "output_type": "execute_result"
    }
   ],
   "source": [
    "data['floors_total'].median()"
   ]
  },
  {
   "cell_type": "markdown",
   "metadata": {},
   "source": [
    "Да, если мы все пропущенные значения из floors_total заменим на медиану, то в некоторых строках будет противоречие, т.к. floor.max = 24, а \tdata['floors_total'].median() = 9. Поэтому пропуски в floors_total я заменю на значение из floor. Да6 это будет менее точно, но не будет противоречий, а также я учитываю то, что 86 пропусков - это треть процента от всего датафрейма."
   ]
  },
  {
   "cell_type": "code",
   "execution_count": 27,
   "metadata": {},
   "outputs": [],
   "source": [
    "data['floors_total'] = data['floors_total'].fillna(data['floor']) # заполнила пропуски значением floor"
   ]
  },
  {
   "cell_type": "code",
   "execution_count": 28,
   "metadata": {},
   "outputs": [
    {
     "data": {
      "text/plain": [
       "0"
      ]
     },
     "execution_count": 28,
     "metadata": {},
     "output_type": "execute_result"
    }
   ],
   "source": [
    "data['floors_total'].isnull().sum() # проверяю количество пропусков в floors_total"
   ]
  },
  {
   "cell_type": "markdown",
   "metadata": {},
   "source": [
    "3. Заполню пропуски в living_area"
   ]
  },
  {
   "cell_type": "markdown",
   "metadata": {},
   "source": [
    "Создам столбцы с отношением living_area к total_area:"
   ]
  },
  {
   "cell_type": "code",
   "execution_count": 29,
   "metadata": {},
   "outputs": [],
   "source": [
    "data['prop_living_to_total_area'] = data['living_area'] / data['total_area']"
   ]
  },
  {
   "cell_type": "code",
   "execution_count": 30,
   "metadata": {},
   "outputs": [
    {
     "data": {
      "image/png": "[encoded data removed]",
      "text/plain": [
       "<Figure size 432x288 with 1 Axes>"
      ]
     },
     "metadata": {
      "needs_background": "light"
     },
     "output_type": "display_data"
    }
   ],
   "source": [
    "ax = data.prop_living_to_total_area.hist(bins=100) # посмотрю распределение на гистограмме\n",
    "ax.set_xlabel('Значение параметра отношения жилой площади к общей', fontsize = 10);\n",
    "ax.set_ylabel('Количество квартир, шт', fontsize = 10);\n",
    "ax.set_title('Распределение параметра отношения жилой площади к общей', fontsize = 10);"
   ]
  },
  {
   "cell_type": "markdown",
   "metadata": {},
   "source": [
    "Распределение нормальное. Поэтому я сначала найду медиану/среднее prop_living_to_total_area, а затем этой медианой заполню пропуски в prop_living_to_total_area. Следующим шагом заполню пропуски в living_area как произведение total_area и prop_living_to_total_area."
   ]
  },
  {
   "cell_type": "code",
   "execution_count": 31,
   "metadata": {
    "scrolled": true
   },
   "outputs": [
    {
     "data": {
      "text/plain": [
       "count    21796.000000\n",
       "mean         0.564766\n",
       "std          0.105368\n",
       "min          0.021583\n",
       "25%          0.495177\n",
       "50%          0.567860\n",
       "75%          0.637880\n",
       "max          1.000000\n",
       "Name: prop_living_to_total_area, dtype: float64"
      ]
     },
     "execution_count": 31,
     "metadata": {},
     "output_type": "execute_result"
    }
   ],
   "source": [
    "data['prop_living_to_total_area'].describe()"
   ]
  },
  {
   "cell_type": "markdown",
   "metadata": {},
   "source": [
    "Медиана и среднее практически равны. Использую среднее."
   ]
  },
  {
   "cell_type": "code",
   "execution_count": 32,
   "metadata": {},
   "outputs": [],
   "source": [
    "data['prop_living_to_total_area'] =(data['prop_living_to_total_area']\n",
    "                                    .fillna(data['prop_living_to_total_area'].mean()))"
   ]
  },
  {
   "cell_type": "code",
   "execution_count": 33,
   "metadata": {},
   "outputs": [
    {
     "data": {
      "text/plain": [
       "0"
      ]
     },
     "execution_count": 33,
     "metadata": {},
     "output_type": "execute_result"
    }
   ],
   "source": [
    "data['prop_living_to_total_area'].isnull().sum() # проверю, остались ли пропуски"
   ]
  },
  {
   "cell_type": "markdown",
   "metadata": {},
   "source": [
    "Заполню пропуски в living_area как произведение total_area и prop_living_to_total_area."
   ]
  },
  {
   "cell_type": "code",
   "execution_count": 34,
   "metadata": {},
   "outputs": [],
   "source": [
    "data['living_area'] =(data['living_area']\n",
    "                                    .fillna(data['prop_living_to_total_area'] * data['total_area']))"
   ]
  },
  {
   "cell_type": "code",
   "execution_count": 35,
   "metadata": {},
   "outputs": [
    {
     "data": {
      "text/plain": [
       "0"
      ]
     },
     "execution_count": 35,
     "metadata": {},
     "output_type": "execute_result"
    }
   ],
   "source": [
    "data['living_area'].isnull().sum() #проверю, остались ли пропуски"
   ]
  },
  {
   "cell_type": "markdown",
   "metadata": {},
   "source": [
    "4. Заполню пропуски в is_apartment. "
   ]
  },
  {
   "cell_type": "code",
   "execution_count": 36,
   "metadata": {},
   "outputs": [
    {
     "data": {
      "text/plain": [
       "20924"
      ]
     },
     "execution_count": 36,
     "metadata": {},
     "output_type": "execute_result"
    }
   ],
   "source": [
    "data['is_apartment'].isnull().sum()"
   ]
  },
  {
   "cell_type": "markdown",
   "metadata": {},
   "source": [
    "Пропусков много - скорее всего люди просто не заполнили этот параметр. Также я предположу, что если квартира является апартаментами, то эту ячейку заполняют всегда, т.к. у апартаментов и квартир есть критические различия. Поэтому заменю пропуски на False"
   ]
  },
  {
   "cell_type": "code",
   "execution_count": 37,
   "metadata": {},
   "outputs": [],
   "source": [
    "data['is_apartment'] = data['is_apartment'].fillna(False)"
   ]
  },
  {
   "cell_type": "markdown",
   "metadata": {},
   "source": [
    "5. Заполню пропуски в kitchen_area"
   ]
  },
  {
   "cell_type": "markdown",
   "metadata": {},
   "source": [
    "Создам столбцы с отношением kitchen_area к total_area:"
   ]
  },
  {
   "cell_type": "code",
   "execution_count": 38,
   "metadata": {},
   "outputs": [],
   "source": [
    "data['prop_kitchen_to_total_area'] = data['kitchen_area'] / data['total_area']"
   ]
  },
  {
   "cell_type": "code",
   "execution_count": 39,
   "metadata": {},
   "outputs": [
    {
     "data": {
      "image/png": "[encoded data removed]",
      "text/plain": [
       "<Figure size 432x288 with 1 Axes>"
      ]
     },
     "metadata": {
      "needs_background": "light"
     },
     "output_type": "display_data"
    }
   ],
   "source": [
    "ax = data.prop_kitchen_to_total_area.hist(bins=100) # посмотрю распределение на гистограмме\n",
    "ax.set_xlabel('Значение параметра отношения площади кухни к общей', fontsize = 10);\n",
    "ax.set_ylabel('Количество квартир, шт', fontsize = 10);\n",
    "ax.set_title('Распределение параметра отношения площади кухни к общей', fontsize = 10);"
   ]
  },
  {
   "cell_type": "code",
   "execution_count": 40,
   "metadata": {},
   "outputs": [
    {
     "data": {
      "text/html": [
       "<div>\n",
       "<style scoped>\n",
       "    .dataframe tbody tr th:only-of-type {\n",
       "        vertical-align: middle;\n",
       "    }\n",
       "\n",
       "    .dataframe tbody tr th {\n",
       "        vertical-align: top;\n",
       "    }\n",
       "\n",
       "    .dataframe thead th {\n",
       "        text-align: right;\n",
       "    }\n",
       "</style>\n",
       "<table border=\"1\" class=\"dataframe\">\n",
       "  <thead>\n",
       "    <tr style=\"text-align: right;\">\n",
       "      <th></th>\n",
       "      <th>total_images</th>\n",
       "      <th>last_price</th>\n",
       "      <th>total_area</th>\n",
       "      <th>rooms</th>\n",
       "      <th>ceiling_height</th>\n",
       "      <th>floors_total</th>\n",
       "      <th>living_area</th>\n",
       "      <th>floor</th>\n",
       "      <th>kitchen_area</th>\n",
       "      <th>balcony</th>\n",
       "      <th>airports_nearest</th>\n",
       "      <th>cityCenters_nearest</th>\n",
       "      <th>parks_around3000</th>\n",
       "      <th>parks_nearest</th>\n",
       "      <th>ponds_around3000</th>\n",
       "      <th>ponds_nearest</th>\n",
       "      <th>days_exposition</th>\n",
       "      <th>prop_living_to_total_area</th>\n",
       "      <th>prop_kitchen_to_total_area</th>\n",
       "    </tr>\n",
       "  </thead>\n",
       "  <tbody>\n",
       "    <tr>\n",
       "      <td>count</td>\n",
       "      <td>23699.000000</td>\n",
       "      <td>2.369900e+04</td>\n",
       "      <td>23699.000000</td>\n",
       "      <td>23699.000000</td>\n",
       "      <td>23699.000000</td>\n",
       "      <td>23699.000000</td>\n",
       "      <td>23699.000000</td>\n",
       "      <td>23699.000000</td>\n",
       "      <td>21421.000000</td>\n",
       "      <td>12180.000000</td>\n",
       "      <td>18157.000000</td>\n",
       "      <td>18180.000000</td>\n",
       "      <td>18181.000000</td>\n",
       "      <td>8079.000000</td>\n",
       "      <td>18181.000000</td>\n",
       "      <td>9110.000000</td>\n",
       "      <td>20518.000000</td>\n",
       "      <td>23699.000000</td>\n",
       "      <td>21421.000000</td>\n",
       "    </tr>\n",
       "    <tr>\n",
       "      <td>mean</td>\n",
       "      <td>9.858475</td>\n",
       "      <td>6.541549e+06</td>\n",
       "      <td>60.348651</td>\n",
       "      <td>2.070636</td>\n",
       "      <td>2.751906</td>\n",
       "      <td>10.671463</td>\n",
       "      <td>34.562480</td>\n",
       "      <td>5.892358</td>\n",
       "      <td>10.569807</td>\n",
       "      <td>1.150082</td>\n",
       "      <td>28793.672193</td>\n",
       "      <td>14191.277833</td>\n",
       "      <td>0.611408</td>\n",
       "      <td>490.804555</td>\n",
       "      <td>0.770255</td>\n",
       "      <td>517.980900</td>\n",
       "      <td>180.888634</td>\n",
       "      <td>0.564766</td>\n",
       "      <td>0.187355</td>\n",
       "    </tr>\n",
       "    <tr>\n",
       "      <td>std</td>\n",
       "      <td>5.682529</td>\n",
       "      <td>1.088701e+07</td>\n",
       "      <td>35.654083</td>\n",
       "      <td>1.078405</td>\n",
       "      <td>0.986830</td>\n",
       "      <td>6.595802</td>\n",
       "      <td>22.326965</td>\n",
       "      <td>4.885249</td>\n",
       "      <td>5.905438</td>\n",
       "      <td>1.071300</td>\n",
       "      <td>12630.880622</td>\n",
       "      <td>8608.386210</td>\n",
       "      <td>0.802074</td>\n",
       "      <td>342.317995</td>\n",
       "      <td>0.938346</td>\n",
       "      <td>277.720643</td>\n",
       "      <td>219.727988</td>\n",
       "      <td>0.101049</td>\n",
       "      <td>0.072968</td>\n",
       "    </tr>\n",
       "    <tr>\n",
       "      <td>min</td>\n",
       "      <td>0.000000</td>\n",
       "      <td>1.219000e+04</td>\n",
       "      <td>12.000000</td>\n",
       "      <td>0.000000</td>\n",
       "      <td>1.000000</td>\n",
       "      <td>1.000000</td>\n",
       "      <td>2.000000</td>\n",
       "      <td>1.000000</td>\n",
       "      <td>1.300000</td>\n",
       "      <td>0.000000</td>\n",
       "      <td>0.000000</td>\n",
       "      <td>181.000000</td>\n",
       "      <td>0.000000</td>\n",
       "      <td>1.000000</td>\n",
       "      <td>0.000000</td>\n",
       "      <td>13.000000</td>\n",
       "      <td>1.000000</td>\n",
       "      <td>0.021583</td>\n",
       "      <td>0.025381</td>\n",
       "    </tr>\n",
       "    <tr>\n",
       "      <td>25%</td>\n",
       "      <td>6.000000</td>\n",
       "      <td>3.400000e+06</td>\n",
       "      <td>40.000000</td>\n",
       "      <td>1.000000</td>\n",
       "      <td>2.600000</td>\n",
       "      <td>5.000000</td>\n",
       "      <td>19.000000</td>\n",
       "      <td>2.000000</td>\n",
       "      <td>7.000000</td>\n",
       "      <td>0.000000</td>\n",
       "      <td>18585.000000</td>\n",
       "      <td>9238.000000</td>\n",
       "      <td>0.000000</td>\n",
       "      <td>288.000000</td>\n",
       "      <td>0.000000</td>\n",
       "      <td>294.000000</td>\n",
       "      <td>45.000000</td>\n",
       "      <td>0.500000</td>\n",
       "      <td>0.133333</td>\n",
       "    </tr>\n",
       "    <tr>\n",
       "      <td>50%</td>\n",
       "      <td>9.000000</td>\n",
       "      <td>4.650000e+06</td>\n",
       "      <td>52.000000</td>\n",
       "      <td>2.000000</td>\n",
       "      <td>2.721002</td>\n",
       "      <td>9.000000</td>\n",
       "      <td>30.000000</td>\n",
       "      <td>4.000000</td>\n",
       "      <td>9.100000</td>\n",
       "      <td>1.000000</td>\n",
       "      <td>26726.000000</td>\n",
       "      <td>13098.500000</td>\n",
       "      <td>0.000000</td>\n",
       "      <td>455.000000</td>\n",
       "      <td>1.000000</td>\n",
       "      <td>502.000000</td>\n",
       "      <td>95.000000</td>\n",
       "      <td>0.564766</td>\n",
       "      <td>0.172414</td>\n",
       "    </tr>\n",
       "    <tr>\n",
       "      <td>75%</td>\n",
       "      <td>14.000000</td>\n",
       "      <td>6.800000e+06</td>\n",
       "      <td>69.900000</td>\n",
       "      <td>3.000000</td>\n",
       "      <td>2.721002</td>\n",
       "      <td>16.000000</td>\n",
       "      <td>42.100000</td>\n",
       "      <td>8.000000</td>\n",
       "      <td>12.000000</td>\n",
       "      <td>2.000000</td>\n",
       "      <td>37273.000000</td>\n",
       "      <td>16293.000000</td>\n",
       "      <td>1.000000</td>\n",
       "      <td>612.000000</td>\n",
       "      <td>1.000000</td>\n",
       "      <td>729.000000</td>\n",
       "      <td>232.000000</td>\n",
       "      <td>0.631579</td>\n",
       "      <td>0.232416</td>\n",
       "    </tr>\n",
       "    <tr>\n",
       "      <td>max</td>\n",
       "      <td>50.000000</td>\n",
       "      <td>7.630000e+08</td>\n",
       "      <td>900.000000</td>\n",
       "      <td>19.000000</td>\n",
       "      <td>100.000000</td>\n",
       "      <td>60.000000</td>\n",
       "      <td>409.700000</td>\n",
       "      <td>33.000000</td>\n",
       "      <td>112.000000</td>\n",
       "      <td>5.000000</td>\n",
       "      <td>84869.000000</td>\n",
       "      <td>65968.000000</td>\n",
       "      <td>3.000000</td>\n",
       "      <td>3190.000000</td>\n",
       "      <td>3.000000</td>\n",
       "      <td>1344.000000</td>\n",
       "      <td>1580.000000</td>\n",
       "      <td>1.000000</td>\n",
       "      <td>0.787879</td>\n",
       "    </tr>\n",
       "  </tbody>\n",
       "</table>\n",
       "</div>"
      ],
      "text/plain": [
       "       total_images    last_price    total_area         rooms  ceiling_height  \\\n",
       "count  23699.000000  2.369900e+04  23699.000000  23699.000000    23699.000000   \n",
       "mean       9.858475  6.541549e+06     60.348651      2.070636        2.751906   \n",
       "std        5.682529  1.088701e+07     35.654083      1.078405        0.986830   \n",
       "min        0.000000  1.219000e+04     12.000000      0.000000        1.000000   \n",
       "25%        6.000000  3.400000e+06     40.000000      1.000000        2.600000   \n",
       "50%        9.000000  4.650000e+06     52.000000      2.000000        2.721002   \n",
       "75%       14.000000  6.800000e+06     69.900000      3.000000        2.721002   \n",
       "max       50.000000  7.630000e+08    900.000000     19.000000      100.000000   \n",
       "\n",
       "       floors_total   living_area         floor  kitchen_area       balcony  \\\n",
       "count  23699.000000  23699.000000  23699.000000  21421.000000  12180.000000   \n",
       "mean      10.671463     34.562480      5.892358     10.569807      1.150082   \n",
       "std        6.595802     22.326965      4.885249      5.905438      1.071300   \n",
       "min        1.000000      2.000000      1.000000      1.300000      0.000000   \n",
       "25%        5.000000     19.000000      2.000000      7.000000      0.000000   \n",
       "50%        9.000000     30.000000      4.000000      9.100000      1.000000   \n",
       "75%       16.000000     42.100000      8.000000     12.000000      2.000000   \n",
       "max       60.000000    409.700000     33.000000    112.000000      5.000000   \n",
       "\n",
       "       airports_nearest  cityCenters_nearest  parks_around3000  parks_nearest  \\\n",
       "count      18157.000000         18180.000000      18181.000000    8079.000000   \n",
       "mean       28793.672193         14191.277833          0.611408     490.804555   \n",
       "std        12630.880622          8608.386210          0.802074     342.317995   \n",
       "min            0.000000           181.000000          0.000000       1.000000   \n",
       "25%        18585.000000          9238.000000          0.000000     288.000000   \n",
       "50%        26726.000000         13098.500000          0.000000     455.000000   \n",
       "75%        37273.000000         16293.000000          1.000000     612.000000   \n",
       "max        84869.000000         65968.000000          3.000000    3190.000000   \n",
       "\n",
       "       ponds_around3000  ponds_nearest  days_exposition  \\\n",
       "count      18181.000000    9110.000000     20518.000000   \n",
       "mean           0.770255     517.980900       180.888634   \n",
       "std            0.938346     277.720643       219.727988   \n",
       "min            0.000000      13.000000         1.000000   \n",
       "25%            0.000000     294.000000        45.000000   \n",
       "50%            1.000000     502.000000        95.000000   \n",
       "75%            1.000000     729.000000       232.000000   \n",
       "max            3.000000    1344.000000      1580.000000   \n",
       "\n",
       "       prop_living_to_total_area  prop_kitchen_to_total_area  \n",
       "count               23699.000000                21421.000000  \n",
       "mean                    0.564766                    0.187355  \n",
       "std                     0.101049                    0.072968  \n",
       "min                     0.021583                    0.025381  \n",
       "25%                     0.500000                    0.133333  \n",
       "50%                     0.564766                    0.172414  \n",
       "75%                     0.631579                    0.232416  \n",
       "max                     1.000000                    0.787879  "
      ]
     },
     "execution_count": 40,
     "metadata": {},
     "output_type": "execute_result"
    }
   ],
   "source": [
    "data.describe() # посомтрю общие характеристики"
   ]
  },
  {
   "cell_type": "markdown",
   "metadata": {},
   "source": [
    "Заполню пропуски аналогично living_area, но буду использовать медиану, а не среднее, т.к. здесь больше выбросов."
   ]
  },
  {
   "cell_type": "code",
   "execution_count": 41,
   "metadata": {},
   "outputs": [],
   "source": [
    "data['prop_kitchen_to_total_area'] =(data['prop_kitchen_to_total_area']\n",
    "                                    .fillna(data['prop_kitchen_to_total_area'].median()))"
   ]
  },
  {
   "cell_type": "code",
   "execution_count": 42,
   "metadata": {},
   "outputs": [
    {
     "data": {
      "text/plain": [
       "0"
      ]
     },
     "execution_count": 42,
     "metadata": {},
     "output_type": "execute_result"
    }
   ],
   "source": [
    "data['prop_kitchen_to_total_area'].isnull().sum() # проверю, остались ли пропуски"
   ]
  },
  {
   "cell_type": "code",
   "execution_count": 43,
   "metadata": {},
   "outputs": [],
   "source": [
    "data['kitchen_area'] =(data['kitchen_area']\n",
    "                                    .fillna(data['prop_kitchen_to_total_area'] * data['total_area']))"
   ]
  },
  {
   "cell_type": "code",
   "execution_count": 44,
   "metadata": {},
   "outputs": [
    {
     "data": {
      "text/plain": [
       "0"
      ]
     },
     "execution_count": 44,
     "metadata": {},
     "output_type": "execute_result"
    }
   ],
   "source": [
    "data['kitchen_area'].isnull().sum() # проверю, остались ли пропуски"
   ]
  },
  {
   "cell_type": "markdown",
   "metadata": {},
   "source": [
    "6. Заполню пропуски в balcony."
   ]
  },
  {
   "cell_type": "code",
   "execution_count": 45,
   "metadata": {},
   "outputs": [
    {
     "data": {
      "text/plain": [
       "11519"
      ]
     },
     "execution_count": 45,
     "metadata": {},
     "output_type": "execute_result"
    }
   ],
   "source": [
    "data['balcony'].isnull().sum()  # посчитаю пропуски"
   ]
  },
  {
   "cell_type": "markdown",
   "metadata": {},
   "source": [
    "Пропусков в данных о балконах очень много, поэтому проверю корреляцию количества балконов и других параметров:"
   ]
  },
  {
   "cell_type": "code",
   "execution_count": 46,
   "metadata": {},
   "outputs": [],
   "source": [
    "parameters_for_balcony = ['rooms', \n",
    "              'cityCenters_nearest', \n",
    "              'total_area',\n",
    "              'ceiling_height',\n",
    "              'floors_total',\n",
    "               'floor'\n",
    "             ]"
   ]
  },
  {
   "cell_type": "code",
   "execution_count": 47,
   "metadata": {},
   "outputs": [
    {
     "name": "stdout",
     "output_type": "stream",
     "text": [
      "Для всего массива данных корреляция количества балконов с rooms равна 0.02\n",
      "Для всего массива данных корреляция количества балконов с cityCenters_nearest равна 0.05\n",
      "Для всего массива данных корреляция количества балконов с total_area равна 0.05\n",
      "Для всего массива данных корреляция количества балконов с ceiling_height равна 0.04\n",
      "Для всего массива данных корреляция количества балконов с floors_total равна 0.19\n",
      "Для всего массива данных корреляция количества балконов с floor равна 0.17\n"
     ]
    }
   ],
   "source": [
    "for parameter in parameters_for_balcony:\n",
    "    print('Для всего массива данных корреляция количества балконов с', parameter, 'равна {:.2f}'\n",
    "          .format(data['balcony'].corr(data[parameter])))"
   ]
  },
  {
   "cell_type": "markdown",
   "metadata": {},
   "source": [
    "Корреляция со всем параметрами очеь слабая, поэтому оставлю пропуски в количестве балконов незаполненными."
   ]
  },
  {
   "cell_type": "markdown",
   "metadata": {},
   "source": [
    "7. Заменю пропуски в locality_name"
   ]
  },
  {
   "cell_type": "code",
   "execution_count": 48,
   "metadata": {},
   "outputs": [
    {
     "data": {
      "text/plain": [
       "49"
      ]
     },
     "execution_count": 48,
     "metadata": {},
     "output_type": "execute_result"
    }
   ],
   "source": [
    "data['locality_name'].isnull().sum()"
   ]
  },
  {
   "cell_type": "markdown",
   "metadata": {},
   "source": [
    "Пропусков очень мало. Заменю их либо на СПБ ли на ЛО. Посмотрю характеристики датафремов: с пропусками в locality_name, СПБ, ЛО. Далее сравню характеристики locality_name и СПБ, locality_name и ЛО. Исходя из этого сделаю выводы и произведу замену пропусков. Буду ориентироваться на параметр cityCenters_nearest. "
   ]
  },
  {
   "cell_type": "code",
   "execution_count": 49,
   "metadata": {},
   "outputs": [
    {
     "data": {
      "text/html": [
       "<div>\n",
       "<style scoped>\n",
       "    .dataframe tbody tr th:only-of-type {\n",
       "        vertical-align: middle;\n",
       "    }\n",
       "\n",
       "    .dataframe tbody tr th {\n",
       "        vertical-align: top;\n",
       "    }\n",
       "\n",
       "    .dataframe thead th {\n",
       "        text-align: right;\n",
       "    }\n",
       "</style>\n",
       "<table border=\"1\" class=\"dataframe\">\n",
       "  <thead>\n",
       "    <tr style=\"text-align: right;\">\n",
       "      <th></th>\n",
       "      <th>total_images</th>\n",
       "      <th>last_price</th>\n",
       "      <th>total_area</th>\n",
       "      <th>rooms</th>\n",
       "      <th>ceiling_height</th>\n",
       "      <th>floors_total</th>\n",
       "      <th>living_area</th>\n",
       "      <th>floor</th>\n",
       "      <th>kitchen_area</th>\n",
       "      <th>balcony</th>\n",
       "      <th>airports_nearest</th>\n",
       "      <th>cityCenters_nearest</th>\n",
       "      <th>parks_around3000</th>\n",
       "      <th>parks_nearest</th>\n",
       "      <th>ponds_around3000</th>\n",
       "      <th>ponds_nearest</th>\n",
       "      <th>days_exposition</th>\n",
       "      <th>prop_living_to_total_area</th>\n",
       "      <th>prop_kitchen_to_total_area</th>\n",
       "    </tr>\n",
       "  </thead>\n",
       "  <tbody>\n",
       "    <tr>\n",
       "      <td>count</td>\n",
       "      <td>49.000000</td>\n",
       "      <td>4.900000e+01</td>\n",
       "      <td>49.000000</td>\n",
       "      <td>49.000000</td>\n",
       "      <td>49.000000</td>\n",
       "      <td>49.00000</td>\n",
       "      <td>49.000000</td>\n",
       "      <td>49.000000</td>\n",
       "      <td>49.000000</td>\n",
       "      <td>43.000000</td>\n",
       "      <td>41.000000</td>\n",
       "      <td>41.000000</td>\n",
       "      <td>41.000000</td>\n",
       "      <td>15.000000</td>\n",
       "      <td>41.000000</td>\n",
       "      <td>25.000000</td>\n",
       "      <td>48.000000</td>\n",
       "      <td>49.000000</td>\n",
       "      <td>49.000000</td>\n",
       "    </tr>\n",
       "    <tr>\n",
       "      <td>mean</td>\n",
       "      <td>8.000000</td>\n",
       "      <td>6.745167e+06</td>\n",
       "      <td>69.799796</td>\n",
       "      <td>2.326531</td>\n",
       "      <td>2.798062</td>\n",
       "      <td>9.55102</td>\n",
       "      <td>40.232373</td>\n",
       "      <td>5.448980</td>\n",
       "      <td>12.122674</td>\n",
       "      <td>0.325581</td>\n",
       "      <td>24572.341463</td>\n",
       "      <td>11278.902439</td>\n",
       "      <td>0.536585</td>\n",
       "      <td>476.733333</td>\n",
       "      <td>1.024390</td>\n",
       "      <td>489.280000</td>\n",
       "      <td>238.645833</td>\n",
       "      <td>0.571656</td>\n",
       "      <td>0.177285</td>\n",
       "    </tr>\n",
       "    <tr>\n",
       "      <td>std</td>\n",
       "      <td>5.552777</td>\n",
       "      <td>4.496722e+06</td>\n",
       "      <td>30.575956</td>\n",
       "      <td>0.944011</td>\n",
       "      <td>0.235988</td>\n",
       "      <td>7.64052</td>\n",
       "      <td>19.128401</td>\n",
       "      <td>5.784538</td>\n",
       "      <td>7.047189</td>\n",
       "      <td>0.747087</td>\n",
       "      <td>8461.691597</td>\n",
       "      <td>8910.058254</td>\n",
       "      <td>0.839570</td>\n",
       "      <td>179.158137</td>\n",
       "      <td>1.083693</td>\n",
       "      <td>232.420151</td>\n",
       "      <td>190.620542</td>\n",
       "      <td>0.092457</td>\n",
       "      <td>0.063868</td>\n",
       "    </tr>\n",
       "    <tr>\n",
       "      <td>min</td>\n",
       "      <td>0.000000</td>\n",
       "      <td>1.750000e+06</td>\n",
       "      <td>29.400000</td>\n",
       "      <td>1.000000</td>\n",
       "      <td>2.600000</td>\n",
       "      <td>2.00000</td>\n",
       "      <td>13.000000</td>\n",
       "      <td>1.000000</td>\n",
       "      <td>5.000000</td>\n",
       "      <td>0.000000</td>\n",
       "      <td>10556.000000</td>\n",
       "      <td>1322.000000</td>\n",
       "      <td>0.000000</td>\n",
       "      <td>67.000000</td>\n",
       "      <td>0.000000</td>\n",
       "      <td>142.000000</td>\n",
       "      <td>4.000000</td>\n",
       "      <td>0.342195</td>\n",
       "      <td>0.097076</td>\n",
       "    </tr>\n",
       "    <tr>\n",
       "      <td>25%</td>\n",
       "      <td>3.000000</td>\n",
       "      <td>3.950000e+06</td>\n",
       "      <td>46.500000</td>\n",
       "      <td>2.000000</td>\n",
       "      <td>2.721002</td>\n",
       "      <td>5.00000</td>\n",
       "      <td>28.000000</td>\n",
       "      <td>2.000000</td>\n",
       "      <td>8.200000</td>\n",
       "      <td>0.000000</td>\n",
       "      <td>21654.000000</td>\n",
       "      <td>4383.000000</td>\n",
       "      <td>0.000000</td>\n",
       "      <td>374.500000</td>\n",
       "      <td>0.000000</td>\n",
       "      <td>374.000000</td>\n",
       "      <td>83.250000</td>\n",
       "      <td>0.525535</td>\n",
       "      <td>0.130000</td>\n",
       "    </tr>\n",
       "    <tr>\n",
       "      <td>50%</td>\n",
       "      <td>7.000000</td>\n",
       "      <td>5.130593e+06</td>\n",
       "      <td>63.000000</td>\n",
       "      <td>2.000000</td>\n",
       "      <td>2.721002</td>\n",
       "      <td>6.00000</td>\n",
       "      <td>36.600000</td>\n",
       "      <td>3.000000</td>\n",
       "      <td>10.000000</td>\n",
       "      <td>0.000000</td>\n",
       "      <td>22041.000000</td>\n",
       "      <td>8943.000000</td>\n",
       "      <td>0.000000</td>\n",
       "      <td>472.000000</td>\n",
       "      <td>1.000000</td>\n",
       "      <td>374.000000</td>\n",
       "      <td>211.000000</td>\n",
       "      <td>0.564766</td>\n",
       "      <td>0.172414</td>\n",
       "    </tr>\n",
       "    <tr>\n",
       "      <td>75%</td>\n",
       "      <td>10.000000</td>\n",
       "      <td>8.000000e+06</td>\n",
       "      <td>83.000000</td>\n",
       "      <td>3.000000</td>\n",
       "      <td>2.721002</td>\n",
       "      <td>11.00000</td>\n",
       "      <td>50.800000</td>\n",
       "      <td>6.000000</td>\n",
       "      <td>13.380000</td>\n",
       "      <td>0.000000</td>\n",
       "      <td>25771.000000</td>\n",
       "      <td>17369.000000</td>\n",
       "      <td>1.000000</td>\n",
       "      <td>591.500000</td>\n",
       "      <td>1.000000</td>\n",
       "      <td>603.000000</td>\n",
       "      <td>331.250000</td>\n",
       "      <td>0.647727</td>\n",
       "      <td>0.200000</td>\n",
       "    </tr>\n",
       "    <tr>\n",
       "      <td>max</td>\n",
       "      <td>20.000000</td>\n",
       "      <td>2.400000e+07</td>\n",
       "      <td>178.300000</td>\n",
       "      <td>4.000000</td>\n",
       "      <td>4.000000</td>\n",
       "      <td>24.00000</td>\n",
       "      <td>100.697693</td>\n",
       "      <td>23.000000</td>\n",
       "      <td>41.600000</td>\n",
       "      <td>4.000000</td>\n",
       "      <td>60195.000000</td>\n",
       "      <td>41294.000000</td>\n",
       "      <td>3.000000</td>\n",
       "      <td>740.000000</td>\n",
       "      <td>3.000000</td>\n",
       "      <td>953.000000</td>\n",
       "      <td>869.000000</td>\n",
       "      <td>0.727397</td>\n",
       "      <td>0.364544</td>\n",
       "    </tr>\n",
       "  </tbody>\n",
       "</table>\n",
       "</div>"
      ],
      "text/plain": [
       "       total_images    last_price  total_area      rooms  ceiling_height  \\\n",
       "count     49.000000  4.900000e+01   49.000000  49.000000       49.000000   \n",
       "mean       8.000000  6.745167e+06   69.799796   2.326531        2.798062   \n",
       "std        5.552777  4.496722e+06   30.575956   0.944011        0.235988   \n",
       "min        0.000000  1.750000e+06   29.400000   1.000000        2.600000   \n",
       "25%        3.000000  3.950000e+06   46.500000   2.000000        2.721002   \n",
       "50%        7.000000  5.130593e+06   63.000000   2.000000        2.721002   \n",
       "75%       10.000000  8.000000e+06   83.000000   3.000000        2.721002   \n",
       "max       20.000000  2.400000e+07  178.300000   4.000000        4.000000   \n",
       "\n",
       "       floors_total  living_area      floor  kitchen_area    balcony  \\\n",
       "count      49.00000    49.000000  49.000000     49.000000  43.000000   \n",
       "mean        9.55102    40.232373   5.448980     12.122674   0.325581   \n",
       "std         7.64052    19.128401   5.784538      7.047189   0.747087   \n",
       "min         2.00000    13.000000   1.000000      5.000000   0.000000   \n",
       "25%         5.00000    28.000000   2.000000      8.200000   0.000000   \n",
       "50%         6.00000    36.600000   3.000000     10.000000   0.000000   \n",
       "75%        11.00000    50.800000   6.000000     13.380000   0.000000   \n",
       "max        24.00000   100.697693  23.000000     41.600000   4.000000   \n",
       "\n",
       "       airports_nearest  cityCenters_nearest  parks_around3000  parks_nearest  \\\n",
       "count         41.000000            41.000000         41.000000      15.000000   \n",
       "mean       24572.341463         11278.902439          0.536585     476.733333   \n",
       "std         8461.691597          8910.058254          0.839570     179.158137   \n",
       "min        10556.000000          1322.000000          0.000000      67.000000   \n",
       "25%        21654.000000          4383.000000          0.000000     374.500000   \n",
       "50%        22041.000000          8943.000000          0.000000     472.000000   \n",
       "75%        25771.000000         17369.000000          1.000000     591.500000   \n",
       "max        60195.000000         41294.000000          3.000000     740.000000   \n",
       "\n",
       "       ponds_around3000  ponds_nearest  days_exposition  \\\n",
       "count         41.000000      25.000000        48.000000   \n",
       "mean           1.024390     489.280000       238.645833   \n",
       "std            1.083693     232.420151       190.620542   \n",
       "min            0.000000     142.000000         4.000000   \n",
       "25%            0.000000     374.000000        83.250000   \n",
       "50%            1.000000     374.000000       211.000000   \n",
       "75%            1.000000     603.000000       331.250000   \n",
       "max            3.000000     953.000000       869.000000   \n",
       "\n",
       "       prop_living_to_total_area  prop_kitchen_to_total_area  \n",
       "count                  49.000000                   49.000000  \n",
       "mean                    0.571656                    0.177285  \n",
       "std                     0.092457                    0.063868  \n",
       "min                     0.342195                    0.097076  \n",
       "25%                     0.525535                    0.130000  \n",
       "50%                     0.564766                    0.172414  \n",
       "75%                     0.647727                    0.200000  \n",
       "max                     0.727397                    0.364544  "
      ]
     },
     "execution_count": 49,
     "metadata": {},
     "output_type": "execute_result"
    }
   ],
   "source": [
    "data[data['locality_name'].isna()].describe() "
   ]
  },
  {
   "cell_type": "code",
   "execution_count": 50,
   "metadata": {},
   "outputs": [
    {
     "data": {
      "text/html": [
       "<div>\n",
       "<style scoped>\n",
       "    .dataframe tbody tr th:only-of-type {\n",
       "        vertical-align: middle;\n",
       "    }\n",
       "\n",
       "    .dataframe tbody tr th {\n",
       "        vertical-align: top;\n",
       "    }\n",
       "\n",
       "    .dataframe thead th {\n",
       "        text-align: right;\n",
       "    }\n",
       "</style>\n",
       "<table border=\"1\" class=\"dataframe\">\n",
       "  <thead>\n",
       "    <tr style=\"text-align: right;\">\n",
       "      <th></th>\n",
       "      <th>total_images</th>\n",
       "      <th>last_price</th>\n",
       "      <th>total_area</th>\n",
       "      <th>rooms</th>\n",
       "      <th>ceiling_height</th>\n",
       "      <th>floors_total</th>\n",
       "      <th>living_area</th>\n",
       "      <th>floor</th>\n",
       "      <th>kitchen_area</th>\n",
       "      <th>balcony</th>\n",
       "      <th>airports_nearest</th>\n",
       "      <th>cityCenters_nearest</th>\n",
       "      <th>parks_around3000</th>\n",
       "      <th>parks_nearest</th>\n",
       "      <th>ponds_around3000</th>\n",
       "      <th>ponds_nearest</th>\n",
       "      <th>days_exposition</th>\n",
       "    </tr>\n",
       "  </thead>\n",
       "  <tbody>\n",
       "    <tr>\n",
       "      <td>count</td>\n",
       "      <td>15721.000000</td>\n",
       "      <td>1.572100e+04</td>\n",
       "      <td>15721.000000</td>\n",
       "      <td>15721.000000</td>\n",
       "      <td>10104.000000</td>\n",
       "      <td>15651.000000</td>\n",
       "      <td>14581.000000</td>\n",
       "      <td>15721.000000</td>\n",
       "      <td>14342.000000</td>\n",
       "      <td>8009.000000</td>\n",
       "      <td>15636.000000</td>\n",
       "      <td>15660.000000</td>\n",
       "      <td>15660.000000</td>\n",
       "      <td>7284.000000</td>\n",
       "      <td>15660.000000</td>\n",
       "      <td>7983.000000</td>\n",
       "      <td>13638.000000</td>\n",
       "    </tr>\n",
       "    <tr>\n",
       "      <td>mean</td>\n",
       "      <td>10.180205</td>\n",
       "      <td>8.062507e+06</td>\n",
       "      <td>64.751488</td>\n",
       "      <td>2.171618</td>\n",
       "      <td>2.803709</td>\n",
       "      <td>11.395885</td>\n",
       "      <td>36.959148</td>\n",
       "      <td>6.242033</td>\n",
       "      <td>11.155806</td>\n",
       "      <td>1.141965</td>\n",
       "      <td>28046.186237</td>\n",
       "      <td>11601.291571</td>\n",
       "      <td>0.627586</td>\n",
       "      <td>498.597886</td>\n",
       "      <td>0.770434</td>\n",
       "      <td>520.213955</td>\n",
       "      <td>182.792198</td>\n",
       "    </tr>\n",
       "    <tr>\n",
       "      <td>std</td>\n",
       "      <td>5.749004</td>\n",
       "      <td>1.301313e+07</td>\n",
       "      <td>40.417095</td>\n",
       "      <td>1.148098</td>\n",
       "      <td>1.296912</td>\n",
       "      <td>6.372330</td>\n",
       "      <td>24.701374</td>\n",
       "      <td>4.900486</td>\n",
       "      <td>6.543392</td>\n",
       "      <td>1.093276</td>\n",
       "      <td>11557.063820</td>\n",
       "      <td>4842.035279</td>\n",
       "      <td>0.787867</td>\n",
       "      <td>345.181284</td>\n",
       "      <td>0.924568</td>\n",
       "      <td>280.260745</td>\n",
       "      <td>224.719204</td>\n",
       "    </tr>\n",
       "    <tr>\n",
       "      <td>min</td>\n",
       "      <td>0.000000</td>\n",
       "      <td>1.219000e+04</td>\n",
       "      <td>12.000000</td>\n",
       "      <td>0.000000</td>\n",
       "      <td>1.000000</td>\n",
       "      <td>1.000000</td>\n",
       "      <td>2.000000</td>\n",
       "      <td>1.000000</td>\n",
       "      <td>1.300000</td>\n",
       "      <td>0.000000</td>\n",
       "      <td>0.000000</td>\n",
       "      <td>181.000000</td>\n",
       "      <td>0.000000</td>\n",
       "      <td>1.000000</td>\n",
       "      <td>0.000000</td>\n",
       "      <td>13.000000</td>\n",
       "      <td>1.000000</td>\n",
       "    </tr>\n",
       "    <tr>\n",
       "      <td>25%</td>\n",
       "      <td>6.000000</td>\n",
       "      <td>4.200000e+06</td>\n",
       "      <td>42.000000</td>\n",
       "      <td>1.000000</td>\n",
       "      <td>2.550000</td>\n",
       "      <td>5.000000</td>\n",
       "      <td>19.900000</td>\n",
       "      <td>3.000000</td>\n",
       "      <td>7.200000</td>\n",
       "      <td>0.000000</td>\n",
       "      <td>18584.250000</td>\n",
       "      <td>8327.000000</td>\n",
       "      <td>0.000000</td>\n",
       "      <td>295.000000</td>\n",
       "      <td>0.000000</td>\n",
       "      <td>293.000000</td>\n",
       "      <td>42.000000</td>\n",
       "    </tr>\n",
       "    <tr>\n",
       "      <td>50%</td>\n",
       "      <td>10.000000</td>\n",
       "      <td>5.500000e+06</td>\n",
       "      <td>55.000000</td>\n",
       "      <td>2.000000</td>\n",
       "      <td>2.700000</td>\n",
       "      <td>9.000000</td>\n",
       "      <td>31.300000</td>\n",
       "      <td>5.000000</td>\n",
       "      <td>9.900000</td>\n",
       "      <td>1.000000</td>\n",
       "      <td>26757.500000</td>\n",
       "      <td>12244.500000</td>\n",
       "      <td>0.000000</td>\n",
       "      <td>460.000000</td>\n",
       "      <td>1.000000</td>\n",
       "      <td>503.000000</td>\n",
       "      <td>95.000000</td>\n",
       "    </tr>\n",
       "    <tr>\n",
       "      <td>75%</td>\n",
       "      <td>14.000000</td>\n",
       "      <td>8.160000e+06</td>\n",
       "      <td>74.600000</td>\n",
       "      <td>3.000000</td>\n",
       "      <td>2.870000</td>\n",
       "      <td>16.000000</td>\n",
       "      <td>44.000000</td>\n",
       "      <td>8.000000</td>\n",
       "      <td>12.500000</td>\n",
       "      <td>2.000000</td>\n",
       "      <td>36614.000000</td>\n",
       "      <td>14943.000000</td>\n",
       "      <td>1.000000</td>\n",
       "      <td>619.000000</td>\n",
       "      <td>1.000000</td>\n",
       "      <td>738.000000</td>\n",
       "      <td>231.000000</td>\n",
       "    </tr>\n",
       "    <tr>\n",
       "      <td>max</td>\n",
       "      <td>50.000000</td>\n",
       "      <td>7.630000e+08</td>\n",
       "      <td>900.000000</td>\n",
       "      <td>19.000000</td>\n",
       "      <td>100.000000</td>\n",
       "      <td>52.000000</td>\n",
       "      <td>409.700000</td>\n",
       "      <td>33.000000</td>\n",
       "      <td>112.000000</td>\n",
       "      <td>5.000000</td>\n",
       "      <td>54784.000000</td>\n",
       "      <td>29493.000000</td>\n",
       "      <td>3.000000</td>\n",
       "      <td>3190.000000</td>\n",
       "      <td>3.000000</td>\n",
       "      <td>1337.000000</td>\n",
       "      <td>1572.000000</td>\n",
       "    </tr>\n",
       "  </tbody>\n",
       "</table>\n",
       "</div>"
      ],
      "text/plain": [
       "       total_images    last_price    total_area         rooms  ceiling_height  \\\n",
       "count  15721.000000  1.572100e+04  15721.000000  15721.000000    10104.000000   \n",
       "mean      10.180205  8.062507e+06     64.751488      2.171618        2.803709   \n",
       "std        5.749004  1.301313e+07     40.417095      1.148098        1.296912   \n",
       "min        0.000000  1.219000e+04     12.000000      0.000000        1.000000   \n",
       "25%        6.000000  4.200000e+06     42.000000      1.000000        2.550000   \n",
       "50%       10.000000  5.500000e+06     55.000000      2.000000        2.700000   \n",
       "75%       14.000000  8.160000e+06     74.600000      3.000000        2.870000   \n",
       "max       50.000000  7.630000e+08    900.000000     19.000000      100.000000   \n",
       "\n",
       "       floors_total   living_area         floor  kitchen_area      balcony  \\\n",
       "count  15651.000000  14581.000000  15721.000000  14342.000000  8009.000000   \n",
       "mean      11.395885     36.959148      6.242033     11.155806     1.141965   \n",
       "std        6.372330     24.701374      4.900486      6.543392     1.093276   \n",
       "min        1.000000      2.000000      1.000000      1.300000     0.000000   \n",
       "25%        5.000000     19.900000      3.000000      7.200000     0.000000   \n",
       "50%        9.000000     31.300000      5.000000      9.900000     1.000000   \n",
       "75%       16.000000     44.000000      8.000000     12.500000     2.000000   \n",
       "max       52.000000    409.700000     33.000000    112.000000     5.000000   \n",
       "\n",
       "       airports_nearest  cityCenters_nearest  parks_around3000  parks_nearest  \\\n",
       "count      15636.000000         15660.000000      15660.000000    7284.000000   \n",
       "mean       28046.186237         11601.291571          0.627586     498.597886   \n",
       "std        11557.063820          4842.035279          0.787867     345.181284   \n",
       "min            0.000000           181.000000          0.000000       1.000000   \n",
       "25%        18584.250000          8327.000000          0.000000     295.000000   \n",
       "50%        26757.500000         12244.500000          0.000000     460.000000   \n",
       "75%        36614.000000         14943.000000          1.000000     619.000000   \n",
       "max        54784.000000         29493.000000          3.000000    3190.000000   \n",
       "\n",
       "       ponds_around3000  ponds_nearest  days_exposition  \n",
       "count      15660.000000    7983.000000     13638.000000  \n",
       "mean           0.770434     520.213955       182.792198  \n",
       "std            0.924568     280.260745       224.719204  \n",
       "min            0.000000      13.000000         1.000000  \n",
       "25%            0.000000     293.000000        42.000000  \n",
       "50%            1.000000     503.000000        95.000000  \n",
       "75%            1.000000     738.000000       231.000000  \n",
       "max            3.000000    1337.000000      1572.000000  "
      ]
     },
     "execution_count": 50,
     "metadata": {},
     "output_type": "execute_result"
    }
   ],
   "source": [
    "spb_data.describe()"
   ]
  },
  {
   "cell_type": "code",
   "execution_count": 51,
   "metadata": {},
   "outputs": [
    {
     "data": {
      "text/html": [
       "<div>\n",
       "<style scoped>\n",
       "    .dataframe tbody tr th:only-of-type {\n",
       "        vertical-align: middle;\n",
       "    }\n",
       "\n",
       "    .dataframe tbody tr th {\n",
       "        vertical-align: top;\n",
       "    }\n",
       "\n",
       "    .dataframe thead th {\n",
       "        text-align: right;\n",
       "    }\n",
       "</style>\n",
       "<table border=\"1\" class=\"dataframe\">\n",
       "  <thead>\n",
       "    <tr style=\"text-align: right;\">\n",
       "      <th></th>\n",
       "      <th>total_images</th>\n",
       "      <th>last_price</th>\n",
       "      <th>total_area</th>\n",
       "      <th>rooms</th>\n",
       "      <th>ceiling_height</th>\n",
       "      <th>floors_total</th>\n",
       "      <th>living_area</th>\n",
       "      <th>floor</th>\n",
       "      <th>kitchen_area</th>\n",
       "      <th>balcony</th>\n",
       "      <th>airports_nearest</th>\n",
       "      <th>cityCenters_nearest</th>\n",
       "      <th>parks_around3000</th>\n",
       "      <th>parks_nearest</th>\n",
       "      <th>ponds_around3000</th>\n",
       "      <th>ponds_nearest</th>\n",
       "      <th>days_exposition</th>\n",
       "    </tr>\n",
       "  </thead>\n",
       "  <tbody>\n",
       "    <tr>\n",
       "      <td>count</td>\n",
       "      <td>7978.000000</td>\n",
       "      <td>7.978000e+03</td>\n",
       "      <td>7978.000000</td>\n",
       "      <td>7978.000000</td>\n",
       "      <td>4400.000000</td>\n",
       "      <td>7962.000000</td>\n",
       "      <td>7215.000000</td>\n",
       "      <td>7978.000000</td>\n",
       "      <td>7079.000000</td>\n",
       "      <td>4171.000000</td>\n",
       "      <td>2521.000000</td>\n",
       "      <td>2520.00000</td>\n",
       "      <td>2521.000000</td>\n",
       "      <td>795.000000</td>\n",
       "      <td>2521.000000</td>\n",
       "      <td>1127.000000</td>\n",
       "      <td>6880.000000</td>\n",
       "    </tr>\n",
       "    <tr>\n",
       "      <td>mean</td>\n",
       "      <td>9.224492</td>\n",
       "      <td>3.544434e+06</td>\n",
       "      <td>51.672666</td>\n",
       "      <td>1.871647</td>\n",
       "      <td>2.697532</td>\n",
       "      <td>9.254459</td>\n",
       "      <td>29.402912</td>\n",
       "      <td>5.203309</td>\n",
       "      <td>9.382578</td>\n",
       "      <td>1.165668</td>\n",
       "      <td>33429.804839</td>\n",
       "      <td>30286.19246</td>\n",
       "      <td>0.510908</td>\n",
       "      <td>419.400000</td>\n",
       "      <td>0.769139</td>\n",
       "      <td>502.163265</td>\n",
       "      <td>177.115262</td>\n",
       "    </tr>\n",
       "    <tr>\n",
       "      <td>std</td>\n",
       "      <td>5.494695</td>\n",
       "      <td>2.204650e+06</td>\n",
       "      <td>21.067982</td>\n",
       "      <td>0.893092</td>\n",
       "      <td>1.171376</td>\n",
       "      <td>6.798594</td>\n",
       "      <td>13.962146</td>\n",
       "      <td>4.781109</td>\n",
       "      <td>4.084416</td>\n",
       "      <td>1.027736</td>\n",
       "      <td>17198.312919</td>\n",
       "      <td>9391.31892</td>\n",
       "      <td>0.878750</td>\n",
       "      <td>305.958725</td>\n",
       "      <td>1.019967</td>\n",
       "      <td>258.581322</td>\n",
       "      <td>209.447700</td>\n",
       "    </tr>\n",
       "    <tr>\n",
       "      <td>min</td>\n",
       "      <td>0.000000</td>\n",
       "      <td>4.300000e+05</td>\n",
       "      <td>15.000000</td>\n",
       "      <td>0.000000</td>\n",
       "      <td>1.200000</td>\n",
       "      <td>1.000000</td>\n",
       "      <td>2.000000</td>\n",
       "      <td>1.000000</td>\n",
       "      <td>2.300000</td>\n",
       "      <td>0.000000</td>\n",
       "      <td>9294.000000</td>\n",
       "      <td>1322.00000</td>\n",
       "      <td>0.000000</td>\n",
       "      <td>4.000000</td>\n",
       "      <td>0.000000</td>\n",
       "      <td>22.000000</td>\n",
       "      <td>3.000000</td>\n",
       "    </tr>\n",
       "    <tr>\n",
       "      <td>25%</td>\n",
       "      <td>5.000000</td>\n",
       "      <td>2.350000e+06</td>\n",
       "      <td>37.000000</td>\n",
       "      <td>1.000000</td>\n",
       "      <td>2.500000</td>\n",
       "      <td>5.000000</td>\n",
       "      <td>18.000000</td>\n",
       "      <td>2.000000</td>\n",
       "      <td>6.600000</td>\n",
       "      <td>0.000000</td>\n",
       "      <td>18590.000000</td>\n",
       "      <td>24302.00000</td>\n",
       "      <td>0.000000</td>\n",
       "      <td>228.000000</td>\n",
       "      <td>0.000000</td>\n",
       "      <td>301.000000</td>\n",
       "      <td>45.000000</td>\n",
       "    </tr>\n",
       "    <tr>\n",
       "      <td>50%</td>\n",
       "      <td>9.000000</td>\n",
       "      <td>3.200000e+06</td>\n",
       "      <td>47.000000</td>\n",
       "      <td>2.000000</td>\n",
       "      <td>2.600000</td>\n",
       "      <td>5.000000</td>\n",
       "      <td>28.000000</td>\n",
       "      <td>4.000000</td>\n",
       "      <td>8.900000</td>\n",
       "      <td>1.000000</td>\n",
       "      <td>26599.000000</td>\n",
       "      <td>30308.50000</td>\n",
       "      <td>0.000000</td>\n",
       "      <td>376.000000</td>\n",
       "      <td>0.000000</td>\n",
       "      <td>485.000000</td>\n",
       "      <td>96.000000</td>\n",
       "    </tr>\n",
       "    <tr>\n",
       "      <td>75%</td>\n",
       "      <td>13.000000</td>\n",
       "      <td>4.200000e+06</td>\n",
       "      <td>61.000000</td>\n",
       "      <td>2.000000</td>\n",
       "      <td>2.700000</td>\n",
       "      <td>12.000000</td>\n",
       "      <td>37.400000</td>\n",
       "      <td>6.000000</td>\n",
       "      <td>10.900000</td>\n",
       "      <td>2.000000</td>\n",
       "      <td>52480.000000</td>\n",
       "      <td>33633.75000</td>\n",
       "      <td>1.000000</td>\n",
       "      <td>531.000000</td>\n",
       "      <td>1.000000</td>\n",
       "      <td>666.000000</td>\n",
       "      <td>232.000000</td>\n",
       "    </tr>\n",
       "    <tr>\n",
       "      <td>max</td>\n",
       "      <td>39.000000</td>\n",
       "      <td>4.200000e+07</td>\n",
       "      <td>380.000000</td>\n",
       "      <td>8.000000</td>\n",
       "      <td>32.000000</td>\n",
       "      <td>60.000000</td>\n",
       "      <td>239.400000</td>\n",
       "      <td>27.000000</td>\n",
       "      <td>64.000000</td>\n",
       "      <td>5.000000</td>\n",
       "      <td>84869.000000</td>\n",
       "      <td>65968.00000</td>\n",
       "      <td>3.000000</td>\n",
       "      <td>2131.000000</td>\n",
       "      <td>3.000000</td>\n",
       "      <td>1344.000000</td>\n",
       "      <td>1580.000000</td>\n",
       "    </tr>\n",
       "  </tbody>\n",
       "</table>\n",
       "</div>"
      ],
      "text/plain": [
       "       total_images    last_price   total_area        rooms  ceiling_height  \\\n",
       "count   7978.000000  7.978000e+03  7978.000000  7978.000000     4400.000000   \n",
       "mean       9.224492  3.544434e+06    51.672666     1.871647        2.697532   \n",
       "std        5.494695  2.204650e+06    21.067982     0.893092        1.171376   \n",
       "min        0.000000  4.300000e+05    15.000000     0.000000        1.200000   \n",
       "25%        5.000000  2.350000e+06    37.000000     1.000000        2.500000   \n",
       "50%        9.000000  3.200000e+06    47.000000     2.000000        2.600000   \n",
       "75%       13.000000  4.200000e+06    61.000000     2.000000        2.700000   \n",
       "max       39.000000  4.200000e+07   380.000000     8.000000       32.000000   \n",
       "\n",
       "       floors_total  living_area        floor  kitchen_area      balcony  \\\n",
       "count   7962.000000  7215.000000  7978.000000   7079.000000  4171.000000   \n",
       "mean       9.254459    29.402912     5.203309      9.382578     1.165668   \n",
       "std        6.798594    13.962146     4.781109      4.084416     1.027736   \n",
       "min        1.000000     2.000000     1.000000      2.300000     0.000000   \n",
       "25%        5.000000    18.000000     2.000000      6.600000     0.000000   \n",
       "50%        5.000000    28.000000     4.000000      8.900000     1.000000   \n",
       "75%       12.000000    37.400000     6.000000     10.900000     2.000000   \n",
       "max       60.000000   239.400000    27.000000     64.000000     5.000000   \n",
       "\n",
       "       airports_nearest  cityCenters_nearest  parks_around3000  parks_nearest  \\\n",
       "count       2521.000000           2520.00000       2521.000000     795.000000   \n",
       "mean       33429.804839          30286.19246          0.510908     419.400000   \n",
       "std        17198.312919           9391.31892          0.878750     305.958725   \n",
       "min         9294.000000           1322.00000          0.000000       4.000000   \n",
       "25%        18590.000000          24302.00000          0.000000     228.000000   \n",
       "50%        26599.000000          30308.50000          0.000000     376.000000   \n",
       "75%        52480.000000          33633.75000          1.000000     531.000000   \n",
       "max        84869.000000          65968.00000          3.000000    2131.000000   \n",
       "\n",
       "       ponds_around3000  ponds_nearest  days_exposition  \n",
       "count       2521.000000    1127.000000      6880.000000  \n",
       "mean           0.769139     502.163265       177.115262  \n",
       "std            1.019967     258.581322       209.447700  \n",
       "min            0.000000      22.000000         3.000000  \n",
       "25%            0.000000     301.000000        45.000000  \n",
       "50%            0.000000     485.000000        96.000000  \n",
       "75%            1.000000     666.000000       232.000000  \n",
       "max            3.000000    1344.000000      1580.000000  "
      ]
     },
     "execution_count": 51,
     "metadata": {},
     "output_type": "execute_result"
    }
   ],
   "source": [
    "region_data.describe()"
   ]
  },
  {
   "cell_type": "markdown",
   "metadata": {},
   "source": [
    "Параметр cityCenters_nearest у датафрема с пропусками ближе к аналогичному параметру в датафрейме СПБ. Поэтому заменю пропуски в locality_name значением \"санкт-петербург\""
   ]
  },
  {
   "cell_type": "code",
   "execution_count": 52,
   "metadata": {},
   "outputs": [],
   "source": [
    "data['locality_name'] = data['locality_name'].fillna('санкт-петербург') \n"
   ]
  },
  {
   "cell_type": "markdown",
   "metadata": {},
   "source": [
    "Далее идет блок пропусков в параметрах6 полученных на основе картографических данных. Проверю на симметричность пропуски"
   ]
  },
  {
   "cell_type": "code",
   "execution_count": 53,
   "metadata": {},
   "outputs": [
    {
     "data": {
      "text/html": [
       "<div>\n",
       "<style scoped>\n",
       "    .dataframe tbody tr th:only-of-type {\n",
       "        vertical-align: middle;\n",
       "    }\n",
       "\n",
       "    .dataframe tbody tr th {\n",
       "        vertical-align: top;\n",
       "    }\n",
       "\n",
       "    .dataframe thead th {\n",
       "        text-align: right;\n",
       "    }\n",
       "</style>\n",
       "<table border=\"1\" class=\"dataframe\">\n",
       "  <thead>\n",
       "    <tr style=\"text-align: right;\">\n",
       "      <th></th>\n",
       "      <th>total_images</th>\n",
       "      <th>last_price</th>\n",
       "      <th>total_area</th>\n",
       "      <th>rooms</th>\n",
       "      <th>ceiling_height</th>\n",
       "      <th>floors_total</th>\n",
       "      <th>living_area</th>\n",
       "      <th>floor</th>\n",
       "      <th>kitchen_area</th>\n",
       "      <th>balcony</th>\n",
       "      <th>airports_nearest</th>\n",
       "      <th>cityCenters_nearest</th>\n",
       "      <th>parks_around3000</th>\n",
       "      <th>parks_nearest</th>\n",
       "      <th>ponds_around3000</th>\n",
       "      <th>ponds_nearest</th>\n",
       "      <th>days_exposition</th>\n",
       "      <th>prop_living_to_total_area</th>\n",
       "      <th>prop_kitchen_to_total_area</th>\n",
       "    </tr>\n",
       "  </thead>\n",
       "  <tbody>\n",
       "    <tr>\n",
       "      <td>count</td>\n",
       "      <td>0.0</td>\n",
       "      <td>0.0</td>\n",
       "      <td>0.0</td>\n",
       "      <td>0.0</td>\n",
       "      <td>0.0</td>\n",
       "      <td>0.0</td>\n",
       "      <td>0.0</td>\n",
       "      <td>0.0</td>\n",
       "      <td>0.0</td>\n",
       "      <td>0.0</td>\n",
       "      <td>0.0</td>\n",
       "      <td>0.0</td>\n",
       "      <td>0.0</td>\n",
       "      <td>0.0</td>\n",
       "      <td>0.0</td>\n",
       "      <td>0.0</td>\n",
       "      <td>0.0</td>\n",
       "      <td>0.0</td>\n",
       "      <td>0.0</td>\n",
       "    </tr>\n",
       "    <tr>\n",
       "      <td>mean</td>\n",
       "      <td>NaN</td>\n",
       "      <td>NaN</td>\n",
       "      <td>NaN</td>\n",
       "      <td>NaN</td>\n",
       "      <td>NaN</td>\n",
       "      <td>NaN</td>\n",
       "      <td>NaN</td>\n",
       "      <td>NaN</td>\n",
       "      <td>NaN</td>\n",
       "      <td>NaN</td>\n",
       "      <td>NaN</td>\n",
       "      <td>NaN</td>\n",
       "      <td>NaN</td>\n",
       "      <td>NaN</td>\n",
       "      <td>NaN</td>\n",
       "      <td>NaN</td>\n",
       "      <td>NaN</td>\n",
       "      <td>NaN</td>\n",
       "      <td>NaN</td>\n",
       "    </tr>\n",
       "    <tr>\n",
       "      <td>std</td>\n",
       "      <td>NaN</td>\n",
       "      <td>NaN</td>\n",
       "      <td>NaN</td>\n",
       "      <td>NaN</td>\n",
       "      <td>NaN</td>\n",
       "      <td>NaN</td>\n",
       "      <td>NaN</td>\n",
       "      <td>NaN</td>\n",
       "      <td>NaN</td>\n",
       "      <td>NaN</td>\n",
       "      <td>NaN</td>\n",
       "      <td>NaN</td>\n",
       "      <td>NaN</td>\n",
       "      <td>NaN</td>\n",
       "      <td>NaN</td>\n",
       "      <td>NaN</td>\n",
       "      <td>NaN</td>\n",
       "      <td>NaN</td>\n",
       "      <td>NaN</td>\n",
       "    </tr>\n",
       "    <tr>\n",
       "      <td>min</td>\n",
       "      <td>NaN</td>\n",
       "      <td>NaN</td>\n",
       "      <td>NaN</td>\n",
       "      <td>NaN</td>\n",
       "      <td>NaN</td>\n",
       "      <td>NaN</td>\n",
       "      <td>NaN</td>\n",
       "      <td>NaN</td>\n",
       "      <td>NaN</td>\n",
       "      <td>NaN</td>\n",
       "      <td>NaN</td>\n",
       "      <td>NaN</td>\n",
       "      <td>NaN</td>\n",
       "      <td>NaN</td>\n",
       "      <td>NaN</td>\n",
       "      <td>NaN</td>\n",
       "      <td>NaN</td>\n",
       "      <td>NaN</td>\n",
       "      <td>NaN</td>\n",
       "    </tr>\n",
       "    <tr>\n",
       "      <td>25%</td>\n",
       "      <td>NaN</td>\n",
       "      <td>NaN</td>\n",
       "      <td>NaN</td>\n",
       "      <td>NaN</td>\n",
       "      <td>NaN</td>\n",
       "      <td>NaN</td>\n",
       "      <td>NaN</td>\n",
       "      <td>NaN</td>\n",
       "      <td>NaN</td>\n",
       "      <td>NaN</td>\n",
       "      <td>NaN</td>\n",
       "      <td>NaN</td>\n",
       "      <td>NaN</td>\n",
       "      <td>NaN</td>\n",
       "      <td>NaN</td>\n",
       "      <td>NaN</td>\n",
       "      <td>NaN</td>\n",
       "      <td>NaN</td>\n",
       "      <td>NaN</td>\n",
       "    </tr>\n",
       "    <tr>\n",
       "      <td>50%</td>\n",
       "      <td>NaN</td>\n",
       "      <td>NaN</td>\n",
       "      <td>NaN</td>\n",
       "      <td>NaN</td>\n",
       "      <td>NaN</td>\n",
       "      <td>NaN</td>\n",
       "      <td>NaN</td>\n",
       "      <td>NaN</td>\n",
       "      <td>NaN</td>\n",
       "      <td>NaN</td>\n",
       "      <td>NaN</td>\n",
       "      <td>NaN</td>\n",
       "      <td>NaN</td>\n",
       "      <td>NaN</td>\n",
       "      <td>NaN</td>\n",
       "      <td>NaN</td>\n",
       "      <td>NaN</td>\n",
       "      <td>NaN</td>\n",
       "      <td>NaN</td>\n",
       "    </tr>\n",
       "    <tr>\n",
       "      <td>75%</td>\n",
       "      <td>NaN</td>\n",
       "      <td>NaN</td>\n",
       "      <td>NaN</td>\n",
       "      <td>NaN</td>\n",
       "      <td>NaN</td>\n",
       "      <td>NaN</td>\n",
       "      <td>NaN</td>\n",
       "      <td>NaN</td>\n",
       "      <td>NaN</td>\n",
       "      <td>NaN</td>\n",
       "      <td>NaN</td>\n",
       "      <td>NaN</td>\n",
       "      <td>NaN</td>\n",
       "      <td>NaN</td>\n",
       "      <td>NaN</td>\n",
       "      <td>NaN</td>\n",
       "      <td>NaN</td>\n",
       "      <td>NaN</td>\n",
       "      <td>NaN</td>\n",
       "    </tr>\n",
       "    <tr>\n",
       "      <td>max</td>\n",
       "      <td>NaN</td>\n",
       "      <td>NaN</td>\n",
       "      <td>NaN</td>\n",
       "      <td>NaN</td>\n",
       "      <td>NaN</td>\n",
       "      <td>NaN</td>\n",
       "      <td>NaN</td>\n",
       "      <td>NaN</td>\n",
       "      <td>NaN</td>\n",
       "      <td>NaN</td>\n",
       "      <td>NaN</td>\n",
       "      <td>NaN</td>\n",
       "      <td>NaN</td>\n",
       "      <td>NaN</td>\n",
       "      <td>NaN</td>\n",
       "      <td>NaN</td>\n",
       "      <td>NaN</td>\n",
       "      <td>NaN</td>\n",
       "      <td>NaN</td>\n",
       "    </tr>\n",
       "  </tbody>\n",
       "</table>\n",
       "</div>"
      ],
      "text/plain": [
       "       total_images  last_price  total_area  rooms  ceiling_height  \\\n",
       "count           0.0         0.0         0.0    0.0             0.0   \n",
       "mean            NaN         NaN         NaN    NaN             NaN   \n",
       "std             NaN         NaN         NaN    NaN             NaN   \n",
       "min             NaN         NaN         NaN    NaN             NaN   \n",
       "25%             NaN         NaN         NaN    NaN             NaN   \n",
       "50%             NaN         NaN         NaN    NaN             NaN   \n",
       "75%             NaN         NaN         NaN    NaN             NaN   \n",
       "max             NaN         NaN         NaN    NaN             NaN   \n",
       "\n",
       "       floors_total  living_area  floor  kitchen_area  balcony  \\\n",
       "count           0.0          0.0    0.0           0.0      0.0   \n",
       "mean            NaN          NaN    NaN           NaN      NaN   \n",
       "std             NaN          NaN    NaN           NaN      NaN   \n",
       "min             NaN          NaN    NaN           NaN      NaN   \n",
       "25%             NaN          NaN    NaN           NaN      NaN   \n",
       "50%             NaN          NaN    NaN           NaN      NaN   \n",
       "75%             NaN          NaN    NaN           NaN      NaN   \n",
       "max             NaN          NaN    NaN           NaN      NaN   \n",
       "\n",
       "       airports_nearest  cityCenters_nearest  parks_around3000  parks_nearest  \\\n",
       "count               0.0                  0.0               0.0            0.0   \n",
       "mean                NaN                  NaN               NaN            NaN   \n",
       "std                 NaN                  NaN               NaN            NaN   \n",
       "min                 NaN                  NaN               NaN            NaN   \n",
       "25%                 NaN                  NaN               NaN            NaN   \n",
       "50%                 NaN                  NaN               NaN            NaN   \n",
       "75%                 NaN                  NaN               NaN            NaN   \n",
       "max                 NaN                  NaN               NaN            NaN   \n",
       "\n",
       "       ponds_around3000  ponds_nearest  days_exposition  \\\n",
       "count               0.0            0.0              0.0   \n",
       "mean                NaN            NaN              NaN   \n",
       "std                 NaN            NaN              NaN   \n",
       "min                 NaN            NaN              NaN   \n",
       "25%                 NaN            NaN              NaN   \n",
       "50%                 NaN            NaN              NaN   \n",
       "75%                 NaN            NaN              NaN   \n",
       "max                 NaN            NaN              NaN   \n",
       "\n",
       "       prop_living_to_total_area  prop_kitchen_to_total_area  \n",
       "count                        0.0                         0.0  \n",
       "mean                         NaN                         NaN  \n",
       "std                          NaN                         NaN  \n",
       "min                          NaN                         NaN  \n",
       "25%                          NaN                         NaN  \n",
       "50%                          NaN                         NaN  \n",
       "75%                          NaN                         NaN  \n",
       "max                          NaN                         NaN  "
      ]
     },
     "execution_count": 53,
     "metadata": {},
     "output_type": "execute_result"
    }
   ],
   "source": [
    "data[(pd.isnull(data.parks_around3000)) & (~pd.isnull(data.cityCenters_nearest))].describe()"
   ]
  },
  {
   "cell_type": "markdown",
   "metadata": {},
   "source": [
    "Пропуски в parks_around3000 и в cityCenters_nearest симментричны. Но их лишком много, поэтому удалить не можем.\n",
    "Выделим пропуски в отдельный ДФ и посмотрим на его характеристики."
   ]
  },
  {
   "cell_type": "code",
   "execution_count": 54,
   "metadata": {},
   "outputs": [
    {
     "data": {
      "text/html": [
       "<div>\n",
       "<style scoped>\n",
       "    .dataframe tbody tr th:only-of-type {\n",
       "        vertical-align: middle;\n",
       "    }\n",
       "\n",
       "    .dataframe tbody tr th {\n",
       "        vertical-align: top;\n",
       "    }\n",
       "\n",
       "    .dataframe thead th {\n",
       "        text-align: right;\n",
       "    }\n",
       "</style>\n",
       "<table border=\"1\" class=\"dataframe\">\n",
       "  <thead>\n",
       "    <tr style=\"text-align: right;\">\n",
       "      <th></th>\n",
       "      <th>total_images</th>\n",
       "      <th>last_price</th>\n",
       "      <th>total_area</th>\n",
       "      <th>first_day_exposition</th>\n",
       "      <th>rooms</th>\n",
       "      <th>ceiling_height</th>\n",
       "      <th>floors_total</th>\n",
       "      <th>living_area</th>\n",
       "      <th>floor</th>\n",
       "      <th>is_apartment</th>\n",
       "      <th>studio</th>\n",
       "      <th>open_plan</th>\n",
       "      <th>kitchen_area</th>\n",
       "      <th>balcony</th>\n",
       "      <th>locality_name</th>\n",
       "      <th>airports_nearest</th>\n",
       "      <th>cityCenters_nearest</th>\n",
       "      <th>parks_around3000</th>\n",
       "      <th>parks_nearest</th>\n",
       "      <th>ponds_around3000</th>\n",
       "      <th>ponds_nearest</th>\n",
       "      <th>days_exposition</th>\n",
       "      <th>prop_living_to_total_area</th>\n",
       "      <th>prop_kitchen_to_total_area</th>\n",
       "    </tr>\n",
       "  </thead>\n",
       "  <tbody>\n",
       "    <tr>\n",
       "      <td>5</td>\n",
       "      <td>10</td>\n",
       "      <td>2890000.0</td>\n",
       "      <td>30.40</td>\n",
       "      <td>2018-09-10T00:00:00</td>\n",
       "      <td>1</td>\n",
       "      <td>2.721002</td>\n",
       "      <td>12.0</td>\n",
       "      <td>14.400000</td>\n",
       "      <td>5</td>\n",
       "      <td>False</td>\n",
       "      <td>False</td>\n",
       "      <td>False</td>\n",
       "      <td>9.100000</td>\n",
       "      <td>NaN</td>\n",
       "      <td>городской поселок янино-1</td>\n",
       "      <td>NaN</td>\n",
       "      <td>NaN</td>\n",
       "      <td>NaN</td>\n",
       "      <td>NaN</td>\n",
       "      <td>NaN</td>\n",
       "      <td>NaN</td>\n",
       "      <td>55.0</td>\n",
       "      <td>0.473684</td>\n",
       "      <td>0.299342</td>\n",
       "    </tr>\n",
       "    <tr>\n",
       "      <td>8</td>\n",
       "      <td>20</td>\n",
       "      <td>2900000.0</td>\n",
       "      <td>33.16</td>\n",
       "      <td>2018-05-23T00:00:00</td>\n",
       "      <td>1</td>\n",
       "      <td>2.721002</td>\n",
       "      <td>27.0</td>\n",
       "      <td>15.430000</td>\n",
       "      <td>26</td>\n",
       "      <td>False</td>\n",
       "      <td>False</td>\n",
       "      <td>False</td>\n",
       "      <td>8.810000</td>\n",
       "      <td>NaN</td>\n",
       "      <td>мурино</td>\n",
       "      <td>NaN</td>\n",
       "      <td>NaN</td>\n",
       "      <td>NaN</td>\n",
       "      <td>NaN</td>\n",
       "      <td>NaN</td>\n",
       "      <td>NaN</td>\n",
       "      <td>189.0</td>\n",
       "      <td>0.465320</td>\n",
       "      <td>0.265682</td>\n",
       "    </tr>\n",
       "    <tr>\n",
       "      <td>12</td>\n",
       "      <td>10</td>\n",
       "      <td>3890000.0</td>\n",
       "      <td>54.00</td>\n",
       "      <td>2016-06-30T00:00:00</td>\n",
       "      <td>2</td>\n",
       "      <td>2.721002</td>\n",
       "      <td>5.0</td>\n",
       "      <td>30.000000</td>\n",
       "      <td>5</td>\n",
       "      <td>False</td>\n",
       "      <td>False</td>\n",
       "      <td>False</td>\n",
       "      <td>9.000000</td>\n",
       "      <td>0.0</td>\n",
       "      <td>сертолово</td>\n",
       "      <td>NaN</td>\n",
       "      <td>NaN</td>\n",
       "      <td>NaN</td>\n",
       "      <td>NaN</td>\n",
       "      <td>NaN</td>\n",
       "      <td>NaN</td>\n",
       "      <td>90.0</td>\n",
       "      <td>0.555556</td>\n",
       "      <td>0.166667</td>\n",
       "    </tr>\n",
       "    <tr>\n",
       "      <td>22</td>\n",
       "      <td>20</td>\n",
       "      <td>5000000.0</td>\n",
       "      <td>58.00</td>\n",
       "      <td>2017-04-24T00:00:00</td>\n",
       "      <td>2</td>\n",
       "      <td>2.750000</td>\n",
       "      <td>25.0</td>\n",
       "      <td>30.000000</td>\n",
       "      <td>15</td>\n",
       "      <td>False</td>\n",
       "      <td>False</td>\n",
       "      <td>False</td>\n",
       "      <td>11.000000</td>\n",
       "      <td>2.0</td>\n",
       "      <td>кудрово</td>\n",
       "      <td>NaN</td>\n",
       "      <td>NaN</td>\n",
       "      <td>NaN</td>\n",
       "      <td>NaN</td>\n",
       "      <td>NaN</td>\n",
       "      <td>NaN</td>\n",
       "      <td>60.0</td>\n",
       "      <td>0.517241</td>\n",
       "      <td>0.189655</td>\n",
       "    </tr>\n",
       "    <tr>\n",
       "      <td>30</td>\n",
       "      <td>12</td>\n",
       "      <td>2200000.0</td>\n",
       "      <td>32.80</td>\n",
       "      <td>2018-02-19T00:00:00</td>\n",
       "      <td>1</td>\n",
       "      <td>2.721002</td>\n",
       "      <td>9.0</td>\n",
       "      <td>18.524309</td>\n",
       "      <td>2</td>\n",
       "      <td>False</td>\n",
       "      <td>False</td>\n",
       "      <td>False</td>\n",
       "      <td>5.655172</td>\n",
       "      <td>NaN</td>\n",
       "      <td>коммунар</td>\n",
       "      <td>NaN</td>\n",
       "      <td>NaN</td>\n",
       "      <td>NaN</td>\n",
       "      <td>NaN</td>\n",
       "      <td>NaN</td>\n",
       "      <td>NaN</td>\n",
       "      <td>63.0</td>\n",
       "      <td>0.564766</td>\n",
       "      <td>0.172414</td>\n",
       "    </tr>\n",
       "  </tbody>\n",
       "</table>\n",
       "</div>"
      ],
      "text/plain": [
       "    total_images  last_price  total_area first_day_exposition  rooms  \\\n",
       "5             10   2890000.0       30.40  2018-09-10T00:00:00      1   \n",
       "8             20   2900000.0       33.16  2018-05-23T00:00:00      1   \n",
       "12            10   3890000.0       54.00  2016-06-30T00:00:00      2   \n",
       "22            20   5000000.0       58.00  2017-04-24T00:00:00      2   \n",
       "30            12   2200000.0       32.80  2018-02-19T00:00:00      1   \n",
       "\n",
       "    ceiling_height  floors_total  living_area  floor  is_apartment  studio  \\\n",
       "5         2.721002          12.0    14.400000      5         False   False   \n",
       "8         2.721002          27.0    15.430000     26         False   False   \n",
       "12        2.721002           5.0    30.000000      5         False   False   \n",
       "22        2.750000          25.0    30.000000     15         False   False   \n",
       "30        2.721002           9.0    18.524309      2         False   False   \n",
       "\n",
       "    open_plan  kitchen_area  balcony              locality_name  \\\n",
       "5       False      9.100000      NaN  городской поселок янино-1   \n",
       "8       False      8.810000      NaN                     мурино   \n",
       "12      False      9.000000      0.0                  сертолово   \n",
       "22      False     11.000000      2.0                    кудрово   \n",
       "30      False      5.655172      NaN                   коммунар   \n",
       "\n",
       "    airports_nearest  cityCenters_nearest  parks_around3000  parks_nearest  \\\n",
       "5                NaN                  NaN               NaN            NaN   \n",
       "8                NaN                  NaN               NaN            NaN   \n",
       "12               NaN                  NaN               NaN            NaN   \n",
       "22               NaN                  NaN               NaN            NaN   \n",
       "30               NaN                  NaN               NaN            NaN   \n",
       "\n",
       "    ponds_around3000  ponds_nearest  days_exposition  \\\n",
       "5                NaN            NaN             55.0   \n",
       "8                NaN            NaN            189.0   \n",
       "12               NaN            NaN             90.0   \n",
       "22               NaN            NaN             60.0   \n",
       "30               NaN            NaN             63.0   \n",
       "\n",
       "    prop_living_to_total_area  prop_kitchen_to_total_area  \n",
       "5                    0.473684                    0.299342  \n",
       "8                    0.465320                    0.265682  \n",
       "12                   0.555556                    0.166667  \n",
       "22                   0.517241                    0.189655  \n",
       "30                   0.564766                    0.172414  "
      ]
     },
     "execution_count": 54,
     "metadata": {},
     "output_type": "execute_result"
    }
   ],
   "source": [
    "data_missed = data[data.parks_around3000.isnull()]\n",
    "data_missed.head()"
   ]
  },
  {
   "cell_type": "markdown",
   "metadata": {},
   "source": [
    "Вижу, что пропуски совпадают во всех описаниях, основанных на картографических данных."
   ]
  },
  {
   "cell_type": "markdown",
   "metadata": {},
   "source": [
    "Сравним эти таблицы по ключевым параметрам: количество комнат, этаж, место с таблицей region_data, т.к. большинство пропущенных занчений принадлежат квартирам из лен области"
   ]
  },
  {
   "cell_type": "code",
   "execution_count": 55,
   "metadata": {},
   "outputs": [
    {
     "data": {
      "text/plain": [
       "2     0.173070\n",
       "1     0.166365\n",
       "3     0.136281\n",
       "5     0.126133\n",
       "4     0.121602\n",
       "6     0.038963\n",
       "7     0.037514\n",
       "9     0.030989\n",
       "8     0.028452\n",
       "10    0.022291\n",
       "12    0.017216\n",
       "11    0.015042\n",
       "13    0.013411\n",
       "15    0.013229\n",
       "14    0.010874\n",
       "16    0.009967\n",
       "17    0.009242\n",
       "18    0.007249\n",
       "20    0.003987\n",
       "21    0.003806\n",
       "19    0.003443\n",
       "22    0.003081\n",
       "23    0.002175\n",
       "24    0.002175\n",
       "25    0.001450\n",
       "26    0.001269\n",
       "27    0.000725\n",
       "Name: floor, dtype: float64"
      ]
     },
     "execution_count": 55,
     "metadata": {},
     "output_type": "execute_result"
    }
   ],
   "source": [
    "data_missed.floor.value_counts(normalize=True)"
   ]
  },
  {
   "cell_type": "code",
   "execution_count": 56,
   "metadata": {},
   "outputs": [
    {
     "data": {
      "text/plain": [
       "2     0.167586\n",
       "1     0.165079\n",
       "3     0.137879\n",
       "4     0.123088\n",
       "5     0.122838\n",
       "6     0.042367\n",
       "7     0.035849\n",
       "9     0.032715\n",
       "8     0.031085\n",
       "10    0.021183\n",
       "12    0.015417\n",
       "11    0.014916\n",
       "15    0.013161\n",
       "13    0.011281\n",
       "14    0.010404\n",
       "16    0.009526\n",
       "17    0.008774\n",
       "18    0.007897\n",
       "21    0.005139\n",
       "19    0.004262\n",
       "22    0.004136\n",
       "20    0.003886\n",
       "23    0.003635\n",
       "24    0.002507\n",
       "25    0.002256\n",
       "26    0.002131\n",
       "27    0.001003\n",
       "Name: floor, dtype: float64"
      ]
     },
     "execution_count": 56,
     "metadata": {},
     "output_type": "execute_result"
    }
   ],
   "source": [
    "region_data.floor.value_counts(normalize=True)"
   ]
  },
  {
   "cell_type": "code",
   "execution_count": 57,
   "metadata": {},
   "outputs": [
    {
     "data": {
      "text/plain": [
       "1    0.391265\n",
       "2    0.364987\n",
       "3    0.201885\n",
       "4    0.022109\n",
       "0    0.014317\n",
       "5    0.004531\n",
       "6    0.000544\n",
       "7    0.000362\n",
       "Name: rooms, dtype: float64"
      ]
     },
     "execution_count": 57,
     "metadata": {},
     "output_type": "execute_result"
    }
   ],
   "source": [
    "data_missed.rooms.value_counts(normalize=True)"
   ]
  },
  {
   "cell_type": "code",
   "execution_count": 58,
   "metadata": {},
   "outputs": [
    {
     "data": {
      "text/plain": [
       "1    0.389822\n",
       "2    0.355227\n",
       "3    0.211958\n",
       "4    0.026573\n",
       "0    0.010905\n",
       "5    0.004387\n",
       "6    0.000752\n",
       "7    0.000251\n",
       "8    0.000125\n",
       "Name: rooms, dtype: float64"
      ]
     },
     "execution_count": 58,
     "metadata": {},
     "output_type": "execute_result"
    }
   ],
   "source": [
    "region_data.rooms.value_counts(normalize=True)"
   ]
  },
  {
   "cell_type": "code",
   "execution_count": 59,
   "metadata": {},
   "outputs": [
    {
     "data": {
      "text/plain": [
       "мурино                                   0.106560\n",
       "кудрово                                  0.085538\n",
       "всеволожск                               0.072128\n",
       "гатчина                                  0.055636\n",
       "выборг                                   0.042950\n",
       "                                           ...   \n",
       "поселок рабитицы                         0.000181\n",
       "поселок володарское                      0.000181\n",
       "поселок городского типа большая ижора    0.000181\n",
       "деревня курковицы                        0.000181\n",
       "поселок платформа 69-й километр          0.000181\n",
       "Name: locality_name, Length: 309, dtype: float64"
      ]
     },
     "execution_count": 59,
     "metadata": {},
     "output_type": "execute_result"
    }
   ],
   "source": [
    "data_missed.locality_name.value_counts(normalize=True)"
   ]
  },
  {
   "cell_type": "code",
   "execution_count": 60,
   "metadata": {},
   "outputs": [
    {
     "data": {
      "text/plain": [
       "мурино                               0.074410\n",
       "кудрово                              0.059528\n",
       "шушары                               0.055492\n",
       "всеволожск                           0.050195\n",
       "пушкин                               0.046538\n",
       "                                       ...   \n",
       "садовое товарищество приладожский    0.000126\n",
       "поселок жилпоселок                   0.000126\n",
       "поселок ромашки                      0.000126\n",
       "деревня шпаньково                    0.000126\n",
       "деревня лупполово                    0.000126\n",
       "Name: locality_name, Length: 327, dtype: float64"
      ]
     },
     "execution_count": 60,
     "metadata": {},
     "output_type": "execute_result"
    }
   ],
   "source": [
    "region_data.locality_name.value_counts(normalize=True)"
   ]
  },
  {
   "cell_type": "markdown",
   "metadata": {},
   "source": [
    "В целом, показатели похожи, поэтому буду считать пропуски случайными и заполню их медианными либо средними значениями."
   ]
  },
  {
   "cell_type": "markdown",
   "metadata": {},
   "source": [
    "8. Заменю пропуски в airports_nearest"
   ]
  },
  {
   "cell_type": "code",
   "execution_count": 61,
   "metadata": {},
   "outputs": [
    {
     "data": {
      "text/plain": [
       "5542"
      ]
     },
     "execution_count": 61,
     "metadata": {},
     "output_type": "execute_result"
    }
   ],
   "source": [
    "data['airports_nearest'].isnull().sum() # много значений, рассмотрю подробнее"
   ]
  },
  {
   "cell_type": "markdown",
   "metadata": {},
   "source": [
    "Рассмотрю 2 гистограммы для параметра airports_nearest: для СПБ и ЛО:"
   ]
  },
  {
   "cell_type": "code",
   "execution_count": 62,
   "metadata": {},
   "outputs": [
    {
     "data": {
      "image/png": "[encoded data removed]",
      "text/plain": [
       "<Figure size 432x288 with 1 Axes>"
      ]
     },
     "metadata": {
      "needs_background": "light"
     },
     "output_type": "display_data"
    }
   ],
   "source": [
    "ax = spb_data.airports_nearest.hist(bins=50)\n",
    "ax.set_xlabel('Расстояние до ближайшего аэропорта, м', fontsize = 10);\n",
    "ax.set_ylabel('Количество квартир, шт', fontsize = 10);\n",
    "ax.set_title('Распределение параметра расстояния до аэпропорта, СПБ', fontsize = 10);"
   ]
  },
  {
   "cell_type": "code",
   "execution_count": 63,
   "metadata": {},
   "outputs": [
    {
     "data": {
      "image/png": "[encoded data removed]",
      "text/plain": [
       "<Figure size 432x288 with 1 Axes>"
      ]
     },
     "metadata": {
      "needs_background": "light"
     },
     "output_type": "display_data"
    }
   ],
   "source": [
    "ax = region_data.airports_nearest.hist(bins=100) # выберу для заполнения пропусков в лен области медиану\n",
    "ax.set_xlabel('Расстояние до ближайшего аэропорта, м', fontsize = 10);\n",
    "ax.set_ylabel('Количество квартир, шт', fontsize = 10);\n",
    "ax.set_title('Распределение параметра расстояния до аэпропорта, ЛО', fontsize = 10);"
   ]
  },
  {
   "cell_type": "markdown",
   "metadata": {},
   "source": [
    "что я увидела:\n",
    "1. В ЛО расстояния до аэропорта поделились на группы. Предположу, что причиной этому разная отдаленность от аэропорта для разных населенных пунктов;\n",
    "2. В СПБ распределение больше похоже на нормальное, но видно некоторое различие по, наверно, районам. Но данных о районах у нас нет. \n",
    "\n",
    "Вывод: заполню пропуски медианными значениями для каждого населенного пункта."
   ]
  },
  {
   "cell_type": "code",
   "execution_count": 64,
   "metadata": {},
   "outputs": [],
   "source": [
    "data['airports_nearest'] = (data.groupby('locality_name')['airports_nearest']\n",
    " .apply(lambda x: x.fillna(x.median())))"
   ]
  },
  {
   "cell_type": "code",
   "execution_count": 65,
   "metadata": {},
   "outputs": [
    {
     "data": {
      "text/plain": [
       "4830"
      ]
     },
     "execution_count": 65,
     "metadata": {},
     "output_type": "execute_result"
    }
   ],
   "source": [
    "data['airports_nearest'].isnull().sum()"
   ]
  },
  {
   "cell_type": "markdown",
   "metadata": {},
   "source": [
    "Заполнились не все пропуски, значит, для некоторых локаций вообще ни в одной строке не был заполнен параметр airports_nearest. Поэтому заполню оставшиеся пропуски медианными значениями airports_nearest по СПБ и ЛО."
   ]
  },
  {
   "cell_type": "code",
   "execution_count": 66,
   "metadata": {},
   "outputs": [],
   "source": [
    "# для ленобласти заполнила медианой по СПБ\n",
    "data.loc[data['locality_name'] == 'санкт-петербург', 'airports_nearest'] = data.loc[\n",
    "data['locality_name'] == 'санкт-петербург', 'airports_nearest'].fillna(spb_data[\n",
    "'airports_nearest'].median())"
   ]
  },
  {
   "cell_type": "code",
   "execution_count": 67,
   "metadata": {},
   "outputs": [],
   "source": [
    "# для ленобласти заполнила медианой по ленобласти\n",
    "data.loc[data['locality_name'] != 'санкт-петербург', 'airports_nearest'] = data.loc[\n",
    "data['locality_name'] != 'санкт-петербург', 'airports_nearest'].fillna(region_data[\n",
    "'airports_nearest'].median())"
   ]
  },
  {
   "cell_type": "markdown",
   "metadata": {},
   "source": [
    "9. Заполню пропуски в cityCenters_nearest."
   ]
  },
  {
   "cell_type": "code",
   "execution_count": 68,
   "metadata": {},
   "outputs": [
    {
     "data": {
      "text/plain": [
       "0"
      ]
     },
     "execution_count": 68,
     "metadata": {},
     "output_type": "execute_result"
    }
   ],
   "source": [
    "data['airports_nearest'].isnull().sum() # проверила количество пропусков"
   ]
  },
  {
   "cell_type": "code",
   "execution_count": 69,
   "metadata": {},
   "outputs": [
    {
     "data": {
      "text/plain": [
       "5519"
      ]
     },
     "execution_count": 69,
     "metadata": {},
     "output_type": "execute_result"
    }
   ],
   "source": [
    "data['cityCenters_nearest'].isnull().sum() # посчитала количество пропусков"
   ]
  },
  {
   "cell_type": "code",
   "execution_count": 70,
   "metadata": {},
   "outputs": [
    {
     "data": {
      "text/plain": [
       "61"
      ]
     },
     "execution_count": 70,
     "metadata": {},
     "output_type": "execute_result"
    }
   ],
   "source": [
    "spb_data['cityCenters_nearest'].isnull().sum() # посчитала кол-во пропусков в СПБ"
   ]
  },
  {
   "cell_type": "code",
   "execution_count": 71,
   "metadata": {},
   "outputs": [
    {
     "data": {
      "text/plain": [
       "5458"
      ]
     },
     "execution_count": 71,
     "metadata": {},
     "output_type": "execute_result"
    }
   ],
   "source": [
    "region_data['cityCenters_nearest'].isnull().sum() # посчитала кол-во пропусков в области"
   ]
  },
  {
   "cell_type": "code",
   "execution_count": 72,
   "metadata": {},
   "outputs": [
    {
     "data": {
      "image/png": "[encoded data removed]",
      "text/plain": [
       "<Figure size 432x288 with 1 Axes>"
      ]
     },
     "metadata": {
      "needs_background": "light"
     },
     "output_type": "display_data"
    }
   ],
   "source": [
    "ax = spb_data.cityCenters_nearest.hist(bins=100) # гистограма похожа на нормальное распределение\n",
    "ax.set_xlabel('Расстояние до центра, м', fontsize = 10);\n",
    "ax.set_ylabel('Количество квартир, шт', fontsize = 10);\n",
    "ax.set_title('Распределение параметра расстояния до центра, СПБ', fontsize = 10);"
   ]
  },
  {
   "cell_type": "code",
   "execution_count": 73,
   "metadata": {},
   "outputs": [
    {
     "data": {
      "image/png": "[encoded data removed]",
      "text/plain": [
       "<Figure size 432x288 with 1 Axes>"
      ]
     },
     "metadata": {
      "needs_background": "light"
     },
     "output_type": "display_data"
    }
   ],
   "source": [
    "ax = region_data.cityCenters_nearest.hist(bins=100)\n",
    "ax.set_xlabel('Расстояние до центра, м', fontsize = 10);\n",
    "ax.set_ylabel('Количество квартир, шт', fontsize = 10);\n",
    "ax.set_title('Распределение параметра расстояния до центра, ЛО', fontsize = 10);"
   ]
  },
  {
   "cell_type": "markdown",
   "metadata": {},
   "source": [
    "Что я увидела:\n",
    "1. пропусков по СПБ мало (61), по ЛО - много (5458).\n",
    "2. Распределение значений cityCenters_nearest снова зависит от населенного пунктя для ЛО и, как я предполагада ранее, от района для СПБ.\n",
    "3. Заполню пропуски медианными значениями для каждого населенного пункта, т.к. для ЛО это будет приближенно к правде, а для СПБ, наверно, будет менее точно, но, пропусков для СПБ мало, поэтому осталю эту пограшность для СПБ."
   ]
  },
  {
   "cell_type": "code",
   "execution_count": 74,
   "metadata": {},
   "outputs": [],
   "source": [
    "data['cityCenters_nearest'] = (data.groupby('locality_name')['cityCenters_nearest']\n",
    " .apply(lambda x: x.fillna(x.median())))"
   ]
  },
  {
   "cell_type": "code",
   "execution_count": 75,
   "metadata": {},
   "outputs": [
    {
     "data": {
      "text/plain": [
       "4830"
      ]
     },
     "execution_count": 75,
     "metadata": {},
     "output_type": "execute_result"
    }
   ],
   "source": [
    "data['cityCenters_nearest'].isnull().sum() # проверила количество пропусков"
   ]
  },
  {
   "cell_type": "markdown",
   "metadata": {},
   "source": [
    "Заполнились не все пропуски, значит, для некоторых локаций вообще ни в одной строке не был заполнен параметр\n",
    "cityCenters_nearest. Поэтому заполню оставшиеся пропуски медианными значениями cityCenters_nearest по СПБ и ЛО."
   ]
  },
  {
   "cell_type": "code",
   "execution_count": 76,
   "metadata": {},
   "outputs": [],
   "source": [
    "# заполнила медианой по СПБ\n",
    "data.loc[data['locality_name'] == 'санкт-петербург', 'cityCenters_nearest'] = (data\n",
    "                        .loc[data['locality_name'] == 'санкт-петербург', 'cityCenters_nearest']\n",
    "                        .fillna(spb_data['cityCenters_nearest']\n",
    "                        .median()))"
   ]
  },
  {
   "cell_type": "code",
   "execution_count": 77,
   "metadata": {},
   "outputs": [],
   "source": [
    "# заполнила медианой по ЛО\n",
    "data.loc[data['locality_name'] != 'санкт-петербург', 'cityCenters_nearest'] = (data\n",
    "                        .loc[data['locality_name'] != 'санкт-петербург', 'cityCenters_nearest']\n",
    "                        .fillna(region_data['cityCenters_nearest']\n",
    "                        .median()))"
   ]
  },
  {
   "cell_type": "code",
   "execution_count": 78,
   "metadata": {},
   "outputs": [
    {
     "data": {
      "text/plain": [
       "0"
      ]
     },
     "execution_count": 78,
     "metadata": {},
     "output_type": "execute_result"
    }
   ],
   "source": [
    "data['cityCenters_nearest'].isnull().sum() # проверила количество пропусков"
   ]
  },
  {
   "cell_type": "markdown",
   "metadata": {},
   "source": [
    "10. Заполню пропуски в parks_around3000."
   ]
  },
  {
   "cell_type": "code",
   "execution_count": 79,
   "metadata": {},
   "outputs": [
    {
     "data": {
      "text/plain": [
       "5518"
      ]
     },
     "execution_count": 79,
     "metadata": {},
     "output_type": "execute_result"
    }
   ],
   "source": [
    "data['parks_around3000'].isnull().sum() # посчитаем пропуски в parks_around3000"
   ]
  },
  {
   "cell_type": "code",
   "execution_count": 80,
   "metadata": {},
   "outputs": [
    {
     "data": {
      "image/png": "[encoded data removed]",
      "text/plain": [
       "<Figure size 432x288 with 1 Axes>"
      ]
     },
     "metadata": {
      "needs_background": "light"
     },
     "output_type": "display_data"
    }
   ],
   "source": [
    "ax = spb_data.parks_around3000.hist(bins=100)\n",
    "ax.set_xlabel('Количество парков в r=3000 м, шт', fontsize = 10);\n",
    "ax.set_ylabel('Количество квартир, шт', fontsize = 10);\n",
    "ax.set_title('Распределение количества парков в r=3000 м, СПБ', fontsize = 10);\n",
    "ax.xaxis.set_major_locator(MaxNLocator(integer=True))"
   ]
  },
  {
   "cell_type": "code",
   "execution_count": 81,
   "metadata": {},
   "outputs": [
    {
     "data": {
      "image/png": "[encoded data removed]",
      "text/plain": [
       "<Figure size 432x288 with 1 Axes>"
      ]
     },
     "metadata": {
      "needs_background": "light"
     },
     "output_type": "display_data"
    }
   ],
   "source": [
    "ax = region_data.parks_around3000.hist(bins=100)\n",
    "ax.set_xlabel('Количество парков в r=3000 м, шт', fontsize = 10);\n",
    "ax.set_ylabel('Количество квартир, шт', fontsize = 10);\n",
    "ax.set_title('Распределение количества парков в r=3000 м, ЛО', fontsize = 10);\n",
    "ax.xaxis.set_major_locator(MaxNLocator(integer=True))"
   ]
  },
  {
   "cell_type": "markdown",
   "metadata": {},
   "source": [
    "Заполню пропуски медианным значением дя каждого населенного пункта."
   ]
  },
  {
   "cell_type": "code",
   "execution_count": 82,
   "metadata": {},
   "outputs": [],
   "source": [
    "data['parks_around3000'] = (data.groupby('locality_name')['parks_around3000']\n",
    " .apply(lambda x: x.fillna(x.median())))"
   ]
  },
  {
   "cell_type": "code",
   "execution_count": 83,
   "metadata": {},
   "outputs": [
    {
     "data": {
      "text/plain": [
       "4830"
      ]
     },
     "execution_count": 83,
     "metadata": {},
     "output_type": "execute_result"
    }
   ],
   "source": [
    "data['parks_around3000'].isnull().sum() # посчитаем пропуски в parks_around3000"
   ]
  },
  {
   "cell_type": "markdown",
   "metadata": {},
   "source": [
    "Заполнились не все пропуски, значит, для некоторых локаций вообще ни в одной строке не был заполнен параметр\n",
    "parks_around3000. Оставлю эти пропуски, т.к. их много, а у меня слишком мало информации, чтобы их заполнить."
   ]
  },
  {
   "cell_type": "code",
   "execution_count": 84,
   "metadata": {},
   "outputs": [
    {
     "data": {
      "text/plain": [
       "4830"
      ]
     },
     "execution_count": 84,
     "metadata": {},
     "output_type": "execute_result"
    }
   ],
   "source": [
    "data['parks_around3000'].isnull().sum() # посчитаем пропуски в parks_around3000"
   ]
  },
  {
   "cell_type": "markdown",
   "metadata": {},
   "source": [
    "11. Заполню пропуски в parks_nearest."
   ]
  },
  {
   "cell_type": "code",
   "execution_count": 85,
   "metadata": {},
   "outputs": [
    {
     "data": {
      "text/plain": [
       "15620"
      ]
     },
     "execution_count": 85,
     "metadata": {},
     "output_type": "execute_result"
    }
   ],
   "source": [
    "data['parks_nearest'].isnull().sum() # посчитаем пропуски в parks_nearest"
   ]
  },
  {
   "cell_type": "markdown",
   "metadata": {},
   "source": [
    "Рассмотрю распределение parks_nearest для СПБ и ЛО:"
   ]
  },
  {
   "cell_type": "code",
   "execution_count": 86,
   "metadata": {},
   "outputs": [
    {
     "data": {
      "image/png": "[encoded data removed]",
      "text/plain": [
       "<Figure size 432x288 with 1 Axes>"
      ]
     },
     "metadata": {
      "needs_background": "light"
     },
     "output_type": "display_data"
    }
   ],
   "source": [
    "ax = spb_data.parks_nearest.hist(bins=100) # гистограмма расстояния до парка СПБ\n",
    "ax.set_xlabel('Расстояние до ближайшего парка, м', fontsize = 10);\n",
    "ax.set_ylabel('Количество квартир, шт', fontsize = 10);\n",
    "ax.set_title('Распределение параметра расстояния до ближайшего парка, СПБ', fontsize = 10);"
   ]
  },
  {
   "cell_type": "code",
   "execution_count": 87,
   "metadata": {},
   "outputs": [
    {
     "data": {
      "image/png": "[encoded data removed]",
      "text/plain": [
       "<Figure size 432x288 with 1 Axes>"
      ]
     },
     "metadata": {
      "needs_background": "light"
     },
     "output_type": "display_data"
    }
   ],
   "source": [
    "ax = region_data.parks_nearest.hist(bins=100) # гистограмма расстояния до парка Лен область\n",
    "ax.set_xlabel('Расстояние до ближайшего парка, м', fontsize = 10);\n",
    "ax.set_ylabel('Количество квартир, шт', fontsize = 10);\n",
    "ax.set_title('Распределение параметра расстояния до ближайшего парка, ЛО', fontsize = 10);"
   ]
  },
  {
   "cell_type": "markdown",
   "metadata": {},
   "source": [
    "Заполню пропуски медианным значением дя каждого населенного пункта."
   ]
  },
  {
   "cell_type": "code",
   "execution_count": 88,
   "metadata": {},
   "outputs": [],
   "source": [
    "data['parks_nearest'] = (data.groupby('locality_name')['parks_nearest']\n",
    " .apply(lambda x: x.fillna(x.median())))"
   ]
  },
  {
   "cell_type": "code",
   "execution_count": 89,
   "metadata": {},
   "outputs": [
    {
     "data": {
      "text/plain": [
       "5998"
      ]
     },
     "execution_count": 89,
     "metadata": {},
     "output_type": "execute_result"
    }
   ],
   "source": [
    "data['parks_nearest'].isnull().sum() # посчитаем пропуски в parks_nearest"
   ]
  },
  {
   "cell_type": "markdown",
   "metadata": {},
   "source": [
    "Заполнились не все пропуски, значит, для некоторых локаций вообще ни в одной строке не был заполнен параметр\n",
    "parks_nearest. Оставлю эти пропуски, т.к. их много, а у меня слишком мало информации, чтобы их заполнить."
   ]
  },
  {
   "cell_type": "markdown",
   "metadata": {},
   "source": [
    "Вижу несовпадение: медианное количество парков в 3000м от дома в Лен. области равно 0, но медианное расстояние о парка равно 376.000000\n",
    "Также можно заметить, что максимальное расстояние до парка это 2131 м в Лен области и 3190 м в СПБ. Получается, в Лен области рядом с каждым домом есть парк в радиусе 3000 м, а в СПБ - почти каждым. При этом в Лен области боьше половины значений parks_around3000 равны 0, а в СПБ - почти половина. То есть данные parks_around3000 и parks_nearest противоречат друг другу. \n",
    "То же самое можно сказать о данных ponds_around3000 и ponds_nearest.\n",
    "Я предполагаю, что картографические данные по категориям parks_around3000 и parks_nearest, ponds_around3000 и ponds_nearest\n",
    "рассчитаны неверно. У меня возникли следующие вопросы:\n",
    "1. Что считается парком? Те объекты, которые официально называются парком, или лес тоже? Или двор, с густорастущими деревьями тоже?\n",
    "2. Что считается водоемом? Каналы СПБ считаются водоемами? \n",
    "\n",
    "Таким образом, исходя из спортных данных, вопросов выше, а также количества пропусков в данных для parks_nearest и ponds_nearest (заполнены только 8079 и 9110 соответственно, что составляет меньше трети), далее, при анализе я не буду учитывать столбцы parks_nearest и ponds_nearest.\n",
    "\n",
    "Вывод: сообщить расзработчикам, что какие-то из параметров выше скорее всего считаются неверно и требуют дополнительной проверки."
   ]
  },
  {
   "cell_type": "markdown",
   "metadata": {},
   "source": [
    "12, 13. Заполню пропуски в ponds_around3000, ponds_nearest."
   ]
  },
  {
   "cell_type": "code",
   "execution_count": 90,
   "metadata": {},
   "outputs": [
    {
     "data": {
      "text/plain": [
       "5518"
      ]
     },
     "execution_count": 90,
     "metadata": {},
     "output_type": "execute_result"
    }
   ],
   "source": [
    "data['ponds_around3000'].isnull().sum() # посчитаем пропуски в ponds_around3000"
   ]
  },
  {
   "cell_type": "code",
   "execution_count": 91,
   "metadata": {},
   "outputs": [
    {
     "data": {
      "text/plain": [
       "14589"
      ]
     },
     "execution_count": 91,
     "metadata": {},
     "output_type": "execute_result"
    }
   ],
   "source": [
    "data['ponds_nearest'].isnull().sum() # посчитаем пропуски в ponds_nearest"
   ]
  },
  {
   "cell_type": "code",
   "execution_count": 92,
   "metadata": {},
   "outputs": [
    {
     "data": {
      "image/png": "[encoded data removed]",
      "text/plain": [
       "<Figure size 432x288 with 1 Axes>"
      ]
     },
     "metadata": {
      "needs_background": "light"
     },
     "output_type": "display_data"
    }
   ],
   "source": [
    "ax = spb_data.ponds_around3000.hist(bins=100) # гистограмма кол-во прудов СПБ\n",
    "ax.set_xlabel('Количество водоемов в r=3000 м, шт', fontsize = 10);\n",
    "ax.set_ylabel('Количество квартир, шт', fontsize = 10);\n",
    "ax.set_title('Распределение количества водоемов в r=3000 м, СПБ', fontsize = 10);\n",
    "ax.xaxis.set_major_locator(MaxNLocator(integer=True))"
   ]
  },
  {
   "cell_type": "code",
   "execution_count": 93,
   "metadata": {},
   "outputs": [
    {
     "data": {
      "image/png": "[encoded data removed]",
      "text/plain": [
       "<Figure size 432x288 with 1 Axes>"
      ]
     },
     "metadata": {
      "needs_background": "light"
     },
     "output_type": "display_data"
    }
   ],
   "source": [
    "ax = region_data.ponds_around3000.hist(bins=100) # гистограмма кол-во прудов Лен область\n",
    "ax.set_xlabel('Количество водоемов в r=3000 м, шт', fontsize = 10);\n",
    "ax.set_ylabel('Количество квартир, шт', fontsize = 10);\n",
    "ax.set_title('Распределение количества водоемов в r=3000 м, ЛО', fontsize = 10);\n",
    "ax.xaxis.set_major_locator(MaxNLocator(integer=True))"
   ]
  },
  {
   "cell_type": "code",
   "execution_count": 94,
   "metadata": {},
   "outputs": [
    {
     "data": {
      "image/png": "[encoded data removed]",
      "text/plain": [
       "<Figure size 432x288 with 1 Axes>"
      ]
     },
     "metadata": {
      "needs_background": "light"
     },
     "output_type": "display_data"
    }
   ],
   "source": [
    "ax = spb_data.ponds_nearest.hist(bins=100)  # гистограмма расстояние до ближайшего пруда СПБ\n",
    "ax.set_xlabel('Расстояние до ближайшего водоема, м', fontsize = 10);\n",
    "ax.set_ylabel('Количество квартир, шт', fontsize = 10);\n",
    "ax.set_title('Распределение параметра расстояния до ближайшего водоема, СПБ', fontsize = 10);"
   ]
  },
  {
   "cell_type": "code",
   "execution_count": 95,
   "metadata": {},
   "outputs": [
    {
     "data": {
      "image/png": "[encoded data removed]",
      "text/plain": [
       "<Figure size 432x288 with 1 Axes>"
      ]
     },
     "metadata": {
      "needs_background": "light"
     },
     "output_type": "display_data"
    }
   ],
   "source": [
    "ax = region_data.ponds_nearest.hist(bins=100) # гистограмма расстояние до ближайшего пруда ЛО\n",
    "ax.set_xlabel('Расстояние до ближайшего водоема, м', fontsize = 10);\n",
    "ax.set_ylabel('Количество квартир, шт', fontsize = 10);\n",
    "ax.set_title('Распределение параметра расстояния до ближайшего водоема, ЛО', fontsize = 10);"
   ]
  },
  {
   "cell_type": "markdown",
   "metadata": {},
   "source": [
    "Заполню пропуски медианным значением дя каждого населенного пункта."
   ]
  },
  {
   "cell_type": "code",
   "execution_count": 96,
   "metadata": {},
   "outputs": [],
   "source": [
    "data['ponds_around3000'] = (data.groupby('locality_name')['ponds_around3000']\n",
    " .apply(lambda x: x.fillna(x.median())))"
   ]
  },
  {
   "cell_type": "code",
   "execution_count": 97,
   "metadata": {},
   "outputs": [],
   "source": [
    "data['ponds_nearest'] = (data.groupby('locality_name')['ponds_nearest']\n",
    " .apply(lambda x: x.fillna(x.median())))"
   ]
  },
  {
   "cell_type": "code",
   "execution_count": 98,
   "metadata": {},
   "outputs": [
    {
     "data": {
      "text/plain": [
       "4830"
      ]
     },
     "execution_count": 98,
     "metadata": {},
     "output_type": "execute_result"
    }
   ],
   "source": [
    "data['ponds_around3000'].isnull().sum() # посчитаем пропуски в ponds_around3000"
   ]
  },
  {
   "cell_type": "code",
   "execution_count": 99,
   "metadata": {},
   "outputs": [
    {
     "data": {
      "text/plain": [
       "4938"
      ]
     },
     "execution_count": 99,
     "metadata": {},
     "output_type": "execute_result"
    }
   ],
   "source": [
    "data['ponds_nearest'].isnull().sum() # посчитаем пропуски в ponds_nearest"
   ]
  },
  {
   "cell_type": "markdown",
   "metadata": {},
   "source": [
    "Заполнились не все пропуски, значит, для некоторых локаций вообще ни в одной строке не был заполнен параметр ponds_around3000, ponds_nearest . Оставлю эти пропуски, т.к. их много, а у меня слишком мало информации, чтобы их заполнить."
   ]
  },
  {
   "cell_type": "markdown",
   "metadata": {},
   "source": [
    "14. Заполню пропуск в days_exposition."
   ]
  },
  {
   "cell_type": "code",
   "execution_count": 100,
   "metadata": {},
   "outputs": [
    {
     "data": {
      "text/plain": [
       "3181"
      ]
     },
     "execution_count": 100,
     "metadata": {},
     "output_type": "execute_result"
    }
   ],
   "source": [
    "data['days_exposition'].isnull().sum() #посчитала количество пропусков в days_exposition"
   ]
  },
  {
   "cell_type": "markdown",
   "metadata": {},
   "source": [
    "Так как я не знаю причины возникновения этих пропусков и, возможно, эти объявления еще активные, то я не буду их заполнять."
   ]
  },
  {
   "cell_type": "markdown",
   "metadata": {},
   "source": [
    "Заменю тип переменных:"
   ]
  },
  {
   "cell_type": "markdown",
   "metadata": {},
   "source": [
    "Для параметров ниже заменю тип переменных на целочисленный, т.к. эти данные о этажах могут быть только целыми, а в цене и расстояниях нас не интересут цифры после запятой."
   ]
  },
  {
   "cell_type": "code",
   "execution_count": 101,
   "metadata": {},
   "outputs": [],
   "source": [
    "for element in ['last_price', 'floors_total', 'cityCenters_nearest',\n",
    "                'airports_nearest']:\n",
    "    data[element] = data[element].astype('int')"
   ]
  },
  {
   "cell_type": "code",
   "execution_count": 102,
   "metadata": {},
   "outputs": [],
   "source": [
    "data['is_apartment'] = data['is_apartment'].astype('bool') # эта перменная принимает 2 значения True or False\n",
    "# следовательно, она принадлежит к типу bool"
   ]
  },
  {
   "cell_type": "code",
   "execution_count": 103,
   "metadata": {},
   "outputs": [],
   "source": [
    "data['first_day_exposition'] = pd.to_datetime(data['first_day_exposition'], format='%Y-%m-%dT%H:%M:%S')\n",
    "# перевела доту в формат datetime64"
   ]
  },
  {
   "cell_type": "code",
   "execution_count": 104,
   "metadata": {},
   "outputs": [
    {
     "name": "stdout",
     "output_type": "stream",
     "text": [
      "<class 'pandas.core.frame.DataFrame'>\n",
      "RangeIndex: 23699 entries, 0 to 23698\n",
      "Data columns (total 24 columns):\n",
      "total_images                  23699 non-null int64\n",
      "last_price                    23699 non-null int64\n",
      "total_area                    23699 non-null float64\n",
      "first_day_exposition          23699 non-null datetime64[ns]\n",
      "rooms                         23699 non-null int64\n",
      "ceiling_height                23699 non-null float64\n",
      "floors_total                  23699 non-null int64\n",
      "living_area                   23699 non-null float64\n",
      "floor                         23699 non-null int64\n",
      "is_apartment                  23699 non-null bool\n",
      "studio                        23699 non-null bool\n",
      "open_plan                     23699 non-null bool\n",
      "kitchen_area                  23699 non-null float64\n",
      "balcony                       12180 non-null float64\n",
      "locality_name                 23699 non-null object\n",
      "airports_nearest              23699 non-null int64\n",
      "cityCenters_nearest           23699 non-null int64\n",
      "parks_around3000              18869 non-null float64\n",
      "parks_nearest                 17701 non-null float64\n",
      "ponds_around3000              18869 non-null float64\n",
      "ponds_nearest                 18761 non-null float64\n",
      "days_exposition               20518 non-null float64\n",
      "prop_living_to_total_area     23699 non-null float64\n",
      "prop_kitchen_to_total_area    23699 non-null float64\n",
      "dtypes: bool(3), datetime64[ns](1), float64(12), int64(7), object(1)\n",
      "memory usage: 3.9+ MB\n"
     ]
    }
   ],
   "source": [
    "data.info() # проверила: пропусков нет, типы переменных заменены"
   ]
  },
  {
   "cell_type": "markdown",
   "metadata": {},
   "source": [
    "Проверю полные дубликаты строк в датафрейме. Если такие найдутся, буду считать что дублирование произошло по ошибке и удалю дубли."
   ]
  },
  {
   "cell_type": "code",
   "execution_count": 105,
   "metadata": {},
   "outputs": [
    {
     "data": {
      "text/plain": [
       "0"
      ]
     },
     "execution_count": 105,
     "metadata": {},
     "output_type": "execute_result"
    }
   ],
   "source": [
    "data.duplicated().sum()"
   ]
  },
  {
   "cell_type": "markdown",
   "metadata": {},
   "source": [
    "Дубликатов нет. Можно переходить к следующему шагу."
   ]
  },
  {
   "cell_type": "markdown",
   "metadata": {},
   "source": [
    "Общий вывод:\n",
    "\n",
    "I. Пропусков в изначальном датафрейме было очень много -  в 14 столбцах из 31. Это логично - большую часть параметров заполняли люди, а они не любят заполнять абсолютно все ячейки в форме, или даже просто не знают некоторых данных о своей квартире.\n",
    "Также много пропусков было в картографических данных, рассчитываемых автоматически, и некоторые данные противоречили друг другу. Как мне кажется, это говорит о том, что даже заполненные данные нельзя считать корректными, поэтому далее я не буду учитывать эти параметры при анализе.\n",
    "\n",
    "II. Я заменила в столбцах ceiling_height, floors_total, living_area, is_apartment, kitchen_area, locality_name, airports_nearest, cityCenters_nearest в тех случаях, когда:\n",
    "1. Пропусков было мало;\n",
    "2. Я смогла найти зависимость между одним параметром и другим;\n",
    "3. Данные были однородными и можно было заменить пропуски средним/медианой\n",
    "\n",
    "III. Я частично заполнила пропуски в столбцах parks_around3000, parks_nearest, ponds_around3000, ponds_nearest, т.к. заменяла пропуски медианным значением для каждого населенного пункта, но не для всех населенных пунктов такие значения нашлись. В таких случаях я оставила пропуски на месте.\n",
    "\n",
    "VI. Я не заполнила пропуски в столбце days_exposition, т.к. эти объявления еще могут висеть на сайте.\n",
    "\n",
    "VII. Я не заполнила пропуски в столбце balcony, т.к. их было слишком много (почти половина всех строк) и я не нашла зависимости колчества балконов и какого-либо другого параметра из таблицы."
   ]
  },
  {
   "cell_type": "markdown",
   "metadata": {},
   "source": [
    "### Шаг 3. Анализ данных."
   ]
  },
  {
   "cell_type": "markdown",
   "metadata": {},
   "source": [
    "1. Добавлю столбец с ценой за квадратны метр."
   ]
  },
  {
   "cell_type": "code",
   "execution_count": 106,
   "metadata": {},
   "outputs": [],
   "source": [
    "data['price_per_square_metre'] = data['last_price'] / data['total_area']"
   ]
  },
  {
   "cell_type": "code",
   "execution_count": 107,
   "metadata": {},
   "outputs": [],
   "source": [
    "data['price_per_square_metre'] = data['price_per_square_metre'].astype('int') \n",
    "# цифры после нуля в цене нам не важны"
   ]
  },
  {
   "cell_type": "markdown",
   "metadata": {},
   "source": [
    "2. Добавлю столбец с категоризацией этажей."
   ]
  },
  {
   "cell_type": "markdown",
   "metadata": {},
   "source": [
    "Создам функцию для категоризации:"
   ]
  },
  {
   "cell_type": "code",
   "execution_count": 108,
   "metadata": {},
   "outputs": [],
   "source": [
    "def floor_categorization(row):\n",
    "    if row['floor'] == 1:\n",
    "        return 'первый'\n",
    "    if row['floor'] == row['floors_total']:\n",
    "        return 'последний'\n",
    "    return 'другой'     "
   ]
  },
  {
   "cell_type": "markdown",
   "metadata": {},
   "source": [
    "Через apply применю эту функцию и добавлю новый столбец floor_category с результатами категоризации:"
   ]
  },
  {
   "cell_type": "code",
   "execution_count": 109,
   "metadata": {},
   "outputs": [],
   "source": [
    "data['floor_category'] = data.apply(floor_categorization, axis=1)"
   ]
  },
  {
   "cell_type": "code",
   "execution_count": 110,
   "metadata": {},
   "outputs": [
    {
     "data": {
      "text/plain": [
       "другой       17363\n",
       "последний     3419\n",
       "первый        2917\n",
       "Name: floor_category, dtype: int64"
      ]
     },
     "execution_count": 110,
     "metadata": {},
     "output_type": "execute_result"
    }
   ],
   "source": [
    "data['floor_category'].value_counts() # проверила"
   ]
  },
  {
   "cell_type": "markdown",
   "metadata": {},
   "source": [
    "3. Добавлю в таблицу столбцы с данными: день недели, месяц и год публикации."
   ]
  },
  {
   "cell_type": "code",
   "execution_count": 111,
   "metadata": {},
   "outputs": [],
   "source": [
    "data['weekday'] = pd.DatetimeIndex(data['first_day_exposition']).weekday"
   ]
  },
  {
   "cell_type": "code",
   "execution_count": 112,
   "metadata": {},
   "outputs": [],
   "source": [
    "data['month'] = pd.DatetimeIndex(data['first_day_exposition']).month"
   ]
  },
  {
   "cell_type": "code",
   "execution_count": 113,
   "metadata": {},
   "outputs": [],
   "source": [
    "data['year'] = pd.DatetimeIndex(data['first_day_exposition']).year"
   ]
  },
  {
   "cell_type": "code",
   "execution_count": 114,
   "metadata": {},
   "outputs": [
    {
     "data": {
      "text/html": [
       "<div>\n",
       "<style scoped>\n",
       "    .dataframe tbody tr th:only-of-type {\n",
       "        vertical-align: middle;\n",
       "    }\n",
       "\n",
       "    .dataframe tbody tr th {\n",
       "        vertical-align: top;\n",
       "    }\n",
       "\n",
       "    .dataframe thead th {\n",
       "        text-align: right;\n",
       "    }\n",
       "</style>\n",
       "<table border=\"1\" class=\"dataframe\">\n",
       "  <thead>\n",
       "    <tr style=\"text-align: right;\">\n",
       "      <th></th>\n",
       "      <th>total_images</th>\n",
       "      <th>last_price</th>\n",
       "      <th>total_area</th>\n",
       "      <th>first_day_exposition</th>\n",
       "      <th>rooms</th>\n",
       "      <th>ceiling_height</th>\n",
       "      <th>floors_total</th>\n",
       "      <th>living_area</th>\n",
       "      <th>floor</th>\n",
       "      <th>is_apartment</th>\n",
       "      <th>studio</th>\n",
       "      <th>open_plan</th>\n",
       "      <th>kitchen_area</th>\n",
       "      <th>balcony</th>\n",
       "      <th>locality_name</th>\n",
       "      <th>airports_nearest</th>\n",
       "      <th>cityCenters_nearest</th>\n",
       "      <th>parks_around3000</th>\n",
       "      <th>parks_nearest</th>\n",
       "      <th>ponds_around3000</th>\n",
       "      <th>ponds_nearest</th>\n",
       "      <th>days_exposition</th>\n",
       "      <th>prop_living_to_total_area</th>\n",
       "      <th>prop_kitchen_to_total_area</th>\n",
       "      <th>price_per_square_metre</th>\n",
       "      <th>floor_category</th>\n",
       "      <th>weekday</th>\n",
       "      <th>month</th>\n",
       "      <th>year</th>\n",
       "    </tr>\n",
       "  </thead>\n",
       "  <tbody>\n",
       "    <tr>\n",
       "      <td>0</td>\n",
       "      <td>20</td>\n",
       "      <td>13000000</td>\n",
       "      <td>108.0</td>\n",
       "      <td>2019-03-07</td>\n",
       "      <td>3</td>\n",
       "      <td>2.700000</td>\n",
       "      <td>16</td>\n",
       "      <td>51.000000</td>\n",
       "      <td>8</td>\n",
       "      <td>False</td>\n",
       "      <td>False</td>\n",
       "      <td>False</td>\n",
       "      <td>25.000000</td>\n",
       "      <td>NaN</td>\n",
       "      <td>санкт-петербург</td>\n",
       "      <td>18863</td>\n",
       "      <td>16028</td>\n",
       "      <td>1.0</td>\n",
       "      <td>482.0</td>\n",
       "      <td>2.0</td>\n",
       "      <td>755.0</td>\n",
       "      <td>NaN</td>\n",
       "      <td>0.472222</td>\n",
       "      <td>0.231481</td>\n",
       "      <td>120370</td>\n",
       "      <td>другой</td>\n",
       "      <td>3</td>\n",
       "      <td>3</td>\n",
       "      <td>2019</td>\n",
       "    </tr>\n",
       "    <tr>\n",
       "      <td>1</td>\n",
       "      <td>7</td>\n",
       "      <td>3350000</td>\n",
       "      <td>40.4</td>\n",
       "      <td>2018-12-04</td>\n",
       "      <td>1</td>\n",
       "      <td>2.721002</td>\n",
       "      <td>11</td>\n",
       "      <td>18.600000</td>\n",
       "      <td>1</td>\n",
       "      <td>False</td>\n",
       "      <td>False</td>\n",
       "      <td>False</td>\n",
       "      <td>11.000000</td>\n",
       "      <td>2.0</td>\n",
       "      <td>шушары</td>\n",
       "      <td>12817</td>\n",
       "      <td>18603</td>\n",
       "      <td>0.0</td>\n",
       "      <td>NaN</td>\n",
       "      <td>0.0</td>\n",
       "      <td>584.5</td>\n",
       "      <td>81.0</td>\n",
       "      <td>0.460396</td>\n",
       "      <td>0.272277</td>\n",
       "      <td>82920</td>\n",
       "      <td>первый</td>\n",
       "      <td>1</td>\n",
       "      <td>12</td>\n",
       "      <td>2018</td>\n",
       "    </tr>\n",
       "    <tr>\n",
       "      <td>2</td>\n",
       "      <td>10</td>\n",
       "      <td>5196000</td>\n",
       "      <td>56.0</td>\n",
       "      <td>2015-08-20</td>\n",
       "      <td>2</td>\n",
       "      <td>2.721002</td>\n",
       "      <td>5</td>\n",
       "      <td>34.300000</td>\n",
       "      <td>4</td>\n",
       "      <td>False</td>\n",
       "      <td>False</td>\n",
       "      <td>False</td>\n",
       "      <td>8.300000</td>\n",
       "      <td>0.0</td>\n",
       "      <td>санкт-петербург</td>\n",
       "      <td>21741</td>\n",
       "      <td>13933</td>\n",
       "      <td>1.0</td>\n",
       "      <td>90.0</td>\n",
       "      <td>2.0</td>\n",
       "      <td>574.0</td>\n",
       "      <td>558.0</td>\n",
       "      <td>0.612500</td>\n",
       "      <td>0.148214</td>\n",
       "      <td>92785</td>\n",
       "      <td>другой</td>\n",
       "      <td>3</td>\n",
       "      <td>8</td>\n",
       "      <td>2015</td>\n",
       "    </tr>\n",
       "    <tr>\n",
       "      <td>3</td>\n",
       "      <td>0</td>\n",
       "      <td>64900000</td>\n",
       "      <td>159.0</td>\n",
       "      <td>2015-07-24</td>\n",
       "      <td>3</td>\n",
       "      <td>2.721002</td>\n",
       "      <td>14</td>\n",
       "      <td>89.797718</td>\n",
       "      <td>9</td>\n",
       "      <td>False</td>\n",
       "      <td>False</td>\n",
       "      <td>False</td>\n",
       "      <td>27.413793</td>\n",
       "      <td>0.0</td>\n",
       "      <td>санкт-петербург</td>\n",
       "      <td>28098</td>\n",
       "      <td>6800</td>\n",
       "      <td>2.0</td>\n",
       "      <td>84.0</td>\n",
       "      <td>3.0</td>\n",
       "      <td>234.0</td>\n",
       "      <td>424.0</td>\n",
       "      <td>0.564766</td>\n",
       "      <td>0.172414</td>\n",
       "      <td>408176</td>\n",
       "      <td>другой</td>\n",
       "      <td>4</td>\n",
       "      <td>7</td>\n",
       "      <td>2015</td>\n",
       "    </tr>\n",
       "    <tr>\n",
       "      <td>4</td>\n",
       "      <td>2</td>\n",
       "      <td>10000000</td>\n",
       "      <td>100.0</td>\n",
       "      <td>2018-06-19</td>\n",
       "      <td>2</td>\n",
       "      <td>3.030000</td>\n",
       "      <td>14</td>\n",
       "      <td>32.000000</td>\n",
       "      <td>13</td>\n",
       "      <td>False</td>\n",
       "      <td>False</td>\n",
       "      <td>False</td>\n",
       "      <td>41.000000</td>\n",
       "      <td>NaN</td>\n",
       "      <td>санкт-петербург</td>\n",
       "      <td>31856</td>\n",
       "      <td>8098</td>\n",
       "      <td>2.0</td>\n",
       "      <td>112.0</td>\n",
       "      <td>1.0</td>\n",
       "      <td>48.0</td>\n",
       "      <td>121.0</td>\n",
       "      <td>0.320000</td>\n",
       "      <td>0.410000</td>\n",
       "      <td>100000</td>\n",
       "      <td>другой</td>\n",
       "      <td>1</td>\n",
       "      <td>6</td>\n",
       "      <td>2018</td>\n",
       "    </tr>\n",
       "  </tbody>\n",
       "</table>\n",
       "</div>"
      ],
      "text/plain": [
       "   total_images  last_price  total_area first_day_exposition  rooms  \\\n",
       "0            20    13000000       108.0           2019-03-07      3   \n",
       "1             7     3350000        40.4           2018-12-04      1   \n",
       "2            10     5196000        56.0           2015-08-20      2   \n",
       "3             0    64900000       159.0           2015-07-24      3   \n",
       "4             2    10000000       100.0           2018-06-19      2   \n",
       "\n",
       "   ceiling_height  floors_total  living_area  floor  is_apartment  studio  \\\n",
       "0        2.700000            16    51.000000      8         False   False   \n",
       "1        2.721002            11    18.600000      1         False   False   \n",
       "2        2.721002             5    34.300000      4         False   False   \n",
       "3        2.721002            14    89.797718      9         False   False   \n",
       "4        3.030000            14    32.000000     13         False   False   \n",
       "\n",
       "   open_plan  kitchen_area  balcony    locality_name  airports_nearest  \\\n",
       "0      False     25.000000      NaN  санкт-петербург             18863   \n",
       "1      False     11.000000      2.0           шушары             12817   \n",
       "2      False      8.300000      0.0  санкт-петербург             21741   \n",
       "3      False     27.413793      0.0  санкт-петербург             28098   \n",
       "4      False     41.000000      NaN  санкт-петербург             31856   \n",
       "\n",
       "   cityCenters_nearest  parks_around3000  parks_nearest  ponds_around3000  \\\n",
       "0                16028               1.0          482.0               2.0   \n",
       "1                18603               0.0            NaN               0.0   \n",
       "2                13933               1.0           90.0               2.0   \n",
       "3                 6800               2.0           84.0               3.0   \n",
       "4                 8098               2.0          112.0               1.0   \n",
       "\n",
       "   ponds_nearest  days_exposition  prop_living_to_total_area  \\\n",
       "0          755.0              NaN                   0.472222   \n",
       "1          584.5             81.0                   0.460396   \n",
       "2          574.0            558.0                   0.612500   \n",
       "3          234.0            424.0                   0.564766   \n",
       "4           48.0            121.0                   0.320000   \n",
       "\n",
       "   prop_kitchen_to_total_area  price_per_square_metre floor_category  weekday  \\\n",
       "0                    0.231481                  120370         другой        3   \n",
       "1                    0.272277                   82920         первый        1   \n",
       "2                    0.148214                   92785         другой        3   \n",
       "3                    0.172414                  408176         другой        4   \n",
       "4                    0.410000                  100000         другой        1   \n",
       "\n",
       "   month  year  \n",
       "0      3  2019  \n",
       "1     12  2018  \n",
       "2      8  2015  \n",
       "3      7  2015  \n",
       "4      6  2018  "
      ]
     },
     "execution_count": 114,
     "metadata": {},
     "output_type": "execute_result"
    }
   ],
   "source": [
    "data.head()"
   ]
  },
  {
   "cell_type": "markdown",
   "metadata": {},
   "source": [
    "Вывод: категоризация проведена, добавлены необходимые колонки. Данные готовы к анализу."
   ]
  },
  {
   "cell_type": "markdown",
   "metadata": {},
   "source": [
    "### Шаг 4. Проведите исследовательский анализ данных и выполните инструкции:"
   ]
  },
  {
   "cell_type": "markdown",
   "metadata": {},
   "source": [
    "I. Изучу следующие параметры: площадь, цена, число комнат, высота потолков"
   ]
  },
  {
   "cell_type": "markdown",
   "metadata": {},
   "source": [
    "1. Рассмотрю параметр площади. Сначала построю диаграмму размаха, а потом гистограмму."
   ]
  },
  {
   "cell_type": "markdown",
   "metadata": {},
   "source": [
    "Составлю список параметров, которые буду анализировать. Далее буду использовать этот же список для анализа интересующих меня срезов."
   ]
  },
  {
   "cell_type": "code",
   "execution_count": 115,
   "metadata": {},
   "outputs": [],
   "source": [
    "list = ['total_area', \n",
    "        'last_price', \n",
    "        'rooms',\n",
    "        'ceiling_height',\n",
    "        'days_exposition']"
   ]
  },
  {
   "cell_type": "markdown",
   "metadata": {},
   "source": [
    "Построю в цикле гистограмму для каждого из этих параметров:"
   ]
  },
  {
   "cell_type": "code",
   "execution_count": 116,
   "metadata": {
    "scrolled": false
   },
   "outputs": [
    {
     "data": {
      "image/png": "[encoded data removed]",
      "text/plain": [
       "<Figure size 432x288 with 1 Axes>"
      ]
     },
     "metadata": {
      "needs_background": "light"
     },
     "output_type": "display_data"
    },
    {
     "data": {
      "image/png": "[encoded data removed]",
      "text/plain": [
       "<Figure size 432x288 with 1 Axes>"
      ]
     },
     "metadata": {
      "needs_background": "light"
     },
     "output_type": "display_data"
    },
    {
     "data": {
      "image/png": "[encoded data removed]",
      "text/plain": [
       "<Figure size 432x288 with 1 Axes>"
      ]
     },
     "metadata": {
      "needs_background": "light"
     },
     "output_type": "display_data"
    },
    {
     "data": {
      "image/png": "[encoded data removed]",
      "text/plain": [
       "<Figure size 432x288 with 1 Axes>"
      ]
     },
     "metadata": {
      "needs_background": "light"
     },
     "output_type": "display_data"
    },
    {
     "data": {
      "image/png": "[encoded data removed]",
      "text/plain": [
       "<Figure size 432x288 with 1 Axes>"
      ]
     },
     "metadata": {
      "needs_background": "light"
     },
     "output_type": "display_data"
    }
   ],
   "source": [
    "for item in list:\n",
    "    Q1 = data[item].quantile(0.25)\n",
    "    Q3 = data[item].quantile(0.75)\n",
    "    IQR = Q3 - Q1\n",
    "    a = Q1 - 1*IQR\n",
    "    b = Q1 + 3*IQR\n",
    "    ax = data.plot(kind = 'hist', \n",
    "             y = item, title = item, bins = 100, range=(a,b));\n",
    "    ax.set_xlabel(item);\n",
    "    ax.set_ylabel('количество квартир');"
   ]
  },
  {
   "cell_type": "markdown",
   "metadata": {},
   "source": [
    "Посмотрю основные данные для каждого столбца, сделаю это через цикл."
   ]
  },
  {
   "cell_type": "code",
   "execution_count": 117,
   "metadata": {},
   "outputs": [
    {
     "name": "stdout",
     "output_type": "stream",
     "text": [
      "total_area\n",
      "\n",
      "count    23699.000000\n",
      "mean        60.348651\n",
      "std         35.654083\n",
      "min         12.000000\n",
      "25%         40.000000\n",
      "50%         52.000000\n",
      "75%         69.900000\n",
      "max        900.000000\n",
      "Name: total_area, dtype: object\n",
      "\n",
      "last_price\n",
      "\n",
      "count        23699.000000\n",
      "mean       6541548.771552\n",
      "std       10887013.267545\n",
      "min          12190.000000\n",
      "25%        3400000.000000\n",
      "50%        4650000.000000\n",
      "75%        6800000.000000\n",
      "max      763000000.000000\n",
      "Name: last_price, dtype: object\n",
      "\n",
      "rooms\n",
      "\n",
      "count    23699.000000\n",
      "mean         2.070636\n",
      "std          1.078405\n",
      "min          0.000000\n",
      "25%          1.000000\n",
      "50%          2.000000\n",
      "75%          3.000000\n",
      "max         19.000000\n",
      "Name: rooms, dtype: object\n",
      "\n",
      "ceiling_height\n",
      "\n",
      "count    23699.000000\n",
      "mean         2.751906\n",
      "std          0.986830\n",
      "min          1.000000\n",
      "25%          2.600000\n",
      "50%          2.721002\n",
      "75%          2.721002\n",
      "max        100.000000\n",
      "Name: ceiling_height, dtype: object\n",
      "\n",
      "days_exposition\n",
      "\n",
      "count    20518.000000\n",
      "mean       180.888634\n",
      "std        219.727988\n",
      "min          1.000000\n",
      "25%         45.000000\n",
      "50%         95.000000\n",
      "75%        232.000000\n",
      "max       1580.000000\n",
      "Name: days_exposition, dtype: object\n",
      "\n"
     ]
    }
   ],
   "source": [
    "for item in list:\n",
    "    print(item)\n",
    "    print()\n",
    "    print(data[item].describe().apply(lambda x: format(x,'f')))\n",
    "    print()"
   ]
  },
  {
   "cell_type": "markdown",
   "metadata": {},
   "source": [
    "Вывод:\n",
    "1. Большая часть квартир стоит до 14 млн, в среднем, квартира стоит 4.65 млн \n",
    "2. Большая часть квартир имеет площадь до 130 м кв, средняя площадь\n",
    "   квартиры - 52 км м\n",
    "3. В большей части квартир до 7 комнат, в среднем - 2 комнаты.\n",
    "4. В большей части квартир потолки до 3 м, в среднем - 2.7 м\n",
    "5. Большая часть квартир продается за период до 600 дней. В среднем, квартира продается    за 95 дней. Если квартира продается быстрее, чем за 45 дней, значит, она продалась    быстро, если дольше, чем за 232 дня - квартира проедается долго."
   ]
  },
  {
   "cell_type": "markdown",
   "metadata": {},
   "source": [
    "III. Уберу квартиры с необычными параметрами.\n",
    "Буду ориентироваться на те цифры, которые вывела в предудущем пункте: уберу все значения, выходящие за границы 3х квартилей, за исключением потолков - для них оставлю все, что ниже 4х метров, т.к. 4 м - это высота потолков в сталинках, но они не вошли в диапазон 3х квартилей. Также отрежу все значения потолков, которые меньше 2х.\n",
    "Также отрежу отрицательные значения, которые были найдены в столбцах 'days_exposition' и 'rooms'."
   ]
  },
  {
   "cell_type": "code",
   "execution_count": 118,
   "metadata": {},
   "outputs": [],
   "source": [
    "data = data.query('last_price <= 14000000')"
   ]
  },
  {
   "cell_type": "code",
   "execution_count": 119,
   "metadata": {},
   "outputs": [],
   "source": [
    "data = data.query('total_area <= 130')"
   ]
  },
  {
   "cell_type": "code",
   "execution_count": 120,
   "metadata": {},
   "outputs": [],
   "source": [
    "data = data.query('0 < rooms <= 7')"
   ]
  },
  {
   "cell_type": "code",
   "execution_count": 121,
   "metadata": {},
   "outputs": [],
   "source": [
    "data = data.query('2 <= ceiling_height <= 4')"
   ]
  },
  {
   "cell_type": "code",
   "execution_count": 122,
   "metadata": {},
   "outputs": [],
   "source": [
    "data = data.query('0 < days_exposition <= 600')"
   ]
  },
  {
   "cell_type": "markdown",
   "metadata": {},
   "source": [
    "Оценю данные после удаления строк."
   ]
  },
  {
   "cell_type": "code",
   "execution_count": 123,
   "metadata": {},
   "outputs": [
    {
     "name": "stdout",
     "output_type": "stream",
     "text": [
      "total_area\n",
      "\n",
      "count    18136.000000\n",
      "mean        53.413331\n",
      "std         18.996275\n",
      "min         12.000000\n",
      "25%         39.000000\n",
      "50%         49.000000\n",
      "75%         63.800000\n",
      "max        130.000000\n",
      "Name: total_area, dtype: object\n",
      "\n",
      "last_price\n",
      "\n",
      "count       18136.000000\n",
      "mean      4934659.013454\n",
      "std       2421675.565519\n",
      "min         12190.000000\n",
      "25%       3349750.000000\n",
      "50%       4400000.000000\n",
      "75%       6000000.000000\n",
      "max      14000000.000000\n",
      "Name: last_price, dtype: object\n",
      "\n",
      "rooms\n",
      "\n",
      "count    18136.000000\n",
      "mean         1.929091\n",
      "std          0.887272\n",
      "min          1.000000\n",
      "25%          1.000000\n",
      "50%          2.000000\n",
      "75%          3.000000\n",
      "max          7.000000\n",
      "Name: rooms, dtype: object\n",
      "\n",
      "ceiling_height\n",
      "\n",
      "count    18136.000000\n",
      "mean         2.700356\n",
      "std          0.168712\n",
      "min          2.000000\n",
      "25%          2.600000\n",
      "50%          2.721002\n",
      "75%          2.721002\n",
      "max          4.000000\n",
      "Name: ceiling_height, dtype: object\n",
      "\n",
      "days_exposition\n",
      "\n",
      "count    18136.000000\n",
      "mean       136.447563\n",
      "std        135.109050\n",
      "min          1.000000\n",
      "25%         42.000000\n",
      "50%         86.000000\n",
      "75%        190.000000\n",
      "max        600.000000\n",
      "Name: days_exposition, dtype: object\n",
      "\n"
     ]
    }
   ],
   "source": [
    "for item in list:\n",
    "    print(item)\n",
    "    print()\n",
    "    print(data[item].describe().apply(lambda x: format(x,'f')))\n",
    "    print()"
   ]
  },
  {
   "cell_type": "markdown",
   "metadata": {},
   "source": [
    "Вывод: Данные стали более однородными, среднее приблизилось к медиане, а в некоторых случаях эти показатели и вовсе сравнялись."
   ]
  },
  {
   "cell_type": "markdown",
   "metadata": {},
   "source": [
    "IV. Найду корреляцию стоимости квадратного метра с параметрами:\n",
    "    1. Площадь квартиры\n",
    "    2. Число комнат\n",
    "    3. Этаж\n",
    "    4. Удаленность от центра\n",
    "    5. Даты, когда было размещено объявление: день недели, месяц, год.\n",
    "    6. Высота потолков\n",
    "    7. Количество этажей\n",
    "    8. Количество балконов"
   ]
  },
  {
   "cell_type": "markdown",
   "metadata": {},
   "source": [
    "Данные об этажах у нас не в численной форме, поэтому переведу их в численную:"
   ]
  },
  {
   "cell_type": "code",
   "execution_count": 124,
   "metadata": {},
   "outputs": [],
   "source": [
    "dict_floor =({'первый':0,'последний':1,'другой':2})\n",
    "data['floor_category_int'] = data['floor_category'].map(dict_floor)"
   ]
  },
  {
   "cell_type": "code",
   "execution_count": 125,
   "metadata": {},
   "outputs": [
    {
     "data": {
      "text/plain": [
       "2    13400\n",
       "1     2500\n",
       "0     2236\n",
       "Name: floor_category_int, dtype: int64"
      ]
     },
     "execution_count": 125,
     "metadata": {},
     "output_type": "execute_result"
    }
   ],
   "source": [
    "data['floor_category_int'].value_counts() # проверила"
   ]
  },
  {
   "cell_type": "markdown",
   "metadata": {},
   "source": [
    "Найду корреляцию цены квартиры для каждого параметра: создам список параметров, а затем в цикле пройдусь найду корреляцию цены за квадратным метр для каждого параметра. Этот же список параметров буду использовать для анализа корреляции в срезах данных."
   ]
  },
  {
   "cell_type": "code",
   "execution_count": 126,
   "metadata": {},
   "outputs": [],
   "source": [
    "parameters = ['rooms', \n",
    "              'floor_category_int', \n",
    "              'cityCenters_nearest', \n",
    "              'total_area',\n",
    "              'weekday', \n",
    "              'month', \n",
    "              'year',\n",
    "              'ceiling_height',\n",
    "              'floors_total',\n",
    "              'balcony',\n",
    "             ]"
   ]
  },
  {
   "cell_type": "code",
   "execution_count": 127,
   "metadata": {},
   "outputs": [
    {
     "name": "stdout",
     "output_type": "stream",
     "text": [
      "Для всего массива данных корреляция цены за м кв с rooms равна -0.2\n",
      "Для всего массива данных корреляция цены за м кв с floor_category_int равна 0.2\n",
      "Для всего массива данных корреляция цены за м кв с cityCenters_nearest равна -0.6\n",
      "Для всего массива данных корреляция цены за м кв с total_area равна -0.0\n",
      "Для всего массива данных корреляция цены за м кв с weekday равна -0.0\n",
      "Для всего массива данных корреляция цены за м кв с month равна 0.0\n",
      "Для всего массива данных корреляция цены за м кв с year равна 0.1\n",
      "Для всего массива данных корреляция цены за м кв с ceiling_height равна 0.2\n",
      "Для всего массива данных корреляция цены за м кв с floors_total равна 0.3\n",
      "Для всего массива данных корреляция цены за м кв с balcony равна 0.1\n"
     ]
    }
   ],
   "source": [
    "for parameter in parameters:\n",
    "    print('Для всего массива данных корреляция цены за м кв с', \n",
    "          parameter, \n",
    "          'равна {:.1f}'\n",
    "          .format(data['price_per_square_metre'].corr(data[parameter])))"
   ]
  },
  {
   "cell_type": "markdown",
   "metadata": {},
   "source": [
    "Вывод о корреляции цены за квадратный метр для всего массива данных: \n",
    "1. Больше всего цена зависит от близости к центру, у цены и количества комнат, этажа, высоты потолков и общего количества этажей очень слабая корреляция, а от общей площади, количества балконов и даты размещения объявления цена квадратного метра вообще не зависит."
   ]
  },
  {
   "cell_type": "markdown",
   "metadata": {},
   "source": [
    "V. Изучу цену квадратного метра в ЛО."
   ]
  },
  {
   "cell_type": "markdown",
   "metadata": {},
   "source": [
    "Создам таблицу с 10 населёнными пунктами в пригородах с наибольшим числом объявлений"
   ]
  },
  {
   "cell_type": "markdown",
   "metadata": {},
   "source": [
    "Создам сводную таблицу со срезом данных для ЛО, найду уникальные значения и их колчество, отсортирую получившуюся таблицу по убыванию и возьму первые 10 значений"
   ]
  },
  {
   "cell_type": "code",
   "execution_count": 128,
   "metadata": {},
   "outputs": [],
   "source": [
    "region_biggest_locations = (data[data['locality_name']!=\"санкт-петербург\"]['locality_name']\n",
    "                            .value_counts()\n",
    "                           .sort_values(ascending=False)\n",
    "                           .head(10))"
   ]
  },
  {
   "cell_type": "markdown",
   "metadata": {},
   "source": [
    "Создам новую переменную, куда попадут те строки из таблицы data, в которых ест locality_name из таблицы region_biggest_locations"
   ]
  },
  {
   "cell_type": "code",
   "execution_count": 129,
   "metadata": {},
   "outputs": [],
   "source": [
    "region_biggest_locations_data = (data\n",
    "                                 .query('locality_name in @region_biggest_locations.index'))"
   ]
  },
  {
   "cell_type": "markdown",
   "metadata": {},
   "source": [
    "Создам сводную таблицу по индексу локации со значением цены за кв м"
   ]
  },
  {
   "cell_type": "code",
   "execution_count": 130,
   "metadata": {},
   "outputs": [],
   "source": [
    "top_10 = region_biggest_locations_data.pivot_table(index='locality_name', \n",
    "                                                   values='price_per_square_metre',\n",
    "                                                   aggfunc='median')"
   ]
  },
  {
   "cell_type": "markdown",
   "metadata": {},
   "source": [
    "Построю график по отсортированной таблице"
   ]
  },
  {
   "cell_type": "code",
   "execution_count": 131,
   "metadata": {},
   "outputs": [
    {
     "data": {
      "text/plain": [
       "<matplotlib.axes._subplots.AxesSubplot at 0x7f344fa81f50>"
      ]
     },
     "execution_count": 131,
     "metadata": {},
     "output_type": "execute_result"
    },
    {
     "data": {
      "image/png": "[encoded data removed]",
      "text/plain": [
       "<Figure size 720x360 with 1 Axes>"
      ]
     },
     "metadata": {
      "needs_background": "light"
     },
     "output_type": "display_data"
    }
   ],
   "source": [
    "(top_10.sort_values(by='price_per_square_metre')\n",
    " .plot(kind='bar', y='price_per_square_metre', figsize=(10,5), title='Цена за м кв'))"
   ]
  },
  {
   "cell_type": "markdown",
   "metadata": {},
   "source": [
    "Вывод:\n",
    "Самое дорогое жилье в Пушкино и Кудрово. Самое дешевое жилье из 10ки крупнейших населенных пунктов в ЛО во Всеволжске и Выборге."
   ]
  },
  {
   "cell_type": "code",
   "execution_count": 132,
   "metadata": {},
   "outputs": [],
   "source": [
    "data_by_loc = (data\n",
    "                     .pivot_table(index='locality_name',\n",
    "                                  values='price_per_square_metre',\n",
    "                                  aggfunc=['count','median']))"
   ]
  },
  {
   "cell_type": "code",
   "execution_count": 133,
   "metadata": {},
   "outputs": [],
   "source": [
    "data_by_loc.columns = ['count','price_per_square_metre_median']"
   ]
  },
  {
   "cell_type": "markdown",
   "metadata": {},
   "source": [
    "Найду самое дешевое и самое дорогое жилье из всех, представленных в таблицах:"
   ]
  },
  {
   "cell_type": "code",
   "execution_count": 134,
   "metadata": {},
   "outputs": [
    {
     "data": {
      "text/html": [
       "<div>\n",
       "<style scoped>\n",
       "    .dataframe tbody tr th:only-of-type {\n",
       "        vertical-align: middle;\n",
       "    }\n",
       "\n",
       "    .dataframe tbody tr th {\n",
       "        vertical-align: top;\n",
       "    }\n",
       "\n",
       "    .dataframe thead th {\n",
       "        text-align: right;\n",
       "    }\n",
       "</style>\n",
       "<table border=\"1\" class=\"dataframe\">\n",
       "  <thead>\n",
       "    <tr style=\"text-align: right;\">\n",
       "      <th></th>\n",
       "      <th>count</th>\n",
       "      <th>price_per_square_metre_median</th>\n",
       "    </tr>\n",
       "    <tr>\n",
       "      <th>locality_name</th>\n",
       "      <th></th>\n",
       "      <th></th>\n",
       "    </tr>\n",
       "  </thead>\n",
       "  <tbody>\n",
       "    <tr>\n",
       "      <td>поселок лисий нос</td>\n",
       "      <td>2</td>\n",
       "      <td>113728.0</td>\n",
       "    </tr>\n",
       "    <tr>\n",
       "      <td>санкт-петербург</td>\n",
       "      <td>11801</td>\n",
       "      <td>101580.0</td>\n",
       "    </tr>\n",
       "    <tr>\n",
       "      <td>зеленогорск</td>\n",
       "      <td>19</td>\n",
       "      <td>100000.0</td>\n",
       "    </tr>\n",
       "    <tr>\n",
       "      <td>сестрорецк</td>\n",
       "      <td>145</td>\n",
       "      <td>98341.0</td>\n",
       "    </tr>\n",
       "    <tr>\n",
       "      <td>пушкин</td>\n",
       "      <td>270</td>\n",
       "      <td>97426.5</td>\n",
       "    </tr>\n",
       "    <tr>\n",
       "      <td>...</td>\n",
       "      <td>...</td>\n",
       "      <td>...</td>\n",
       "    </tr>\n",
       "    <tr>\n",
       "      <td>поселок совхозный</td>\n",
       "      <td>2</td>\n",
       "      <td>12628.5</td>\n",
       "    </tr>\n",
       "    <tr>\n",
       "      <td>деревня выскатка</td>\n",
       "      <td>2</td>\n",
       "      <td>12335.0</td>\n",
       "    </tr>\n",
       "    <tr>\n",
       "      <td>деревня вахнова кара</td>\n",
       "      <td>1</td>\n",
       "      <td>11688.0</td>\n",
       "    </tr>\n",
       "    <tr>\n",
       "      <td>поселок станции свирь</td>\n",
       "      <td>2</td>\n",
       "      <td>11481.0</td>\n",
       "    </tr>\n",
       "    <tr>\n",
       "      <td>деревня старополье</td>\n",
       "      <td>3</td>\n",
       "      <td>11000.0</td>\n",
       "    </tr>\n",
       "  </tbody>\n",
       "</table>\n",
       "<p>288 rows × 2 columns</p>\n",
       "</div>"
      ],
      "text/plain": [
       "                       count  price_per_square_metre_median\n",
       "locality_name                                              \n",
       "поселок лисий нос          2                       113728.0\n",
       "санкт-петербург        11801                       101580.0\n",
       "зеленогорск               19                       100000.0\n",
       "сестрорецк               145                        98341.0\n",
       "пушкин                   270                        97426.5\n",
       "...                      ...                            ...\n",
       "поселок совхозный          2                        12628.5\n",
       "деревня выскатка           2                        12335.0\n",
       "деревня вахнова кара       1                        11688.0\n",
       "поселок станции свирь      2                        11481.0\n",
       "деревня старополье         3                        11000.0\n",
       "\n",
       "[288 rows x 2 columns]"
      ]
     },
     "execution_count": 134,
     "metadata": {},
     "output_type": "execute_result"
    }
   ],
   "source": [
    "data_by_loc.sort_values(by='price_per_square_metre_median', ascending=False)"
   ]
  },
  {
   "cell_type": "markdown",
   "metadata": {},
   "source": [
    "Удивительно но Питер не на первом месте! Самая дорога недвижимость находится в Поселке Лисий нос - это поселок с элитной недвижимостью. СПБ на втором месте, далее идут Зеленогорск - курортный город ЛО и Сестрорецк - поселок рядом с Лисьим носом и, соответственно, элитной недвижимостью.\n",
    "Самое дешевое жилье в Деревне Старополье."
   ]
  },
  {
   "cell_type": "markdown",
   "metadata": {},
   "source": [
    "VI. Выделю квартиры в центре СПБ и изучу их."
   ]
  },
  {
   "cell_type": "markdown",
   "metadata": {},
   "source": [
    "Создам колонку со значением cityCenters_nearest в км:"
   ]
  },
  {
   "cell_type": "code",
   "execution_count": 135,
   "metadata": {},
   "outputs": [],
   "source": [
    "data['cityCenters_nearest_km'] = data['cityCenters_nearest'] / 1000"
   ]
  },
  {
   "cell_type": "markdown",
   "metadata": {},
   "source": [
    "Переведу значения в целочисленные:"
   ]
  },
  {
   "cell_type": "code",
   "execution_count": 136,
   "metadata": {},
   "outputs": [],
   "source": [
    "data['cityCenters_nearest_km'] = data['cityCenters_nearest_km'].astype('int')"
   ]
  },
  {
   "cell_type": "markdown",
   "metadata": {},
   "source": [
    "Нарисую график по сводной таблицы для СПБ по индексу=близость к центру, значению - цена за квадратный метр."
   ]
  },
  {
   "cell_type": "code",
   "execution_count": 137,
   "metadata": {},
   "outputs": [
    {
     "data": {
      "image/png": "[encoded data removed]",
      "text/plain": [
       "<Figure size 2088x1440 with 1 Axes>"
      ]
     },
     "metadata": {
      "needs_background": "light"
     },
     "output_type": "display_data"
    }
   ],
   "source": [
    "ax = (data\n",
    "     .query('locality_name == \"санкт-петербург\"')\n",
    "     .pivot_table(index='cityCenters_nearest_km', values='price_per_square_metre')\n",
    "     .plot(grid=True, figsize=(29, 20), fontsize = 15)\n",
    ")\n",
    "ax.set_xlabel('расстояние до центра, км', fontsize = 20);\n",
    "ax.set_ylabel('цена за м кв, руб', fontsize = 20);\n",
    "ax.set_title('Цена за м кв в зависимости от расстояния до центра', fontsize = 30);"
   ]
  },
  {
   "cell_type": "markdown",
   "metadata": {},
   "source": [
    "Исходя из графика, буду считать, что квартиры в центре - это квартиры на расстоянии до 7 км от центра - в этой точке график резко уходит вниз. Есть еще спад в промежутке  от 0 до 5 км, но, я предположу, что этот спад из-за Василеостровского и Петроградского районов - они находятся близко к центру, но отделены от основной части города мостами, которые разводят ночью. Поэтому цена квартир в этих районах может быть ниже цены других квартир в центре.\n",
    "Рассмотрю отдельно квартиры в центре и вне центра."
   ]
  },
  {
   "cell_type": "markdown",
   "metadata": {},
   "source": [
    "VII. Рассмотрю отличия квартир в центре и вне центра."
   ]
  },
  {
   "cell_type": "markdown",
   "metadata": {},
   "source": [
    "1. Создам 2 среза данных: квартиры в центре и квартиры вне центра. Далее попарно пострю гистограммы для каждого среза по списку параметров (задала его в предыдущей части)."
   ]
  },
  {
   "cell_type": "code",
   "execution_count": 138,
   "metadata": {},
   "outputs": [],
   "source": [
    "spb_centre_data = data.query('locality_name == \"санкт-петербург\" and cityCenters_nearest_km <= 7')"
   ]
  },
  {
   "cell_type": "code",
   "execution_count": 139,
   "metadata": {},
   "outputs": [],
   "source": [
    "spb_out_of_centre_data = data.query('locality_name == \"санкт-петербург\" and cityCenters_nearest_km > 7')"
   ]
  },
  {
   "cell_type": "code",
   "execution_count": 140,
   "metadata": {
    "scrolled": false
   },
   "outputs": [
    {
     "data": {
      "image/png": "[encoded data removed]",
      "text/plain": [
       "<Figure size 432x288 with 1 Axes>"
      ]
     },
     "metadata": {
      "needs_background": "light"
     },
     "output_type": "display_data"
    },
    {
     "data": {
      "image/png": "[encoded data removed]",
      "text/plain": [
       "<Figure size 432x288 with 1 Axes>"
      ]
     },
     "metadata": {
      "needs_background": "light"
     },
     "output_type": "display_data"
    },
    {
     "data": {
      "image/png": "[encoded data removed]",
      "text/plain": [
       "<Figure size 432x288 with 1 Axes>"
      ]
     },
     "metadata": {
      "needs_background": "light"
     },
     "output_type": "display_data"
    },
    {
     "data": {
      "image/png": "[encoded data removed]",
      "text/plain": [
       "<Figure size 432x288 with 1 Axes>"
      ]
     },
     "metadata": {
      "needs_background": "light"
     },
     "output_type": "display_data"
    },
    {
     "data": {
      "image/png": "[encoded data removed]",
      "text/plain": [
       "<Figure size 432x288 with 1 Axes>"
      ]
     },
     "metadata": {
      "needs_background": "light"
     },
     "output_type": "display_data"
    },
    {
     "data": {
      "image/png": "[encoded data removed]",
      "text/plain": [
       "<Figure size 432x288 with 1 Axes>"
      ]
     },
     "metadata": {
      "needs_background": "light"
     },
     "output_type": "display_data"
    },
    {
     "data": {
      "image/png": "[encoded data removed]",
      "text/plain": [
       "<Figure size 432x288 with 1 Axes>"
      ]
     },
     "metadata": {
      "needs_background": "light"
     },
     "output_type": "display_data"
    },
    {
     "data": {
      "image/png": "[encoded data removed]",
      "text/plain": [
       "<Figure size 432x288 with 1 Axes>"
      ]
     },
     "metadata": {
      "needs_background": "light"
     },
     "output_type": "display_data"
    },
    {
     "data": {
      "image/png": "[encoded data removed]",
      "text/plain": [
       "<Figure size 432x288 with 1 Axes>"
      ]
     },
     "metadata": {
      "needs_background": "light"
     },
     "output_type": "display_data"
    },
    {
     "data": {
      "image/png": "[encoded data removed]",
      "text/plain": [
       "<Figure size 432x288 with 1 Axes>"
      ]
     },
     "metadata": {
      "needs_background": "light"
     },
     "output_type": "display_data"
    }
   ],
   "source": [
    "for item in list:\n",
    "    ax = spb_centre_data.plot(kind = 'hist', \n",
    "             y = item, title = 'центр');\n",
    "    bx = spb_out_of_centre_data.plot(kind = 'hist',\n",
    "             y = item, title = 'вне центра');\n",
    "    ax.set_xlabel(item);\n",
    "    ax.set_ylabel('количество квартир');\n",
    "    bx.set_xlabel(item);\n",
    "    bx.set_ylabel('количество квартир');"
   ]
  },
  {
   "cell_type": "markdown",
   "metadata": {},
   "source": [
    "Вывод: \n",
    "1. В центре средняя площадь квартир больше, чем вне центра. Вне центра очень мало квартир более 80 м кв, в то время как в центре такие квартиры встречаются часто.\n",
    "2. В центре квартиры дороже, чем вне центра. Основная масса квартир вне центра стоит до 7 млн рублей, в центре - больше 7ми.\n",
    "3. В центре преобладают 2-комнатные квартиры, вне центра - 1-комнатные. \n",
    "4. Средняя высота потолков и в центре и вне его примерно равна, однако в центре намного чаще встречаются квартиры с потолками выше среднего, вне центра - наоборот, чаще можно купить квартиру с потолками ниже среднего.\n",
    "5. Колчество дней продажи квартиры и в центре и вне центра распределено примерно одинаково. На каждую квартиру найдется свой покупатель."
   ]
  },
  {
   "cell_type": "markdown",
   "metadata": {},
   "source": [
    "2. Рассмотрю корреляцию цены и и основных факторов из списка (создала на предыдущем этапе)."
   ]
  },
  {
   "cell_type": "code",
   "execution_count": 141,
   "metadata": {},
   "outputs": [
    {
     "name": "stdout",
     "output_type": "stream",
     "text": [
      "Для квартир в центре СПБ корреляция цены за м кв с rooms равна -0.5\n",
      "Для квартир в центре СПБ корреляция цены за м кв с floor_category_int равна 0.2\n",
      "Для квартир в центре СПБ корреляция цены за м кв с cityCenters_nearest равна 0.0\n",
      "Для квартир в центре СПБ корреляция цены за м кв с total_area равна -0.4\n",
      "Для квартир в центре СПБ корреляция цены за м кв с weekday равна 0.0\n",
      "Для квартир в центре СПБ корреляция цены за м кв с month равна -0.0\n",
      "Для квартир в центре СПБ корреляция цены за м кв с year равна 0.1\n",
      "Для квартир в центре СПБ корреляция цены за м кв с ceiling_height равна -0.1\n",
      "Для квартир в центре СПБ корреляция цены за м кв с floors_total равна 0.3\n",
      "Для квартир в центре СПБ корреляция цены за м кв с balcony равна 0.3\n"
     ]
    }
   ],
   "source": [
    "for parameter in parameters:\n",
    "    print('Для квартир в центре СПБ корреляция цены за м кв с', \n",
    "          parameter, \n",
    "          'равна {:.1f}'\n",
    "          .format(spb_centre_data['price_per_square_metre'].corr(spb_centre_data[parameter])))"
   ]
  },
  {
   "cell_type": "markdown",
   "metadata": {},
   "source": [
    "Вывод: \n",
    "Цена квартиры в центре больше всего зависит от количества комнат: чем меньше комнат, тем выше цена за квадратный метр. \n",
    "Чуть меньше корреляци с общей площадью квартиры. Слабая корреляция цены и количества этажей, балконов, самого этажа. И цена за квадратный метр не зависит от близости к центру (ведь все квартиры в центре близки к центру), высоты потолков, и даты размещения объявления."
   ]
  },
  {
   "cell_type": "code",
   "execution_count": 142,
   "metadata": {},
   "outputs": [
    {
     "name": "stdout",
     "output_type": "stream",
     "text": [
      "Для квартир вне центра СПБ корреляция цены за м кв с rooms равна -0.3\n",
      "Для квартир вне центра СПБ корреляция цены за м кв с floor_category_int равна 0.2\n",
      "Для квартир вне центра СПБ корреляция цены за м кв с cityCenters_nearest равна -0.2\n",
      "Для квартир вне центра СПБ корреляция цены за м кв с total_area равна -0.1\n",
      "Для квартир вне центра СПБ корреляция цены за м кв с weekday равна 0.0\n",
      "Для квартир вне центра СПБ корреляция цены за м кв с month равна -0.0\n",
      "Для квартир вне центра СПБ корреляция цены за м кв с year равна 0.2\n",
      "Для квартир вне центра СПБ корреляция цены за м кв с ceiling_height равна 0.2\n",
      "Для квартир вне центра СПБ корреляция цены за м кв с floors_total равна 0.3\n",
      "Для квартир вне центра СПБ корреляция цены за м кв с balcony равна 0.2\n"
     ]
    }
   ],
   "source": [
    "for parameter in parameters:\n",
    "    print('Для квартир вне центра СПБ корреляция цены за м кв с', \n",
    "          parameter, \n",
    "          'равна {:.1f}'\n",
    "          .format(spb_out_of_centre_data['price_per_square_metre'].corr(spb_out_of_centre_data[parameter])))                 "
   ]
  },
  {
   "cell_type": "markdown",
   "metadata": {},
   "source": [
    "Вывод:\n",
    "Цена квартиры вне центра слабо зависит от количества комнат (чем их больше, тем цена дешевле), количества этажей (чем их больше - тем квартира дороже), очень слабо - от этажа, близости к центру, года размещения обявления, высоты потолков. И цена за квадратный метр не зависит от общей площади квартиры, количества балконов, дня и месяца размещения объявления."
   ]
  },
  {
   "cell_type": "markdown",
   "metadata": {},
   "source": [
    "Общий вывод: В целом, я не увидела существенных различий в корреляции цены за кв м и основных факторов в центре и вне центра. Разве что в центре более выржена корреляция цены и количества комнат. "
   ]
  },
  {
   "cell_type": "markdown",
   "metadata": {},
   "source": [
    "VII. Подберу наиболее характерные параметры для апартаментов, студий и квартир свободной планировки. Узнаю, влияют ли они на цену. Сравню со схожими параметрами квартир типовой планировки."
   ]
  },
  {
   "cell_type": "code",
   "execution_count": 143,
   "metadata": {},
   "outputs": [],
   "source": [
    "data_apartment = data.query('is_apartment == True')"
   ]
  },
  {
   "cell_type": "code",
   "execution_count": 144,
   "metadata": {},
   "outputs": [],
   "source": [
    "data_studio = data.query('studio == True')"
   ]
  },
  {
   "cell_type": "code",
   "execution_count": 145,
   "metadata": {},
   "outputs": [],
   "source": [
    "data_open_plan = data.query('open_plan == True')"
   ]
  },
  {
   "cell_type": "code",
   "execution_count": 146,
   "metadata": {
    "scrolled": false
   },
   "outputs": [
    {
     "data": {
      "image/png": "[encoded data removed]",
      "text/plain": [
       "<Figure size 432x288 with 1 Axes>"
      ]
     },
     "metadata": {
      "needs_background": "light"
     },
     "output_type": "display_data"
    },
    {
     "data": {
      "image/png": "[encoded data removed]",
      "text/plain": [
       "<Figure size 432x288 with 1 Axes>"
      ]
     },
     "metadata": {
      "needs_background": "light"
     },
     "output_type": "display_data"
    },
    {
     "data": {
      "image/png": "[encoded data removed]",
      "text/plain": [
       "<Figure size 432x288 with 1 Axes>"
      ]
     },
     "metadata": {
      "needs_background": "light"
     },
     "output_type": "display_data"
    },
    {
     "data": {
      "image/png": "[encoded data removed]",
      "text/plain": [
       "<Figure size 432x288 with 1 Axes>"
      ]
     },
     "metadata": {
      "needs_background": "light"
     },
     "output_type": "display_data"
    },
    {
     "data": {
      "image/png": "[encoded data removed]",
      "text/plain": [
       "<Figure size 432x288 with 1 Axes>"
      ]
     },
     "metadata": {
      "needs_background": "light"
     },
     "output_type": "display_data"
    },
    {
     "data": {
      "image/png": "[encoded data removed]",
      "text/plain": [
       "<Figure size 432x288 with 1 Axes>"
      ]
     },
     "metadata": {
      "needs_background": "light"
     },
     "output_type": "display_data"
    },
    {
     "data": {
      "image/png": "[encoded data removed]",
      "text/plain": [
       "<Figure size 432x288 with 1 Axes>"
      ]
     },
     "metadata": {
      "needs_background": "light"
     },
     "output_type": "display_data"
    },
    {
     "data": {
      "image/png": "[encoded data removed]",
      "text/plain": [
       "<Figure size 432x288 with 1 Axes>"
      ]
     },
     "metadata": {
      "needs_background": "light"
     },
     "output_type": "display_data"
    },
    {
     "data": {
      "image/png": "[encoded data removed]",
      "text/plain": [
       "<Figure size 432x288 with 1 Axes>"
      ]
     },
     "metadata": {
      "needs_background": "light"
     },
     "output_type": "display_data"
    },
    {
     "data": {
      "image/png": "[encoded data removed]",
      "text/plain": [
       "<Figure size 432x288 with 1 Axes>"
      ]
     },
     "metadata": {
      "needs_background": "light"
     },
     "output_type": "display_data"
    },
    {
     "data": {
      "image/png": "[encoded data removed]",
      "text/plain": [
       "<Figure size 432x288 with 1 Axes>"
      ]
     },
     "metadata": {
      "needs_background": "light"
     },
     "output_type": "display_data"
    },
    {
     "data": {
      "image/png": "[encoded data removed]",
      "text/plain": [
       "<Figure size 432x288 with 1 Axes>"
      ]
     },
     "metadata": {
      "needs_background": "light"
     },
     "output_type": "display_data"
    },
    {
     "data": {
      "image/png": "[encoded data removed]",
      "text/plain": [
       "<Figure size 432x288 with 1 Axes>"
      ]
     },
     "metadata": {
      "needs_background": "light"
     },
     "output_type": "display_data"
    },
    {
     "data": {
      "image/png": "[encoded data removed]",
      "text/plain": [
       "<Figure size 432x288 with 1 Axes>"
      ]
     },
     "metadata": {
      "needs_background": "light"
     },
     "output_type": "display_data"
    },
    {
     "data": {
      "image/png": "[encoded data removed]",
      "text/plain": [
       "<Figure size 432x288 with 1 Axes>"
      ]
     },
     "metadata": {
      "needs_background": "light"
     },
     "output_type": "display_data"
    },
    {
     "data": {
      "image/png": "[encoded data removed]",
      "text/plain": [
       "<Figure size 432x288 with 1 Axes>"
      ]
     },
     "metadata": {
      "needs_background": "light"
     },
     "output_type": "display_data"
    },
    {
     "data": {
      "image/png": "[encoded data removed]",
      "text/plain": [
       "<Figure size 432x288 with 1 Axes>"
      ]
     },
     "metadata": {
      "needs_background": "light"
     },
     "output_type": "display_data"
    },
    {
     "data": {
      "image/png": "[encoded data removed]",
      "text/plain": [
       "<Figure size 432x288 with 1 Axes>"
      ]
     },
     "metadata": {
      "needs_background": "light"
     },
     "output_type": "display_data"
    },
    {
     "data": {
      "image/png": "[encoded data removed]",
      "text/plain": [
       "<Figure size 432x288 with 1 Axes>"
      ]
     },
     "metadata": {
      "needs_background": "light"
     },
     "output_type": "display_data"
    },
    {
     "data": {
      "image/png": "[encoded data removed]",
      "text/plain": [
       "<Figure size 432x288 with 1 Axes>"
      ]
     },
     "metadata": {
      "needs_background": "light"
     },
     "output_type": "display_data"
    }
   ],
   "source": [
    "for item in list:\n",
    "    ax = data.plot(kind = 'hist', y = item, title = 'все квартиры');\n",
    "    bx = data_apartment.plot(kind = 'hist',y = item, title = 'апартаменты');\n",
    "    cx = data_studio.plot(kind = 'hist',y = item, title = 'студии');\n",
    "    dx = data_open_plan.plot(kind = 'hist',y = item, title = 'квартиры со свободной планировкой');\n",
    "    ax.set_xlabel(item);\n",
    "    ax.set_ylabel('количество квартир');\n",
    "    bx.set_xlabel(item);\n",
    "    bx.set_ylabel('количество квартир');\n",
    "    cx.set_xlabel(item);\n",
    "    cx.set_ylabel('количество квартир');\n",
    "    dx.set_xlabel(item);\n",
    "    dx.set_ylabel('количество квартир');"
   ]
  },
  {
   "cell_type": "markdown",
   "metadata": {},
   "source": [
    "Вывод:\n",
    "1. Площадь студий и квартир со свободной планировкой в среднем меньше, чем остальных квартир. \n",
    "2. Цена студий и квартир свободной планировки в среднем ниже, чем цена остальных квартир.\n",
    "3. В студиях и квартирах со свободной планировкой в основном 0 комнат, что меньше, чем во всех остальных квартирах.\n",
    "4. Высота потолков в среднем везде одинаковая.\n",
    "5. Студии и квартиры со свободной планировкой в среднем продаются быстрее, чем все остальные.\n",
    "\n",
    "Общий вывод:\n",
    "\n",
    "Данных о апартаментах, студиях, квартирах со свободной планировкой очень мало6 поэтому я не могу в полной мере оценить эти типы квартир.\n",
    "Также мне показались очень странными основные парметры апартаментов - очень разбросаны значения. Я связываю это с тем, что люди, которые заполнили эту графу как \"да\", неправильно понимают суть квартир-апартаментов. Поэтому данную категорию я не оценивала."
   ]
  },
  {
   "cell_type": "code",
   "execution_count": 147,
   "metadata": {},
   "outputs": [
    {
     "name": "stdout",
     "output_type": "stream",
     "text": [
      "Для апартаментов корреляция цены за м кв с rooms равна 0.0\n",
      "Для апартаментов корреляция цены за м кв с floor_category_int равна 0.0\n",
      "Для апартаментов корреляция цены за м кв с cityCenters_nearest равна -0.2\n",
      "Для апартаментов корреляция цены за м кв с total_area равна 0.0\n",
      "Для апартаментов корреляция цены за м кв с weekday равна 0.0\n",
      "Для апартаментов корреляция цены за м кв с month равна -0.2\n",
      "Для апартаментов корреляция цены за м кв с year равна 0.2\n",
      "Для апартаментов корреляция цены за м кв с ceiling_height равна 0.1\n",
      "Для апартаментов корреляция цены за м кв с floors_total равна 0.2\n",
      "Для апартаментов корреляция цены за м кв с balcony равна 0.1\n"
     ]
    }
   ],
   "source": [
    "for parameter in parameters:\n",
    "    print('Для апартаментов корреляция цены за м кв с', \n",
    "          parameter, \n",
    "          'равна {:.1f}'\n",
    "          .format(data_apartment['price_per_square_metre'].corr(data_apartment[parameter])))"
   ]
  },
  {
   "cell_type": "markdown",
   "metadata": {},
   "source": [
    "вывод: Цена апартаментов очень слабо зависит от близости к центру, месяца и года размещения объявления, количества этажей и совсем не зависит от остальных параметров."
   ]
  },
  {
   "cell_type": "code",
   "execution_count": 148,
   "metadata": {},
   "outputs": [
    {
     "name": "stdout",
     "output_type": "stream",
     "text": [
      "Для студий корреляция цены за м кв с rooms равна nan\n",
      "Для студий корреляция цены за м кв с floor_category_int равна -0.5\n",
      "Для студий корреляция цены за м кв с cityCenters_nearest равна -0.6\n",
      "Для студий корреляция цены за м кв с total_area равна 0.3\n",
      "Для студий корреляция цены за м кв с weekday равна -0.5\n",
      "Для студий корреляция цены за м кв с month равна -0.4\n",
      "Для студий корреляция цены за м кв с year равна -0.0\n",
      "Для студий корреляция цены за м кв с ceiling_height равна 0.5\n",
      "Для студий корреляция цены за м кв с floors_total равна -0.0\n",
      "Для студий корреляция цены за м кв с balcony равна 0.2\n"
     ]
    }
   ],
   "source": [
    "for parameter in parameters:\n",
    "    print('Для студий корреляция цены за м кв с', \n",
    "          parameter, \n",
    "          'равна {:.1f}'\n",
    "          .format(data_studio['price_per_square_metre'].corr(data_studio[parameter])))"
   ]
  },
  {
   "cell_type": "markdown",
   "metadata": {},
   "source": [
    "Вывод: Цена студий больше всегт зависит от близости к центру, очень слабо зависит от этажа, высоты потолков и количества балконов и совсем не зависит от остальных параметров."
   ]
  },
  {
   "cell_type": "code",
   "execution_count": 149,
   "metadata": {},
   "outputs": [
    {
     "name": "stdout",
     "output_type": "stream",
     "text": [
      "Для квартир со свободной планировкой корреляция цены за м кв с rooms равна -0.1\n",
      "Для квартир со свободной планировкой корреляция цены за м кв с floor_category_int равна -0.0\n",
      "Для квартир со свободной планировкой корреляция цены за м кв с cityCenters_nearest равна -0.6\n",
      "Для квартир со свободной планировкой корреляция цены за м кв с total_area равна 0.2\n",
      "Для квартир со свободной планировкой корреляция цены за м кв с weekday равна -0.4\n",
      "Для квартир со свободной планировкой корреляция цены за м кв с month равна 0.5\n",
      "Для квартир со свободной планировкой корреляция цены за м кв с year равна 0.0\n",
      "Для квартир со свободной планировкой корреляция цены за м кв с ceiling_height равна 0.6\n",
      "Для квартир со свободной планировкой корреляция цены за м кв с floors_total равна 0.4\n",
      "Для квартир со свободной планировкой корреляция цены за м кв с balcony равна -0.3\n"
     ]
    }
   ],
   "source": [
    "for parameter in parameters:\n",
    "    print('Для квартир со свободной планировкой корреляция цены за м кв с', \n",
    "          parameter, \n",
    "          'равна {:.1f}'\n",
    "          .format(data_open_plan['price_per_square_metre'].corr(data_open_plan[parameter])))"
   ]
  },
  {
   "cell_type": "markdown",
   "metadata": {},
   "source": [
    "Цена квартир со свободной планировкой больше всего зависит от близости к центру, очень слабо зависит от высоты потолков и количества этажей и совсем не зависит от остальных параметров."
   ]
  },
  {
   "cell_type": "markdown",
   "metadata": {},
   "source": [
    "Общий вывод: \n",
    "I.\n",
    "1. Большая часть квартир стоит до 14 млн, в среднем, квартира стоит 4.65 млн\n",
    "2. Большая часть квартир имеет площадь до 130 м кв, средняя площадь квартиры - 52 км м\n",
    "3. В большей части квартир до 7 комнат, в среднем - 2 комнаты.\n",
    "4. В большей части квартир потолки до 3 м, в среднем - 2.7 м\n",
    "5. Большая часть квартир продается за период до 600 дней. В среднем, квартира продается за 95 дней. Если квартира продается быстрее, чем за 45 дней, значит, она продалась быстро, если дольше, чем за 232 дня - квартира проедается долго.\n",
    "\n",
    "II.\n",
    "\n",
    "Больше всего цена квартиры зависит от близости к центру, меньше всего - от даты размещения объявления. Для квартир в центре СПБ близость к центру не так важна (они все близко), для них цена квадратного метра становится тем дешевле, чем больше комнат и площадь.\n",
    "\n",
    "III.\n",
    "\n",
    "Самая дорога недвижимость находится в Поселке Лисий нос - это поселок с элитной недвижимостью. СПБ на втором месте, далее идут Зеленогорск - курортный город ЛО и Сестрорецк - поселок рядом с Лисьим носом и, соответственно, элитной недвижимостью.\n",
    "Самое дешевое жилье в Деревне Старополье.\n",
    "Если рассматривать выборку объявлений из ЛО, то населеные пункты с самым большим количеством объявлений - это Кудрово и Пушкин.\n",
    "\n",
    "IV. Студии и квартиры со свободной планировкой в среднем дешевле и меньше всех остальных квартир и продаются они немного быстрее.\n"
   ]
  },
  {
   "cell_type": "markdown",
   "metadata": {},
   "source": [
    "### Шаг 5. Общий вывод"
   ]
  },
  {
   "cell_type": "markdown",
   "metadata": {},
   "source": [
    "I. Чистота данных.\n",
    "\n",
    "Пропусков в изначальном датафрейме было очень много - в 14 столбцах из 31. Это логично - большую часть параметров заполняли люди, а они не любят заполнять абсолютно все ячейки в форме, или даже просто не знают некоторых данных о своей квартире. Также много пропусков было в картографических данных, рассчитываемых автоматически, и некоторые данные противоречили друг другу.И если на пропуски в данных, которые заполняют люди, мы не можем повлиять, то пропуски в картографических данных вполне возможно исключить в будущем. Возможно, какая-то настройка работает неправильно, об этом я бы сообщила коллегам, занимающимся сбором данных и попросила поправить. \n",
    "В картографических данных было слишком много пропусков, а также противоречий, поэтому я не использовала их при анализе.\n",
    "\n",
    "II. Основные параметры квартир.\n",
    "\n",
    "1. Большая часть квартир стоит до 14 млн, в среднем, квартира стоит 4.65 млн\n",
    "2. Большая часть квартир имеет площадь до 130 м кв, средняя площадь квартиры - 52 км м\n",
    "3. В большей части квартир до 7 комнат, в среднем - 2 комнаты.\n",
    "4. В большей части квартир потолки до 3 м, в среднем - 2.7 м\n",
    "5. Большая часть квартир продается за период до 600 дней. В среднем, квартира продается за 95 дней. Если квартира продается быстрее, чем за 45 дней, значит, она продалась быстро, если дольше, чем за 232 дня - квартира продается долго.\n",
    "\n",
    "III. Цена квартир.\n",
    "\n",
    "Самая дорога недвижимость находится в Поселке Лисий нос - это поселок с элитной недвижимостью. СПБ на втором месте, далее идут Зеленогорск - курортный город ЛО и Сестрорецк - поселок рядом с Лисьим носом и, соответственно, элитной недвижимостью.\n",
    "Самое дешевое жилье в Деревне Старополье.\n",
    "\n",
    "IV. Сравнительный анализ квартир в центре и вне центра СПБ:\n",
    "\n",
    "1. В центре средняя площадь квартир больше, чем вне центра. Вне центра очень мало квартир более 80 м кв, в то время как в центре такие квартиры встречаются часто.\n",
    "2. В центре квартиры дороже, чем вне центра. Основная масса квартир вне центра стоит до 7 млн рублей, в центре - больше 7ми.\n",
    "3. В центре преобладают 2-комнатные квартиры, вне центра - 1-комнатные. \n",
    "4. Средняя высота потолков и в центре и вне его примерно равна, однако в центре намного чаще встречаются квартиры с потолками выше среднего, вне центра - наоборот, чаще можно купить квартиру с потолками ниже среднего.\n",
    "5. Колчество дней продажи квартиры и в центре и вне центра распределено примерно одинаково. На каждую квартиру найдется свой покупатель.\n",
    "\n",
    "V. Факторы, влияющие на цену квартиры.\n",
    "\n",
    "Больше всего цена квартиры зависит от близости к центру, меньше всего - от даты размещения объявления, но и остальные параметры малозначительны. Для квартир в центре СПБ близость к центру не так важна (они все близко), для них более всего влияет на цену количество комнат и площадь квартиры: цена квадратного метра становится тем дешевле, чем больше комнат и площадь.\n",
    "\n",
    "VI. Студии и квартиры со свободной планировкой в среднем дешевле и меньше всех остальных квартир и продаются они немного быстрее. "
   ]
  }
 ],
 "metadata": {
  "kernelspec": {
   "display_name": "Python 3",
   "language": "python",
   "name": "python3"
  },
  "language_info": {
   "codemirror_mode": {
    "name": "ipython",
    "version": 3
   },
   "file_extension": ".py",
   "mimetype": "text/x-python",
   "name": "python",
   "nbconvert_exporter": "python",
   "pygments_lexer": "ipython3",
   "version": "3.7.6"
  }
 },
 "nbformat": 4,
 "nbformat_minor": 2
}
